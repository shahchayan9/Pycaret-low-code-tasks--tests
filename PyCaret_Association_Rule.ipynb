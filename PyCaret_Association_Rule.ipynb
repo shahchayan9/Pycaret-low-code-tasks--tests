{
  "nbformat": 4,
  "nbformat_minor": 0,
  "metadata": {
    "colab": {
      "provenance": [],
      "authorship_tag": "ABX9TyPhAloRNmT5yNgvEBUOrgrN",
      "include_colab_link": true
    },
    "kernelspec": {
      "name": "python3",
      "display_name": "Python 3"
    },
    "language_info": {
      "name": "python"
    }
  },
  "cells": [
    {
      "cell_type": "markdown",
      "metadata": {
        "id": "view-in-github",
        "colab_type": "text"
      },
      "source": [
        "<a href=\"https://colab.research.google.com/github/shahchayan9/Pycaret-low-code-tasks/blob/main/PyCaret_Association_Rule.ipynb\" target=\"_parent\"><img src=\"https://colab.research.google.com/assets/colab-badge.svg\" alt=\"Open In Colab\"/></a>"
      ]
    },
    {
      "cell_type": "code",
      "execution_count": 1,
      "metadata": {
        "colab": {
          "base_uri": "https://localhost:8080/"
        },
        "id": "zLKVRYVNG-Ar",
        "outputId": "f53fabf0-6461-4de3-df73-af8766da0efe"
      },
      "outputs": [
        {
          "output_type": "stream",
          "name": "stdout",
          "text": [
            "Collecting pycaret\n",
            "  Downloading pycaret-3.3.2-py3-none-any.whl.metadata (17 kB)\n",
            "Requirement already satisfied: ipython>=5.5.0 in /usr/local/lib/python3.10/dist-packages (from pycaret) (7.34.0)\n",
            "Requirement already satisfied: ipywidgets>=7.6.5 in /usr/local/lib/python3.10/dist-packages (from pycaret) (7.7.1)\n",
            "Requirement already satisfied: tqdm>=4.62.0 in /usr/local/lib/python3.10/dist-packages (from pycaret) (4.66.5)\n",
            "Requirement already satisfied: numpy<1.27,>=1.21 in /usr/local/lib/python3.10/dist-packages (from pycaret) (1.26.4)\n",
            "Requirement already satisfied: pandas<2.2.0 in /usr/local/lib/python3.10/dist-packages (from pycaret) (2.1.4)\n",
            "Requirement already satisfied: jinja2>=3 in /usr/local/lib/python3.10/dist-packages (from pycaret) (3.1.4)\n",
            "Collecting scipy<=1.11.4,>=1.6.1 (from pycaret)\n",
            "  Downloading scipy-1.11.4-cp310-cp310-manylinux_2_17_x86_64.manylinux2014_x86_64.whl.metadata (60 kB)\n",
            "\u001b[2K     \u001b[90m━━━━━━━━━━━━━━━━━━━━━━━━━━━━━━━━━━━━━━━━\u001b[0m \u001b[32m60.4/60.4 kB\u001b[0m \u001b[31m1.1 MB/s\u001b[0m eta \u001b[36m0:00:00\u001b[0m\n",
            "\u001b[?25hCollecting joblib<1.4,>=1.2.0 (from pycaret)\n",
            "  Downloading joblib-1.3.2-py3-none-any.whl.metadata (5.4 kB)\n",
            "Collecting scikit-learn>1.4.0 (from pycaret)\n",
            "  Downloading scikit_learn-1.5.2-cp310-cp310-manylinux_2_17_x86_64.manylinux2014_x86_64.whl.metadata (13 kB)\n",
            "Collecting pyod>=1.1.3 (from pycaret)\n",
            "  Downloading pyod-2.0.2.tar.gz (165 kB)\n",
            "\u001b[2K     \u001b[90m━━━━━━━━━━━━━━━━━━━━━━━━━━━━━━━━━━━━━━━━\u001b[0m \u001b[32m165.8/165.8 kB\u001b[0m \u001b[31m6.3 MB/s\u001b[0m eta \u001b[36m0:00:00\u001b[0m\n",
            "\u001b[?25h  Preparing metadata (setup.py) ... \u001b[?25l\u001b[?25hdone\n",
            "Requirement already satisfied: imbalanced-learn>=0.12.0 in /usr/local/lib/python3.10/dist-packages (from pycaret) (0.12.3)\n",
            "Collecting category-encoders>=2.4.0 (from pycaret)\n",
            "  Downloading category_encoders-2.6.3-py2.py3-none-any.whl.metadata (8.0 kB)\n",
            "Requirement already satisfied: lightgbm>=3.0.0 in /usr/local/lib/python3.10/dist-packages (from pycaret) (4.5.0)\n",
            "Requirement already satisfied: numba>=0.55.0 in /usr/local/lib/python3.10/dist-packages (from pycaret) (0.60.0)\n",
            "Requirement already satisfied: requests>=2.27.1 in /usr/local/lib/python3.10/dist-packages (from pycaret) (2.32.3)\n",
            "Requirement already satisfied: psutil>=5.9.0 in /usr/local/lib/python3.10/dist-packages (from pycaret) (5.9.5)\n",
            "Requirement already satisfied: markupsafe>=2.0.1 in /usr/local/lib/python3.10/dist-packages (from pycaret) (2.1.5)\n",
            "Requirement already satisfied: importlib-metadata>=4.12.0 in /usr/local/lib/python3.10/dist-packages (from pycaret) (8.5.0)\n",
            "Requirement already satisfied: nbformat>=4.2.0 in /usr/local/lib/python3.10/dist-packages (from pycaret) (5.10.4)\n",
            "Requirement already satisfied: cloudpickle in /usr/local/lib/python3.10/dist-packages (from pycaret) (2.2.1)\n",
            "Collecting deprecation>=2.1.0 (from pycaret)\n",
            "  Downloading deprecation-2.1.0-py2.py3-none-any.whl.metadata (4.6 kB)\n",
            "Collecting xxhash (from pycaret)\n",
            "  Downloading xxhash-3.5.0-cp310-cp310-manylinux_2_17_x86_64.manylinux2014_x86_64.whl.metadata (12 kB)\n",
            "Requirement already satisfied: matplotlib<3.8.0 in /usr/local/lib/python3.10/dist-packages (from pycaret) (3.7.1)\n",
            "Collecting scikit-plot>=0.3.7 (from pycaret)\n",
            "  Downloading scikit_plot-0.3.7-py3-none-any.whl.metadata (7.1 kB)\n",
            "Requirement already satisfied: yellowbrick>=1.4 in /usr/local/lib/python3.10/dist-packages (from pycaret) (1.5)\n",
            "Requirement already satisfied: plotly>=5.14.0 in /usr/local/lib/python3.10/dist-packages (from pycaret) (5.15.0)\n",
            "Collecting kaleido>=0.2.1 (from pycaret)\n",
            "  Downloading kaleido-0.2.1-py2.py3-none-manylinux1_x86_64.whl.metadata (15 kB)\n",
            "Collecting schemdraw==0.15 (from pycaret)\n",
            "  Downloading schemdraw-0.15-py3-none-any.whl.metadata (2.2 kB)\n",
            "Collecting plotly-resampler>=0.8.3.1 (from pycaret)\n",
            "  Downloading plotly_resampler-0.10.0-py3-none-any.whl.metadata (13 kB)\n",
            "Requirement already satisfied: statsmodels>=0.12.1 in /usr/local/lib/python3.10/dist-packages (from pycaret) (0.14.3)\n",
            "Collecting sktime==0.26.0 (from pycaret)\n",
            "  Downloading sktime-0.26.0-py3-none-any.whl.metadata (29 kB)\n",
            "Collecting tbats>=1.1.3 (from pycaret)\n",
            "  Downloading tbats-1.1.3-py3-none-any.whl.metadata (3.8 kB)\n",
            "Collecting pmdarima>=2.0.4 (from pycaret)\n",
            "  Downloading pmdarima-2.0.4-cp310-cp310-manylinux_2_17_x86_64.manylinux2014_x86_64.manylinux_2_28_x86_64.whl.metadata (7.8 kB)\n",
            "Collecting wurlitzer (from pycaret)\n",
            "  Downloading wurlitzer-3.1.1-py3-none-any.whl.metadata (2.5 kB)\n",
            "Requirement already satisfied: packaging in /usr/local/lib/python3.10/dist-packages (from sktime==0.26.0->pycaret) (24.1)\n",
            "Collecting scikit-base<0.8.0 (from sktime==0.26.0->pycaret)\n",
            "  Downloading scikit_base-0.7.8-py3-none-any.whl.metadata (8.8 kB)\n",
            "Collecting scikit-learn>1.4.0 (from pycaret)\n",
            "  Downloading scikit_learn-1.4.2-cp310-cp310-manylinux_2_17_x86_64.manylinux2014_x86_64.whl.metadata (11 kB)\n",
            "Requirement already satisfied: patsy>=0.5.1 in /usr/local/lib/python3.10/dist-packages (from category-encoders>=2.4.0->pycaret) (0.5.6)\n",
            "Requirement already satisfied: threadpoolctl>=2.0.0 in /usr/local/lib/python3.10/dist-packages (from imbalanced-learn>=0.12.0->pycaret) (3.5.0)\n",
            "Requirement already satisfied: zipp>=3.20 in /usr/local/lib/python3.10/dist-packages (from importlib-metadata>=4.12.0->pycaret) (3.20.2)\n",
            "Requirement already satisfied: setuptools>=18.5 in /usr/local/lib/python3.10/dist-packages (from ipython>=5.5.0->pycaret) (71.0.4)\n",
            "Collecting jedi>=0.16 (from ipython>=5.5.0->pycaret)\n",
            "  Using cached jedi-0.19.1-py2.py3-none-any.whl.metadata (22 kB)\n",
            "Requirement already satisfied: decorator in /usr/local/lib/python3.10/dist-packages (from ipython>=5.5.0->pycaret) (4.4.2)\n",
            "Requirement already satisfied: pickleshare in /usr/local/lib/python3.10/dist-packages (from ipython>=5.5.0->pycaret) (0.7.5)\n",
            "Requirement already satisfied: traitlets>=4.2 in /usr/local/lib/python3.10/dist-packages (from ipython>=5.5.0->pycaret) (5.7.1)\n",
            "Requirement already satisfied: prompt-toolkit!=3.0.0,!=3.0.1,<3.1.0,>=2.0.0 in /usr/local/lib/python3.10/dist-packages (from ipython>=5.5.0->pycaret) (3.0.47)\n",
            "Requirement already satisfied: pygments in /usr/local/lib/python3.10/dist-packages (from ipython>=5.5.0->pycaret) (2.18.0)\n",
            "Requirement already satisfied: backcall in /usr/local/lib/python3.10/dist-packages (from ipython>=5.5.0->pycaret) (0.2.0)\n",
            "Requirement already satisfied: matplotlib-inline in /usr/local/lib/python3.10/dist-packages (from ipython>=5.5.0->pycaret) (0.1.7)\n",
            "Requirement already satisfied: pexpect>4.3 in /usr/local/lib/python3.10/dist-packages (from ipython>=5.5.0->pycaret) (4.9.0)\n",
            "Requirement already satisfied: ipykernel>=4.5.1 in /usr/local/lib/python3.10/dist-packages (from ipywidgets>=7.6.5->pycaret) (5.5.6)\n",
            "Requirement already satisfied: ipython-genutils~=0.2.0 in /usr/local/lib/python3.10/dist-packages (from ipywidgets>=7.6.5->pycaret) (0.2.0)\n",
            "Requirement already satisfied: widgetsnbextension~=3.6.0 in /usr/local/lib/python3.10/dist-packages (from ipywidgets>=7.6.5->pycaret) (3.6.9)\n",
            "Requirement already satisfied: jupyterlab-widgets>=1.0.0 in /usr/local/lib/python3.10/dist-packages (from ipywidgets>=7.6.5->pycaret) (3.0.13)\n",
            "Requirement already satisfied: contourpy>=1.0.1 in /usr/local/lib/python3.10/dist-packages (from matplotlib<3.8.0->pycaret) (1.3.0)\n",
            "Requirement already satisfied: cycler>=0.10 in /usr/local/lib/python3.10/dist-packages (from matplotlib<3.8.0->pycaret) (0.12.1)\n",
            "Requirement already satisfied: fonttools>=4.22.0 in /usr/local/lib/python3.10/dist-packages (from matplotlib<3.8.0->pycaret) (4.53.1)\n",
            "Requirement already satisfied: kiwisolver>=1.0.1 in /usr/local/lib/python3.10/dist-packages (from matplotlib<3.8.0->pycaret) (1.4.7)\n",
            "Requirement already satisfied: pillow>=6.2.0 in /usr/local/lib/python3.10/dist-packages (from matplotlib<3.8.0->pycaret) (10.4.0)\n",
            "Requirement already satisfied: pyparsing>=2.3.1 in /usr/local/lib/python3.10/dist-packages (from matplotlib<3.8.0->pycaret) (3.1.4)\n",
            "Requirement already satisfied: python-dateutil>=2.7 in /usr/local/lib/python3.10/dist-packages (from matplotlib<3.8.0->pycaret) (2.8.2)\n",
            "Requirement already satisfied: fastjsonschema>=2.15 in /usr/local/lib/python3.10/dist-packages (from nbformat>=4.2.0->pycaret) (2.20.0)\n",
            "Requirement already satisfied: jsonschema>=2.6 in /usr/local/lib/python3.10/dist-packages (from nbformat>=4.2.0->pycaret) (4.23.0)\n",
            "Requirement already satisfied: jupyter-core!=5.0.*,>=4.12 in /usr/local/lib/python3.10/dist-packages (from nbformat>=4.2.0->pycaret) (5.7.2)\n",
            "Requirement already satisfied: llvmlite<0.44,>=0.43.0dev0 in /usr/local/lib/python3.10/dist-packages (from numba>=0.55.0->pycaret) (0.43.0)\n",
            "Requirement already satisfied: pytz>=2020.1 in /usr/local/lib/python3.10/dist-packages (from pandas<2.2.0->pycaret) (2024.2)\n",
            "Requirement already satisfied: tzdata>=2022.1 in /usr/local/lib/python3.10/dist-packages (from pandas<2.2.0->pycaret) (2024.1)\n",
            "Requirement already satisfied: tenacity>=6.2.0 in /usr/local/lib/python3.10/dist-packages (from plotly>=5.14.0->pycaret) (9.0.0)\n",
            "Collecting dash>=2.9.0 (from plotly-resampler>=0.8.3.1->pycaret)\n",
            "  Downloading dash-2.18.1-py3-none-any.whl.metadata (10 kB)\n",
            "Collecting orjson<4.0.0,>=3.8.0 (from plotly-resampler>=0.8.3.1->pycaret)\n",
            "  Downloading orjson-3.10.7-cp310-cp310-manylinux_2_17_x86_64.manylinux2014_x86_64.whl.metadata (50 kB)\n",
            "\u001b[2K     \u001b[90m━━━━━━━━━━━━━━━━━━━━━━━━━━━━━━━━━━━━━━━━\u001b[0m \u001b[32m50.4/50.4 kB\u001b[0m \u001b[31m1.4 MB/s\u001b[0m eta \u001b[36m0:00:00\u001b[0m\n",
            "\u001b[?25hCollecting tsdownsample>=0.1.3 (from plotly-resampler>=0.8.3.1->pycaret)\n",
            "  Downloading tsdownsample-0.1.3-cp310-cp310-manylinux_2_17_x86_64.manylinux2014_x86_64.whl.metadata (7.9 kB)\n",
            "Requirement already satisfied: Cython!=0.29.18,!=0.29.31,>=0.29 in /usr/local/lib/python3.10/dist-packages (from pmdarima>=2.0.4->pycaret) (3.0.11)\n",
            "Requirement already satisfied: urllib3 in /usr/local/lib/python3.10/dist-packages (from pmdarima>=2.0.4->pycaret) (2.0.7)\n",
            "Requirement already satisfied: charset-normalizer<4,>=2 in /usr/local/lib/python3.10/dist-packages (from requests>=2.27.1->pycaret) (3.3.2)\n",
            "Requirement already satisfied: idna<4,>=2.5 in /usr/local/lib/python3.10/dist-packages (from requests>=2.27.1->pycaret) (3.10)\n",
            "Requirement already satisfied: certifi>=2017.4.17 in /usr/local/lib/python3.10/dist-packages (from requests>=2.27.1->pycaret) (2024.8.30)\n",
            "Requirement already satisfied: Flask<3.1,>=1.0.4 in /usr/local/lib/python3.10/dist-packages (from dash>=2.9.0->plotly-resampler>=0.8.3.1->pycaret) (2.2.5)\n",
            "Requirement already satisfied: Werkzeug<3.1 in /usr/local/lib/python3.10/dist-packages (from dash>=2.9.0->plotly-resampler>=0.8.3.1->pycaret) (3.0.4)\n",
            "Collecting dash-html-components==2.0.0 (from dash>=2.9.0->plotly-resampler>=0.8.3.1->pycaret)\n",
            "  Downloading dash_html_components-2.0.0-py3-none-any.whl.metadata (3.8 kB)\n",
            "Collecting dash-core-components==2.0.0 (from dash>=2.9.0->plotly-resampler>=0.8.3.1->pycaret)\n",
            "  Downloading dash_core_components-2.0.0-py3-none-any.whl.metadata (2.9 kB)\n",
            "Collecting dash-table==5.0.0 (from dash>=2.9.0->plotly-resampler>=0.8.3.1->pycaret)\n",
            "  Downloading dash_table-5.0.0-py3-none-any.whl.metadata (2.4 kB)\n",
            "Requirement already satisfied: typing-extensions>=4.1.1 in /usr/local/lib/python3.10/dist-packages (from dash>=2.9.0->plotly-resampler>=0.8.3.1->pycaret) (4.12.2)\n",
            "Collecting retrying (from dash>=2.9.0->plotly-resampler>=0.8.3.1->pycaret)\n",
            "  Downloading retrying-1.3.4-py3-none-any.whl.metadata (6.9 kB)\n",
            "Requirement already satisfied: nest-asyncio in /usr/local/lib/python3.10/dist-packages (from dash>=2.9.0->plotly-resampler>=0.8.3.1->pycaret) (1.6.0)\n",
            "Requirement already satisfied: jupyter-client in /usr/local/lib/python3.10/dist-packages (from ipykernel>=4.5.1->ipywidgets>=7.6.5->pycaret) (6.1.12)\n",
            "Requirement already satisfied: tornado>=4.2 in /usr/local/lib/python3.10/dist-packages (from ipykernel>=4.5.1->ipywidgets>=7.6.5->pycaret) (6.3.3)\n",
            "Requirement already satisfied: parso<0.9.0,>=0.8.3 in /usr/local/lib/python3.10/dist-packages (from jedi>=0.16->ipython>=5.5.0->pycaret) (0.8.4)\n",
            "Requirement already satisfied: attrs>=22.2.0 in /usr/local/lib/python3.10/dist-packages (from jsonschema>=2.6->nbformat>=4.2.0->pycaret) (24.2.0)\n",
            "Requirement already satisfied: jsonschema-specifications>=2023.03.6 in /usr/local/lib/python3.10/dist-packages (from jsonschema>=2.6->nbformat>=4.2.0->pycaret) (2023.12.1)\n",
            "Requirement already satisfied: referencing>=0.28.4 in /usr/local/lib/python3.10/dist-packages (from jsonschema>=2.6->nbformat>=4.2.0->pycaret) (0.35.1)\n",
            "Requirement already satisfied: rpds-py>=0.7.1 in /usr/local/lib/python3.10/dist-packages (from jsonschema>=2.6->nbformat>=4.2.0->pycaret) (0.20.0)\n",
            "Requirement already satisfied: platformdirs>=2.5 in /usr/local/lib/python3.10/dist-packages (from jupyter-core!=5.0.*,>=4.12->nbformat>=4.2.0->pycaret) (4.3.6)\n",
            "Requirement already satisfied: six in /usr/local/lib/python3.10/dist-packages (from patsy>=0.5.1->category-encoders>=2.4.0->pycaret) (1.16.0)\n",
            "Requirement already satisfied: ptyprocess>=0.5 in /usr/local/lib/python3.10/dist-packages (from pexpect>4.3->ipython>=5.5.0->pycaret) (0.7.0)\n",
            "Requirement already satisfied: wcwidth in /usr/local/lib/python3.10/dist-packages (from prompt-toolkit!=3.0.0,!=3.0.1,<3.1.0,>=2.0.0->ipython>=5.5.0->pycaret) (0.2.13)\n",
            "Requirement already satisfied: notebook>=4.4.1 in /usr/local/lib/python3.10/dist-packages (from widgetsnbextension~=3.6.0->ipywidgets>=7.6.5->pycaret) (6.5.5)\n",
            "Requirement already satisfied: itsdangerous>=2.0 in /usr/local/lib/python3.10/dist-packages (from Flask<3.1,>=1.0.4->dash>=2.9.0->plotly-resampler>=0.8.3.1->pycaret) (2.2.0)\n",
            "Requirement already satisfied: click>=8.0 in /usr/local/lib/python3.10/dist-packages (from Flask<3.1,>=1.0.4->dash>=2.9.0->plotly-resampler>=0.8.3.1->pycaret) (8.1.7)\n",
            "Requirement already satisfied: pyzmq<25,>=17 in /usr/local/lib/python3.10/dist-packages (from notebook>=4.4.1->widgetsnbextension~=3.6.0->ipywidgets>=7.6.5->pycaret) (24.0.1)\n",
            "Requirement already satisfied: argon2-cffi in /usr/local/lib/python3.10/dist-packages (from notebook>=4.4.1->widgetsnbextension~=3.6.0->ipywidgets>=7.6.5->pycaret) (23.1.0)\n",
            "Requirement already satisfied: nbconvert>=5 in /usr/local/lib/python3.10/dist-packages (from notebook>=4.4.1->widgetsnbextension~=3.6.0->ipywidgets>=7.6.5->pycaret) (6.5.4)\n",
            "Requirement already satisfied: Send2Trash>=1.8.0 in /usr/local/lib/python3.10/dist-packages (from notebook>=4.4.1->widgetsnbextension~=3.6.0->ipywidgets>=7.6.5->pycaret) (1.8.3)\n",
            "Requirement already satisfied: terminado>=0.8.3 in /usr/local/lib/python3.10/dist-packages (from notebook>=4.4.1->widgetsnbextension~=3.6.0->ipywidgets>=7.6.5->pycaret) (0.18.1)\n",
            "Requirement already satisfied: prometheus-client in /usr/local/lib/python3.10/dist-packages (from notebook>=4.4.1->widgetsnbextension~=3.6.0->ipywidgets>=7.6.5->pycaret) (0.20.0)\n",
            "Requirement already satisfied: nbclassic>=0.4.7 in /usr/local/lib/python3.10/dist-packages (from notebook>=4.4.1->widgetsnbextension~=3.6.0->ipywidgets>=7.6.5->pycaret) (1.1.0)\n",
            "Requirement already satisfied: notebook-shim>=0.2.3 in /usr/local/lib/python3.10/dist-packages (from nbclassic>=0.4.7->notebook>=4.4.1->widgetsnbextension~=3.6.0->ipywidgets>=7.6.5->pycaret) (0.2.4)\n",
            "Requirement already satisfied: lxml in /usr/local/lib/python3.10/dist-packages (from nbconvert>=5->notebook>=4.4.1->widgetsnbextension~=3.6.0->ipywidgets>=7.6.5->pycaret) (4.9.4)\n",
            "Requirement already satisfied: beautifulsoup4 in /usr/local/lib/python3.10/dist-packages (from nbconvert>=5->notebook>=4.4.1->widgetsnbextension~=3.6.0->ipywidgets>=7.6.5->pycaret) (4.12.3)\n",
            "Requirement already satisfied: bleach in /usr/local/lib/python3.10/dist-packages (from nbconvert>=5->notebook>=4.4.1->widgetsnbextension~=3.6.0->ipywidgets>=7.6.5->pycaret) (6.1.0)\n",
            "Requirement already satisfied: defusedxml in /usr/local/lib/python3.10/dist-packages (from nbconvert>=5->notebook>=4.4.1->widgetsnbextension~=3.6.0->ipywidgets>=7.6.5->pycaret) (0.7.1)\n",
            "Requirement already satisfied: entrypoints>=0.2.2 in /usr/local/lib/python3.10/dist-packages (from nbconvert>=5->notebook>=4.4.1->widgetsnbextension~=3.6.0->ipywidgets>=7.6.5->pycaret) (0.4)\n",
            "Requirement already satisfied: jupyterlab-pygments in /usr/local/lib/python3.10/dist-packages (from nbconvert>=5->notebook>=4.4.1->widgetsnbextension~=3.6.0->ipywidgets>=7.6.5->pycaret) (0.3.0)\n",
            "Requirement already satisfied: mistune<2,>=0.8.1 in /usr/local/lib/python3.10/dist-packages (from nbconvert>=5->notebook>=4.4.1->widgetsnbextension~=3.6.0->ipywidgets>=7.6.5->pycaret) (0.8.4)\n",
            "Requirement already satisfied: nbclient>=0.5.0 in /usr/local/lib/python3.10/dist-packages (from nbconvert>=5->notebook>=4.4.1->widgetsnbextension~=3.6.0->ipywidgets>=7.6.5->pycaret) (0.10.0)\n",
            "Requirement already satisfied: pandocfilters>=1.4.1 in /usr/local/lib/python3.10/dist-packages (from nbconvert>=5->notebook>=4.4.1->widgetsnbextension~=3.6.0->ipywidgets>=7.6.5->pycaret) (1.5.1)\n",
            "Requirement already satisfied: tinycss2 in /usr/local/lib/python3.10/dist-packages (from nbconvert>=5->notebook>=4.4.1->widgetsnbextension~=3.6.0->ipywidgets>=7.6.5->pycaret) (1.3.0)\n",
            "Requirement already satisfied: argon2-cffi-bindings in /usr/local/lib/python3.10/dist-packages (from argon2-cffi->notebook>=4.4.1->widgetsnbextension~=3.6.0->ipywidgets>=7.6.5->pycaret) (21.2.0)\n",
            "Requirement already satisfied: jupyter-server<3,>=1.8 in /usr/local/lib/python3.10/dist-packages (from notebook-shim>=0.2.3->nbclassic>=0.4.7->notebook>=4.4.1->widgetsnbextension~=3.6.0->ipywidgets>=7.6.5->pycaret) (1.24.0)\n",
            "Requirement already satisfied: cffi>=1.0.1 in /usr/local/lib/python3.10/dist-packages (from argon2-cffi-bindings->argon2-cffi->notebook>=4.4.1->widgetsnbextension~=3.6.0->ipywidgets>=7.6.5->pycaret) (1.17.1)\n",
            "Requirement already satisfied: soupsieve>1.2 in /usr/local/lib/python3.10/dist-packages (from beautifulsoup4->nbconvert>=5->notebook>=4.4.1->widgetsnbextension~=3.6.0->ipywidgets>=7.6.5->pycaret) (2.6)\n",
            "Requirement already satisfied: webencodings in /usr/local/lib/python3.10/dist-packages (from bleach->nbconvert>=5->notebook>=4.4.1->widgetsnbextension~=3.6.0->ipywidgets>=7.6.5->pycaret) (0.5.1)\n",
            "Requirement already satisfied: pycparser in /usr/local/lib/python3.10/dist-packages (from cffi>=1.0.1->argon2-cffi-bindings->argon2-cffi->notebook>=4.4.1->widgetsnbextension~=3.6.0->ipywidgets>=7.6.5->pycaret) (2.22)\n",
            "Requirement already satisfied: anyio<4,>=3.1.0 in /usr/local/lib/python3.10/dist-packages (from jupyter-server<3,>=1.8->notebook-shim>=0.2.3->nbclassic>=0.4.7->notebook>=4.4.1->widgetsnbextension~=3.6.0->ipywidgets>=7.6.5->pycaret) (3.7.1)\n",
            "Requirement already satisfied: websocket-client in /usr/local/lib/python3.10/dist-packages (from jupyter-server<3,>=1.8->notebook-shim>=0.2.3->nbclassic>=0.4.7->notebook>=4.4.1->widgetsnbextension~=3.6.0->ipywidgets>=7.6.5->pycaret) (1.8.0)\n",
            "Requirement already satisfied: sniffio>=1.1 in /usr/local/lib/python3.10/dist-packages (from anyio<4,>=3.1.0->jupyter-server<3,>=1.8->notebook-shim>=0.2.3->nbclassic>=0.4.7->notebook>=4.4.1->widgetsnbextension~=3.6.0->ipywidgets>=7.6.5->pycaret) (1.3.1)\n",
            "Requirement already satisfied: exceptiongroup in /usr/local/lib/python3.10/dist-packages (from anyio<4,>=3.1.0->jupyter-server<3,>=1.8->notebook-shim>=0.2.3->nbclassic>=0.4.7->notebook>=4.4.1->widgetsnbextension~=3.6.0->ipywidgets>=7.6.5->pycaret) (1.2.2)\n",
            "Downloading pycaret-3.3.2-py3-none-any.whl (486 kB)\n",
            "\u001b[2K   \u001b[90m━━━━━━━━━━━━━━━━━━━━━━━━━━━━━━━━━━━━━━━━\u001b[0m \u001b[32m486.1/486.1 kB\u001b[0m \u001b[31m11.3 MB/s\u001b[0m eta \u001b[36m0:00:00\u001b[0m\n",
            "\u001b[?25hDownloading schemdraw-0.15-py3-none-any.whl (106 kB)\n",
            "\u001b[2K   \u001b[90m━━━━━━━━━━━━━━━━━━━━━━━━━━━━━━━━━━━━━━━━\u001b[0m \u001b[32m106.8/106.8 kB\u001b[0m \u001b[31m8.4 MB/s\u001b[0m eta \u001b[36m0:00:00\u001b[0m\n",
            "\u001b[?25hDownloading sktime-0.26.0-py3-none-any.whl (21.8 MB)\n",
            "\u001b[2K   \u001b[90m━━━━━━━━━━━━━━━━━━━━━━━━━━━━━━━━━━━━━━━━\u001b[0m \u001b[32m21.8/21.8 MB\u001b[0m \u001b[31m47.9 MB/s\u001b[0m eta \u001b[36m0:00:00\u001b[0m\n",
            "\u001b[?25hDownloading category_encoders-2.6.3-py2.py3-none-any.whl (81 kB)\n",
            "\u001b[2K   \u001b[90m━━━━━━━━━━━━━━━━━━━━━━━━━━━━━━━━━━━━━━━━\u001b[0m \u001b[32m81.9/81.9 kB\u001b[0m \u001b[31m3.5 MB/s\u001b[0m eta \u001b[36m0:00:00\u001b[0m\n",
            "\u001b[?25hDownloading deprecation-2.1.0-py2.py3-none-any.whl (11 kB)\n",
            "Downloading joblib-1.3.2-py3-none-any.whl (302 kB)\n",
            "\u001b[2K   \u001b[90m━━━━━━━━━━━━━━━━━━━━━━━━━━━━━━━━━━━━━━━━\u001b[0m \u001b[32m302.2/302.2 kB\u001b[0m \u001b[31m20.5 MB/s\u001b[0m eta \u001b[36m0:00:00\u001b[0m\n",
            "\u001b[?25hDownloading kaleido-0.2.1-py2.py3-none-manylinux1_x86_64.whl (79.9 MB)\n",
            "\u001b[2K   \u001b[90m━━━━━━━━━━━━━━━━━━━━━━━━━━━━━━━━━━━━━━━━\u001b[0m \u001b[32m79.9/79.9 MB\u001b[0m \u001b[31m10.0 MB/s\u001b[0m eta \u001b[36m0:00:00\u001b[0m\n",
            "\u001b[?25hDownloading plotly_resampler-0.10.0-py3-none-any.whl (80 kB)\n",
            "\u001b[2K   \u001b[90m━━━━━━━━━━━━━━━━━━━━━━━━━━━━━━━━━━━━━━━━\u001b[0m \u001b[32m80.7/80.7 kB\u001b[0m \u001b[31m3.2 MB/s\u001b[0m eta \u001b[36m0:00:00\u001b[0m\n",
            "\u001b[?25hDownloading pmdarima-2.0.4-cp310-cp310-manylinux_2_17_x86_64.manylinux2014_x86_64.manylinux_2_28_x86_64.whl (2.1 MB)\n",
            "\u001b[2K   \u001b[90m━━━━━━━━━━━━━━━━━━━━━━━━━━━━━━━━━━━━━━━━\u001b[0m \u001b[32m2.1/2.1 MB\u001b[0m \u001b[31m56.1 MB/s\u001b[0m eta \u001b[36m0:00:00\u001b[0m\n",
            "\u001b[?25hDownloading scikit_learn-1.4.2-cp310-cp310-manylinux_2_17_x86_64.manylinux2014_x86_64.whl (12.1 MB)\n",
            "\u001b[2K   \u001b[90m━━━━━━━━━━━━━━━━━━━━━━━━━━━━━━━━━━━━━━━━\u001b[0m \u001b[32m12.1/12.1 MB\u001b[0m \u001b[31m34.5 MB/s\u001b[0m eta \u001b[36m0:00:00\u001b[0m\n",
            "\u001b[?25hDownloading scikit_plot-0.3.7-py3-none-any.whl (33 kB)\n",
            "Downloading scipy-1.11.4-cp310-cp310-manylinux_2_17_x86_64.manylinux2014_x86_64.whl (36.4 MB)\n",
            "\u001b[2K   \u001b[90m━━━━━━━━━━━━━━━━━━━━━━━━━━━━━━━━━━━━━━━━\u001b[0m \u001b[32m36.4/36.4 MB\u001b[0m \u001b[31m19.1 MB/s\u001b[0m eta \u001b[36m0:00:00\u001b[0m\n",
            "\u001b[?25hDownloading tbats-1.1.3-py3-none-any.whl (44 kB)\n",
            "\u001b[2K   \u001b[90m━━━━━━━━━━━━━━━━━━━━━━━━━━━━━━━━━━━━━━━━\u001b[0m \u001b[32m44.0/44.0 kB\u001b[0m \u001b[31m1.6 MB/s\u001b[0m eta \u001b[36m0:00:00\u001b[0m\n",
            "\u001b[?25hDownloading wurlitzer-3.1.1-py3-none-any.whl (8.6 kB)\n",
            "Downloading xxhash-3.5.0-cp310-cp310-manylinux_2_17_x86_64.manylinux2014_x86_64.whl (194 kB)\n",
            "\u001b[2K   \u001b[90m━━━━━━━━━━━━━━━━━━━━━━━━━━━━━━━━━━━━━━━━\u001b[0m \u001b[32m194.1/194.1 kB\u001b[0m \u001b[31m10.3 MB/s\u001b[0m eta \u001b[36m0:00:00\u001b[0m\n",
            "\u001b[?25hDownloading dash-2.18.1-py3-none-any.whl (7.5 MB)\n",
            "\u001b[2K   \u001b[90m━━━━━━━━━━━━━━━━━━━━━━━━━━━━━━━━━━━━━━━━\u001b[0m \u001b[32m7.5/7.5 MB\u001b[0m \u001b[31m49.3 MB/s\u001b[0m eta \u001b[36m0:00:00\u001b[0m\n",
            "\u001b[?25hDownloading dash_core_components-2.0.0-py3-none-any.whl (3.8 kB)\n",
            "Downloading dash_html_components-2.0.0-py3-none-any.whl (4.1 kB)\n",
            "Downloading dash_table-5.0.0-py3-none-any.whl (3.9 kB)\n",
            "Using cached jedi-0.19.1-py2.py3-none-any.whl (1.6 MB)\n",
            "Downloading orjson-3.10.7-cp310-cp310-manylinux_2_17_x86_64.manylinux2014_x86_64.whl (141 kB)\n",
            "\u001b[2K   \u001b[90m━━━━━━━━━━━━━━━━━━━━━━━━━━━━━━━━━━━━━━━━\u001b[0m \u001b[32m141.9/141.9 kB\u001b[0m \u001b[31m8.6 MB/s\u001b[0m eta \u001b[36m0:00:00\u001b[0m\n",
            "\u001b[?25hDownloading scikit_base-0.7.8-py3-none-any.whl (130 kB)\n",
            "\u001b[2K   \u001b[90m━━━━━━━━━━━━━━━━━━━━━━━━━━━━━━━━━━━━━━━━\u001b[0m \u001b[32m130.1/130.1 kB\u001b[0m \u001b[31m7.7 MB/s\u001b[0m eta \u001b[36m0:00:00\u001b[0m\n",
            "\u001b[?25hDownloading tsdownsample-0.1.3-cp310-cp310-manylinux_2_17_x86_64.manylinux2014_x86_64.whl (2.1 MB)\n",
            "\u001b[2K   \u001b[90m━━━━━━━━━━━━━━━━━━━━━━━━━━━━━━━━━━━━━━━━\u001b[0m \u001b[32m2.1/2.1 MB\u001b[0m \u001b[31m42.8 MB/s\u001b[0m eta \u001b[36m0:00:00\u001b[0m\n",
            "\u001b[?25hDownloading retrying-1.3.4-py3-none-any.whl (11 kB)\n",
            "Building wheels for collected packages: pyod\n",
            "  Building wheel for pyod (setup.py) ... \u001b[?25l\u001b[?25hdone\n",
            "  Created wheel for pyod: filename=pyod-2.0.2-py3-none-any.whl size=198469 sha256=00d1a574b4f1dbff01a702a7935b0432cb97d0f8475446a4c5e1e814f762472a\n",
            "  Stored in directory: /root/.cache/pip/wheels/77/c2/20/34d1f15b41b701ba69f42a32304825810d680754d509f91391\n",
            "Successfully built pyod\n",
            "Installing collected packages: kaleido, dash-table, dash-html-components, dash-core-components, xxhash, wurlitzer, tsdownsample, scipy, scikit-base, schemdraw, retrying, orjson, joblib, jedi, deprecation, scikit-learn, sktime, scikit-plot, pyod, dash, pmdarima, plotly-resampler, category-encoders, tbats, pycaret\n",
            "  Attempting uninstall: scipy\n",
            "    Found existing installation: scipy 1.13.1\n",
            "    Uninstalling scipy-1.13.1:\n",
            "      Successfully uninstalled scipy-1.13.1\n",
            "  Attempting uninstall: joblib\n",
            "    Found existing installation: joblib 1.4.2\n",
            "    Uninstalling joblib-1.4.2:\n",
            "      Successfully uninstalled joblib-1.4.2\n",
            "  Attempting uninstall: scikit-learn\n",
            "    Found existing installation: scikit-learn 1.3.2\n",
            "    Uninstalling scikit-learn-1.3.2:\n",
            "      Successfully uninstalled scikit-learn-1.3.2\n",
            "Successfully installed category-encoders-2.6.3 dash-2.18.1 dash-core-components-2.0.0 dash-html-components-2.0.0 dash-table-5.0.0 deprecation-2.1.0 jedi-0.19.1 joblib-1.3.2 kaleido-0.2.1 orjson-3.10.7 plotly-resampler-0.10.0 pmdarima-2.0.4 pycaret-3.3.2 pyod-2.0.2 retrying-1.3.4 schemdraw-0.15 scikit-base-0.7.8 scikit-learn-1.4.2 scikit-plot-0.3.7 scipy-1.11.4 sktime-0.26.0 tbats-1.1.3 tsdownsample-0.1.3 wurlitzer-3.1.1 xxhash-3.5.0\n"
          ]
        }
      ],
      "source": [
        "!pip install pycaret"
      ]
    },
    {
      "cell_type": "code",
      "source": [
        "!pip install scipy==1.7.3"
      ],
      "metadata": {
        "colab": {
          "base_uri": "https://localhost:8080/"
        },
        "id": "QByC3ebLQFW3",
        "outputId": "a111e3bb-6348-48ae-9585-ca0348d9c3af"
      },
      "execution_count": 1,
      "outputs": [
        {
          "output_type": "stream",
          "name": "stdout",
          "text": [
            "Requirement already satisfied: scipy==1.7.3 in /usr/local/lib/python3.10/dist-packages (1.7.3)\n",
            "Requirement already satisfied: numpy<1.23.0,>=1.16.5 in /usr/local/lib/python3.10/dist-packages (from scipy==1.7.3) (1.22.4)\n"
          ]
        }
      ]
    },
    {
      "cell_type": "code",
      "source": [
        "!pip install pycaret==2.3.5 --no-deps"
      ],
      "metadata": {
        "colab": {
          "base_uri": "https://localhost:8080/"
        },
        "id": "X8l07keaQV7_",
        "outputId": "190e8c75-1cd9-4c23-c842-07904670ce87"
      },
      "execution_count": 2,
      "outputs": [
        {
          "output_type": "stream",
          "name": "stdout",
          "text": [
            "Collecting pycaret==2.3.5\n",
            "  Downloading pycaret-2.3.5-py3-none-any.whl.metadata (11 kB)\n",
            "Downloading pycaret-2.3.5-py3-none-any.whl (288 kB)\n",
            "\u001b[2K   \u001b[90m━━━━━━━━━━━━━━━━━━━━━━━━━━━━━━━━━━━━━━━━\u001b[0m \u001b[32m288.6/288.6 kB\u001b[0m \u001b[31m4.3 MB/s\u001b[0m eta \u001b[36m0:00:00\u001b[0m\n",
            "\u001b[?25hInstalling collected packages: pycaret\n",
            "  Attempting uninstall: pycaret\n",
            "    Found existing installation: pycaret 3.3.2\n",
            "    Uninstalling pycaret-3.3.2:\n",
            "      Successfully uninstalled pycaret-3.3.2\n",
            "Successfully installed pycaret-2.3.5\n"
          ]
        }
      ]
    },
    {
      "cell_type": "code",
      "source": [
        "!pip install numpy==1.23"
      ],
      "metadata": {
        "colab": {
          "base_uri": "https://localhost:8080/"
        },
        "id": "lsH9vheXQn9s",
        "outputId": "30a5462d-c9e8-496b-eb93-794d19a1fc91"
      },
      "execution_count": 1,
      "outputs": [
        {
          "output_type": "stream",
          "name": "stdout",
          "text": [
            "Requirement already satisfied: numpy==1.23 in /usr/local/lib/python3.10/dist-packages (1.23.0)\n"
          ]
        }
      ]
    },
    {
      "cell_type": "code",
      "source": [
        "!pip install pandas==1.5.3"
      ],
      "metadata": {
        "colab": {
          "base_uri": "https://localhost:8080/"
        },
        "id": "6KOu2MXiQsmV",
        "outputId": "f21a718c-8971-4266-ad68-82d2f240e18a"
      },
      "execution_count": 2,
      "outputs": [
        {
          "output_type": "stream",
          "name": "stdout",
          "text": [
            "Collecting pandas==1.5.3\n",
            "  Downloading pandas-1.5.3-cp310-cp310-manylinux_2_17_x86_64.manylinux2014_x86_64.whl.metadata (11 kB)\n",
            "Requirement already satisfied: python-dateutil>=2.8.1 in /usr/local/lib/python3.10/dist-packages (from pandas==1.5.3) (2.8.2)\n",
            "Requirement already satisfied: pytz>=2020.1 in /usr/local/lib/python3.10/dist-packages (from pandas==1.5.3) (2024.2)\n",
            "Requirement already satisfied: numpy>=1.21.0 in /usr/local/lib/python3.10/dist-packages (from pandas==1.5.3) (1.23.0)\n",
            "Requirement already satisfied: six>=1.5 in /usr/local/lib/python3.10/dist-packages (from python-dateutil>=2.8.1->pandas==1.5.3) (1.16.0)\n",
            "Downloading pandas-1.5.3-cp310-cp310-manylinux_2_17_x86_64.manylinux2014_x86_64.whl (12.1 MB)\n",
            "\u001b[2K   \u001b[90m━━━━━━━━━━━━━━━━━━━━━━━━━━━━━━━━━━━━━━━━\u001b[0m \u001b[32m12.1/12.1 MB\u001b[0m \u001b[31m88.0 MB/s\u001b[0m eta \u001b[36m0:00:00\u001b[0m\n",
            "\u001b[?25hInstalling collected packages: pandas\n",
            "  Attempting uninstall: pandas\n",
            "    Found existing installation: pandas 2.1.4\n",
            "    Uninstalling pandas-2.1.4:\n",
            "      Successfully uninstalled pandas-2.1.4\n",
            "\u001b[31mERROR: pip's dependency resolver does not currently take into account all the packages that are installed. This behaviour is the source of the following dependency conflicts.\n",
            "pycaret 2.3.5 requires Boruta, which is not installed.\n",
            "pycaret 2.3.5 requires kmodes>=0.10.1, which is not installed.\n",
            "pycaret 2.3.5 requires mlflow, which is not installed.\n",
            "pycaret 2.3.5 requires pandas-profiling>=2.8.0, which is not installed.\n",
            "pycaret 2.3.5 requires pyLDAvis, which is not installed.\n",
            "pycaret 2.3.5 requires umap-learn, which is not installed.\n",
            "arviz 0.19.0 requires scipy>=1.9.0, but you have scipy 1.7.3 which is incompatible.\n",
            "bigframes 1.17.0 requires numpy>=1.24.0, but you have numpy 1.23.0 which is incompatible.\n",
            "cudf-cu12 24.4.1 requires pandas<2.2.2dev0,>=2.0, but you have pandas 1.5.3 which is incompatible.\n",
            "google-colab 1.0.0 requires pandas==2.1.4, but you have pandas 1.5.3 which is incompatible.\n",
            "mizani 0.11.4 requires pandas>=2.1.0, but you have pandas 1.5.3 which is incompatible.\n",
            "plotnine 0.13.6 requires pandas<3.0.0,>=2.1.0, but you have pandas 1.5.3 which is incompatible.\n",
            "pycaret 2.3.5 requires gensim<4.0.0, but you have gensim 4.3.3 which is incompatible.\n",
            "pycaret 2.3.5 requires imbalanced-learn==0.7.0, but you have imbalanced-learn 0.12.3 which is incompatible.\n",
            "pycaret 2.3.5 requires numpy==1.19.5, but you have numpy 1.23.0 which is incompatible.\n",
            "pycaret 2.3.5 requires scikit-learn==0.23.2, but you have scikit-learn 1.4.2 which is incompatible.\n",
            "pycaret 2.3.5 requires scipy<=1.5.4, but you have scipy 1.7.3 which is incompatible.\n",
            "pycaret 2.3.5 requires spacy<2.4.0, but you have spacy 3.7.6 which is incompatible.\n",
            "statsmodels 0.14.3 requires scipy!=1.9.2,>=1.8, but you have scipy 1.7.3 which is incompatible.\n",
            "xarray 2024.9.0 requires numpy>=1.24, but you have numpy 1.23.0 which is incompatible.\n",
            "xarray 2024.9.0 requires pandas>=2.1, but you have pandas 1.5.3 which is incompatible.\n",
            "xarray-einstats 0.7.0 requires scipy>=1.8, but you have scipy 1.7.3 which is incompatible.\u001b[0m\u001b[31m\n",
            "\u001b[0mSuccessfully installed pandas-1.5.3\n"
          ]
        }
      ]
    },
    {
      "cell_type": "code",
      "source": [
        "from pycaret.arules import *"
      ],
      "metadata": {
        "id": "o4tVhKswQ5ua"
      },
      "execution_count": 3,
      "outputs": []
    },
    {
      "cell_type": "code",
      "source": [
        "from pycaret.datasets import get_data\n",
        "data = get_data('index')"
      ],
      "metadata": {
        "colab": {
          "base_uri": "https://localhost:8080/",
          "height": 1000
        },
        "id": "yp_INr3LRBLA",
        "outputId": "c8c864f0-f862-4964-9f82-b31bfe7e20ab"
      },
      "execution_count": 4,
      "outputs": [
        {
          "output_type": "display_data",
          "data": {
            "text/plain": [
              "                             Dataset    Data Types  \\\n",
              "0                            anomaly  Multivariate   \n",
              "1                             france  Multivariate   \n",
              "2                            germany  Multivariate   \n",
              "3                               bank  Multivariate   \n",
              "4                              blood  Multivariate   \n",
              "5                             cancer  Multivariate   \n",
              "6                             credit  Multivariate   \n",
              "7                           diabetes  Multivariate   \n",
              "8                    electrical_grid  Multivariate   \n",
              "9                           employee  Multivariate   \n",
              "10                             heart  Multivariate   \n",
              "11                     heart_disease  Multivariate   \n",
              "12                         hepatitis  Multivariate   \n",
              "13                            income  Multivariate   \n",
              "14                             juice  Multivariate   \n",
              "15                               nba  Multivariate   \n",
              "16                              wine  Multivariate   \n",
              "17                         telescope  Multivariate   \n",
              "18                           titanic  Multivariate   \n",
              "19  us_presidential_election_results  Multivariate   \n",
              "20                             glass  Multivariate   \n",
              "21                              iris  Multivariate   \n",
              "22                             poker  Multivariate   \n",
              "23                         questions  Multivariate   \n",
              "24                         satellite  Multivariate   \n",
              "25                               CTG  Multivariate   \n",
              "26                          asia_gdp  Multivariate   \n",
              "27                         elections  Multivariate   \n",
              "28                          facebook  Multivariate   \n",
              "29                               ipl  Multivariate   \n",
              "30                         jewellery  Multivariate   \n",
              "31                              mice  Multivariate   \n",
              "32                         migration  Multivariate   \n",
              "33                           perfume  Multivariate   \n",
              "34                           pokemon  Multivariate   \n",
              "35                        population  Multivariate   \n",
              "36                     public_health  Multivariate   \n",
              "37                             seeds  Multivariate   \n",
              "38                         wholesale  Multivariate   \n",
              "39                            tweets          Text   \n",
              "40                            amazon          Text   \n",
              "41                              kiva          Text   \n",
              "42                               spx          Text   \n",
              "43                         wikipedia          Text   \n",
              "44                        automobile  Multivariate   \n",
              "45                              bike  Multivariate   \n",
              "46                            boston  Multivariate   \n",
              "47                          concrete  Multivariate   \n",
              "48                           diamond  Multivariate   \n",
              "49                            energy  Multivariate   \n",
              "50                            forest  Multivariate   \n",
              "51                              gold  Multivariate   \n",
              "52                             house  Multivariate   \n",
              "53                         insurance  Multivariate   \n",
              "54                        parkinsons  Multivariate   \n",
              "55                           traffic  Multivariate   \n",
              "\n",
              "                   Default Task Target Variable 1 Target Variable 2  \\\n",
              "0             Anomaly Detection              None              None   \n",
              "1       Association Rule Mining         InvoiceNo       Description   \n",
              "2       Association Rule Mining         InvoiceNo       Description   \n",
              "3       Classification (Binary)           deposit              None   \n",
              "4       Classification (Binary)             Class              None   \n",
              "5       Classification (Binary)             Class              None   \n",
              "6       Classification (Binary)           default              None   \n",
              "7       Classification (Binary)    Class variable              None   \n",
              "8       Classification (Binary)             stabf              None   \n",
              "9       Classification (Binary)              left              None   \n",
              "10      Classification (Binary)             DEATH              None   \n",
              "11      Classification (Binary)           Disease              None   \n",
              "12      Classification (Binary)             Class              None   \n",
              "13      Classification (Binary)       income >50K              None   \n",
              "14      Classification (Binary)          Purchase              None   \n",
              "15      Classification (Binary)       TARGET_5Yrs              None   \n",
              "16      Classification (Binary)              type              None   \n",
              "17      Classification (Binary)             Class              None   \n",
              "18      Classification (Binary)          Survived              None   \n",
              "19      Classification (Binary)      party_winner              None   \n",
              "20  Classification (Multiclass)              Type              None   \n",
              "21  Classification (Multiclass)           species              None   \n",
              "22  Classification (Multiclass)             CLASS              None   \n",
              "23  Classification (Multiclass)     Next_Question              None   \n",
              "24  Classification (Multiclass)             Class              None   \n",
              "25  Classification (Multiclass)               NSP              None   \n",
              "26                   Clustering              None              None   \n",
              "27                   Clustering              None              None   \n",
              "28                   Clustering              None              None   \n",
              "29                   Clustering              None              None   \n",
              "30                   Clustering              None              None   \n",
              "31                   Clustering              None              None   \n",
              "32                   Clustering              None              None   \n",
              "33                   Clustering              None              None   \n",
              "34                   Clustering              None              None   \n",
              "35                   Clustering              None              None   \n",
              "36                   Clustering              None              None   \n",
              "37                   Clustering              None              None   \n",
              "38                   Clustering              None              None   \n",
              "39                          NLP             tweet              None   \n",
              "40         NLP / Classification        reviewText              None   \n",
              "41         NLP / Classification                en              None   \n",
              "42             NLP / Regression              text              None   \n",
              "43         NLP / Classification              Text              None   \n",
              "44                   Regression             price              None   \n",
              "45                   Regression               cnt              None   \n",
              "46                   Regression              medv              None   \n",
              "47                   Regression          strength              None   \n",
              "48                   Regression             Price              None   \n",
              "49                   Regression      Heating Load      Cooling Load   \n",
              "50                   Regression              area              None   \n",
              "51                   Regression         Gold_T+22              None   \n",
              "52                   Regression         SalePrice              None   \n",
              "53                   Regression           charges              None   \n",
              "54                   Regression               PPE              None   \n",
              "55                   Regression    traffic_volume              None   \n",
              "\n",
              "    # Instances  # Attributes Missing Values  \n",
              "0          1000            10              N  \n",
              "1          8557             8              N  \n",
              "2          9495             8              N  \n",
              "3         45211            17              N  \n",
              "4           748             5              N  \n",
              "5           683            10              N  \n",
              "6         24000            24              N  \n",
              "7           768             9              N  \n",
              "8         10000            14              N  \n",
              "9         14999            10              N  \n",
              "10          200            16              N  \n",
              "11          270            14              N  \n",
              "12          154            32              Y  \n",
              "13        32561            14              Y  \n",
              "14         1070            15              N  \n",
              "15         1340            21              N  \n",
              "16         6498            13              N  \n",
              "17        19020            11              N  \n",
              "18          891            11              Y  \n",
              "19          497             7              N  \n",
              "20          214            10              N  \n",
              "21          150             5              N  \n",
              "22       100000            11              N  \n",
              "23          499             4              N  \n",
              "24         6435            37              N  \n",
              "25         2129            40              Y  \n",
              "26           40            11              N  \n",
              "27         3195            54              Y  \n",
              "28         7050            12              N  \n",
              "29          153            25              N  \n",
              "30          505             4              N  \n",
              "31         1080            82              Y  \n",
              "32          233            12              N  \n",
              "33           20            29              N  \n",
              "34          800            13              Y  \n",
              "35          255            56              Y  \n",
              "36          224            21              N  \n",
              "37          210             7              N  \n",
              "38          440             8              N  \n",
              "39         8594             2              N  \n",
              "40        20000             2              N  \n",
              "41         6818             7              N  \n",
              "42          874             4              N  \n",
              "43          500             3              N  \n",
              "44          202            26              Y  \n",
              "45        17379            15              N  \n",
              "46          506            14              N  \n",
              "47         1030             9              N  \n",
              "48         6000             8              N  \n",
              "49          768            10              N  \n",
              "50          517            13              N  \n",
              "51         2558           121              N  \n",
              "52         1461            81              Y  \n",
              "53         1338             7              N  \n",
              "54         5875            22              N  \n",
              "55        48204             8              N  "
            ],
            "text/html": [
              "\n",
              "  <div id=\"df-43bf5082-29e7-402a-b1b1-b2f200be5550\" class=\"colab-df-container\">\n",
              "    <div>\n",
              "<style scoped>\n",
              "    .dataframe tbody tr th:only-of-type {\n",
              "        vertical-align: middle;\n",
              "    }\n",
              "\n",
              "    .dataframe tbody tr th {\n",
              "        vertical-align: top;\n",
              "    }\n",
              "\n",
              "    .dataframe thead th {\n",
              "        text-align: right;\n",
              "    }\n",
              "</style>\n",
              "<table border=\"1\" class=\"dataframe\">\n",
              "  <thead>\n",
              "    <tr style=\"text-align: right;\">\n",
              "      <th></th>\n",
              "      <th>Dataset</th>\n",
              "      <th>Data Types</th>\n",
              "      <th>Default Task</th>\n",
              "      <th>Target Variable 1</th>\n",
              "      <th>Target Variable 2</th>\n",
              "      <th># Instances</th>\n",
              "      <th># Attributes</th>\n",
              "      <th>Missing Values</th>\n",
              "    </tr>\n",
              "  </thead>\n",
              "  <tbody>\n",
              "    <tr>\n",
              "      <th>0</th>\n",
              "      <td>anomaly</td>\n",
              "      <td>Multivariate</td>\n",
              "      <td>Anomaly Detection</td>\n",
              "      <td>None</td>\n",
              "      <td>None</td>\n",
              "      <td>1000</td>\n",
              "      <td>10</td>\n",
              "      <td>N</td>\n",
              "    </tr>\n",
              "    <tr>\n",
              "      <th>1</th>\n",
              "      <td>france</td>\n",
              "      <td>Multivariate</td>\n",
              "      <td>Association Rule Mining</td>\n",
              "      <td>InvoiceNo</td>\n",
              "      <td>Description</td>\n",
              "      <td>8557</td>\n",
              "      <td>8</td>\n",
              "      <td>N</td>\n",
              "    </tr>\n",
              "    <tr>\n",
              "      <th>2</th>\n",
              "      <td>germany</td>\n",
              "      <td>Multivariate</td>\n",
              "      <td>Association Rule Mining</td>\n",
              "      <td>InvoiceNo</td>\n",
              "      <td>Description</td>\n",
              "      <td>9495</td>\n",
              "      <td>8</td>\n",
              "      <td>N</td>\n",
              "    </tr>\n",
              "    <tr>\n",
              "      <th>3</th>\n",
              "      <td>bank</td>\n",
              "      <td>Multivariate</td>\n",
              "      <td>Classification (Binary)</td>\n",
              "      <td>deposit</td>\n",
              "      <td>None</td>\n",
              "      <td>45211</td>\n",
              "      <td>17</td>\n",
              "      <td>N</td>\n",
              "    </tr>\n",
              "    <tr>\n",
              "      <th>4</th>\n",
              "      <td>blood</td>\n",
              "      <td>Multivariate</td>\n",
              "      <td>Classification (Binary)</td>\n",
              "      <td>Class</td>\n",
              "      <td>None</td>\n",
              "      <td>748</td>\n",
              "      <td>5</td>\n",
              "      <td>N</td>\n",
              "    </tr>\n",
              "    <tr>\n",
              "      <th>5</th>\n",
              "      <td>cancer</td>\n",
              "      <td>Multivariate</td>\n",
              "      <td>Classification (Binary)</td>\n",
              "      <td>Class</td>\n",
              "      <td>None</td>\n",
              "      <td>683</td>\n",
              "      <td>10</td>\n",
              "      <td>N</td>\n",
              "    </tr>\n",
              "    <tr>\n",
              "      <th>6</th>\n",
              "      <td>credit</td>\n",
              "      <td>Multivariate</td>\n",
              "      <td>Classification (Binary)</td>\n",
              "      <td>default</td>\n",
              "      <td>None</td>\n",
              "      <td>24000</td>\n",
              "      <td>24</td>\n",
              "      <td>N</td>\n",
              "    </tr>\n",
              "    <tr>\n",
              "      <th>7</th>\n",
              "      <td>diabetes</td>\n",
              "      <td>Multivariate</td>\n",
              "      <td>Classification (Binary)</td>\n",
              "      <td>Class variable</td>\n",
              "      <td>None</td>\n",
              "      <td>768</td>\n",
              "      <td>9</td>\n",
              "      <td>N</td>\n",
              "    </tr>\n",
              "    <tr>\n",
              "      <th>8</th>\n",
              "      <td>electrical_grid</td>\n",
              "      <td>Multivariate</td>\n",
              "      <td>Classification (Binary)</td>\n",
              "      <td>stabf</td>\n",
              "      <td>None</td>\n",
              "      <td>10000</td>\n",
              "      <td>14</td>\n",
              "      <td>N</td>\n",
              "    </tr>\n",
              "    <tr>\n",
              "      <th>9</th>\n",
              "      <td>employee</td>\n",
              "      <td>Multivariate</td>\n",
              "      <td>Classification (Binary)</td>\n",
              "      <td>left</td>\n",
              "      <td>None</td>\n",
              "      <td>14999</td>\n",
              "      <td>10</td>\n",
              "      <td>N</td>\n",
              "    </tr>\n",
              "    <tr>\n",
              "      <th>10</th>\n",
              "      <td>heart</td>\n",
              "      <td>Multivariate</td>\n",
              "      <td>Classification (Binary)</td>\n",
              "      <td>DEATH</td>\n",
              "      <td>None</td>\n",
              "      <td>200</td>\n",
              "      <td>16</td>\n",
              "      <td>N</td>\n",
              "    </tr>\n",
              "    <tr>\n",
              "      <th>11</th>\n",
              "      <td>heart_disease</td>\n",
              "      <td>Multivariate</td>\n",
              "      <td>Classification (Binary)</td>\n",
              "      <td>Disease</td>\n",
              "      <td>None</td>\n",
              "      <td>270</td>\n",
              "      <td>14</td>\n",
              "      <td>N</td>\n",
              "    </tr>\n",
              "    <tr>\n",
              "      <th>12</th>\n",
              "      <td>hepatitis</td>\n",
              "      <td>Multivariate</td>\n",
              "      <td>Classification (Binary)</td>\n",
              "      <td>Class</td>\n",
              "      <td>None</td>\n",
              "      <td>154</td>\n",
              "      <td>32</td>\n",
              "      <td>Y</td>\n",
              "    </tr>\n",
              "    <tr>\n",
              "      <th>13</th>\n",
              "      <td>income</td>\n",
              "      <td>Multivariate</td>\n",
              "      <td>Classification (Binary)</td>\n",
              "      <td>income &gt;50K</td>\n",
              "      <td>None</td>\n",
              "      <td>32561</td>\n",
              "      <td>14</td>\n",
              "      <td>Y</td>\n",
              "    </tr>\n",
              "    <tr>\n",
              "      <th>14</th>\n",
              "      <td>juice</td>\n",
              "      <td>Multivariate</td>\n",
              "      <td>Classification (Binary)</td>\n",
              "      <td>Purchase</td>\n",
              "      <td>None</td>\n",
              "      <td>1070</td>\n",
              "      <td>15</td>\n",
              "      <td>N</td>\n",
              "    </tr>\n",
              "    <tr>\n",
              "      <th>15</th>\n",
              "      <td>nba</td>\n",
              "      <td>Multivariate</td>\n",
              "      <td>Classification (Binary)</td>\n",
              "      <td>TARGET_5Yrs</td>\n",
              "      <td>None</td>\n",
              "      <td>1340</td>\n",
              "      <td>21</td>\n",
              "      <td>N</td>\n",
              "    </tr>\n",
              "    <tr>\n",
              "      <th>16</th>\n",
              "      <td>wine</td>\n",
              "      <td>Multivariate</td>\n",
              "      <td>Classification (Binary)</td>\n",
              "      <td>type</td>\n",
              "      <td>None</td>\n",
              "      <td>6498</td>\n",
              "      <td>13</td>\n",
              "      <td>N</td>\n",
              "    </tr>\n",
              "    <tr>\n",
              "      <th>17</th>\n",
              "      <td>telescope</td>\n",
              "      <td>Multivariate</td>\n",
              "      <td>Classification (Binary)</td>\n",
              "      <td>Class</td>\n",
              "      <td>None</td>\n",
              "      <td>19020</td>\n",
              "      <td>11</td>\n",
              "      <td>N</td>\n",
              "    </tr>\n",
              "    <tr>\n",
              "      <th>18</th>\n",
              "      <td>titanic</td>\n",
              "      <td>Multivariate</td>\n",
              "      <td>Classification (Binary)</td>\n",
              "      <td>Survived</td>\n",
              "      <td>None</td>\n",
              "      <td>891</td>\n",
              "      <td>11</td>\n",
              "      <td>Y</td>\n",
              "    </tr>\n",
              "    <tr>\n",
              "      <th>19</th>\n",
              "      <td>us_presidential_election_results</td>\n",
              "      <td>Multivariate</td>\n",
              "      <td>Classification (Binary)</td>\n",
              "      <td>party_winner</td>\n",
              "      <td>None</td>\n",
              "      <td>497</td>\n",
              "      <td>7</td>\n",
              "      <td>N</td>\n",
              "    </tr>\n",
              "    <tr>\n",
              "      <th>20</th>\n",
              "      <td>glass</td>\n",
              "      <td>Multivariate</td>\n",
              "      <td>Classification (Multiclass)</td>\n",
              "      <td>Type</td>\n",
              "      <td>None</td>\n",
              "      <td>214</td>\n",
              "      <td>10</td>\n",
              "      <td>N</td>\n",
              "    </tr>\n",
              "    <tr>\n",
              "      <th>21</th>\n",
              "      <td>iris</td>\n",
              "      <td>Multivariate</td>\n",
              "      <td>Classification (Multiclass)</td>\n",
              "      <td>species</td>\n",
              "      <td>None</td>\n",
              "      <td>150</td>\n",
              "      <td>5</td>\n",
              "      <td>N</td>\n",
              "    </tr>\n",
              "    <tr>\n",
              "      <th>22</th>\n",
              "      <td>poker</td>\n",
              "      <td>Multivariate</td>\n",
              "      <td>Classification (Multiclass)</td>\n",
              "      <td>CLASS</td>\n",
              "      <td>None</td>\n",
              "      <td>100000</td>\n",
              "      <td>11</td>\n",
              "      <td>N</td>\n",
              "    </tr>\n",
              "    <tr>\n",
              "      <th>23</th>\n",
              "      <td>questions</td>\n",
              "      <td>Multivariate</td>\n",
              "      <td>Classification (Multiclass)</td>\n",
              "      <td>Next_Question</td>\n",
              "      <td>None</td>\n",
              "      <td>499</td>\n",
              "      <td>4</td>\n",
              "      <td>N</td>\n",
              "    </tr>\n",
              "    <tr>\n",
              "      <th>24</th>\n",
              "      <td>satellite</td>\n",
              "      <td>Multivariate</td>\n",
              "      <td>Classification (Multiclass)</td>\n",
              "      <td>Class</td>\n",
              "      <td>None</td>\n",
              "      <td>6435</td>\n",
              "      <td>37</td>\n",
              "      <td>N</td>\n",
              "    </tr>\n",
              "    <tr>\n",
              "      <th>25</th>\n",
              "      <td>CTG</td>\n",
              "      <td>Multivariate</td>\n",
              "      <td>Classification (Multiclass)</td>\n",
              "      <td>NSP</td>\n",
              "      <td>None</td>\n",
              "      <td>2129</td>\n",
              "      <td>40</td>\n",
              "      <td>Y</td>\n",
              "    </tr>\n",
              "    <tr>\n",
              "      <th>26</th>\n",
              "      <td>asia_gdp</td>\n",
              "      <td>Multivariate</td>\n",
              "      <td>Clustering</td>\n",
              "      <td>None</td>\n",
              "      <td>None</td>\n",
              "      <td>40</td>\n",
              "      <td>11</td>\n",
              "      <td>N</td>\n",
              "    </tr>\n",
              "    <tr>\n",
              "      <th>27</th>\n",
              "      <td>elections</td>\n",
              "      <td>Multivariate</td>\n",
              "      <td>Clustering</td>\n",
              "      <td>None</td>\n",
              "      <td>None</td>\n",
              "      <td>3195</td>\n",
              "      <td>54</td>\n",
              "      <td>Y</td>\n",
              "    </tr>\n",
              "    <tr>\n",
              "      <th>28</th>\n",
              "      <td>facebook</td>\n",
              "      <td>Multivariate</td>\n",
              "      <td>Clustering</td>\n",
              "      <td>None</td>\n",
              "      <td>None</td>\n",
              "      <td>7050</td>\n",
              "      <td>12</td>\n",
              "      <td>N</td>\n",
              "    </tr>\n",
              "    <tr>\n",
              "      <th>29</th>\n",
              "      <td>ipl</td>\n",
              "      <td>Multivariate</td>\n",
              "      <td>Clustering</td>\n",
              "      <td>None</td>\n",
              "      <td>None</td>\n",
              "      <td>153</td>\n",
              "      <td>25</td>\n",
              "      <td>N</td>\n",
              "    </tr>\n",
              "    <tr>\n",
              "      <th>30</th>\n",
              "      <td>jewellery</td>\n",
              "      <td>Multivariate</td>\n",
              "      <td>Clustering</td>\n",
              "      <td>None</td>\n",
              "      <td>None</td>\n",
              "      <td>505</td>\n",
              "      <td>4</td>\n",
              "      <td>N</td>\n",
              "    </tr>\n",
              "    <tr>\n",
              "      <th>31</th>\n",
              "      <td>mice</td>\n",
              "      <td>Multivariate</td>\n",
              "      <td>Clustering</td>\n",
              "      <td>None</td>\n",
              "      <td>None</td>\n",
              "      <td>1080</td>\n",
              "      <td>82</td>\n",
              "      <td>Y</td>\n",
              "    </tr>\n",
              "    <tr>\n",
              "      <th>32</th>\n",
              "      <td>migration</td>\n",
              "      <td>Multivariate</td>\n",
              "      <td>Clustering</td>\n",
              "      <td>None</td>\n",
              "      <td>None</td>\n",
              "      <td>233</td>\n",
              "      <td>12</td>\n",
              "      <td>N</td>\n",
              "    </tr>\n",
              "    <tr>\n",
              "      <th>33</th>\n",
              "      <td>perfume</td>\n",
              "      <td>Multivariate</td>\n",
              "      <td>Clustering</td>\n",
              "      <td>None</td>\n",
              "      <td>None</td>\n",
              "      <td>20</td>\n",
              "      <td>29</td>\n",
              "      <td>N</td>\n",
              "    </tr>\n",
              "    <tr>\n",
              "      <th>34</th>\n",
              "      <td>pokemon</td>\n",
              "      <td>Multivariate</td>\n",
              "      <td>Clustering</td>\n",
              "      <td>None</td>\n",
              "      <td>None</td>\n",
              "      <td>800</td>\n",
              "      <td>13</td>\n",
              "      <td>Y</td>\n",
              "    </tr>\n",
              "    <tr>\n",
              "      <th>35</th>\n",
              "      <td>population</td>\n",
              "      <td>Multivariate</td>\n",
              "      <td>Clustering</td>\n",
              "      <td>None</td>\n",
              "      <td>None</td>\n",
              "      <td>255</td>\n",
              "      <td>56</td>\n",
              "      <td>Y</td>\n",
              "    </tr>\n",
              "    <tr>\n",
              "      <th>36</th>\n",
              "      <td>public_health</td>\n",
              "      <td>Multivariate</td>\n",
              "      <td>Clustering</td>\n",
              "      <td>None</td>\n",
              "      <td>None</td>\n",
              "      <td>224</td>\n",
              "      <td>21</td>\n",
              "      <td>N</td>\n",
              "    </tr>\n",
              "    <tr>\n",
              "      <th>37</th>\n",
              "      <td>seeds</td>\n",
              "      <td>Multivariate</td>\n",
              "      <td>Clustering</td>\n",
              "      <td>None</td>\n",
              "      <td>None</td>\n",
              "      <td>210</td>\n",
              "      <td>7</td>\n",
              "      <td>N</td>\n",
              "    </tr>\n",
              "    <tr>\n",
              "      <th>38</th>\n",
              "      <td>wholesale</td>\n",
              "      <td>Multivariate</td>\n",
              "      <td>Clustering</td>\n",
              "      <td>None</td>\n",
              "      <td>None</td>\n",
              "      <td>440</td>\n",
              "      <td>8</td>\n",
              "      <td>N</td>\n",
              "    </tr>\n",
              "    <tr>\n",
              "      <th>39</th>\n",
              "      <td>tweets</td>\n",
              "      <td>Text</td>\n",
              "      <td>NLP</td>\n",
              "      <td>tweet</td>\n",
              "      <td>None</td>\n",
              "      <td>8594</td>\n",
              "      <td>2</td>\n",
              "      <td>N</td>\n",
              "    </tr>\n",
              "    <tr>\n",
              "      <th>40</th>\n",
              "      <td>amazon</td>\n",
              "      <td>Text</td>\n",
              "      <td>NLP / Classification</td>\n",
              "      <td>reviewText</td>\n",
              "      <td>None</td>\n",
              "      <td>20000</td>\n",
              "      <td>2</td>\n",
              "      <td>N</td>\n",
              "    </tr>\n",
              "    <tr>\n",
              "      <th>41</th>\n",
              "      <td>kiva</td>\n",
              "      <td>Text</td>\n",
              "      <td>NLP / Classification</td>\n",
              "      <td>en</td>\n",
              "      <td>None</td>\n",
              "      <td>6818</td>\n",
              "      <td>7</td>\n",
              "      <td>N</td>\n",
              "    </tr>\n",
              "    <tr>\n",
              "      <th>42</th>\n",
              "      <td>spx</td>\n",
              "      <td>Text</td>\n",
              "      <td>NLP / Regression</td>\n",
              "      <td>text</td>\n",
              "      <td>None</td>\n",
              "      <td>874</td>\n",
              "      <td>4</td>\n",
              "      <td>N</td>\n",
              "    </tr>\n",
              "    <tr>\n",
              "      <th>43</th>\n",
              "      <td>wikipedia</td>\n",
              "      <td>Text</td>\n",
              "      <td>NLP / Classification</td>\n",
              "      <td>Text</td>\n",
              "      <td>None</td>\n",
              "      <td>500</td>\n",
              "      <td>3</td>\n",
              "      <td>N</td>\n",
              "    </tr>\n",
              "    <tr>\n",
              "      <th>44</th>\n",
              "      <td>automobile</td>\n",
              "      <td>Multivariate</td>\n",
              "      <td>Regression</td>\n",
              "      <td>price</td>\n",
              "      <td>None</td>\n",
              "      <td>202</td>\n",
              "      <td>26</td>\n",
              "      <td>Y</td>\n",
              "    </tr>\n",
              "    <tr>\n",
              "      <th>45</th>\n",
              "      <td>bike</td>\n",
              "      <td>Multivariate</td>\n",
              "      <td>Regression</td>\n",
              "      <td>cnt</td>\n",
              "      <td>None</td>\n",
              "      <td>17379</td>\n",
              "      <td>15</td>\n",
              "      <td>N</td>\n",
              "    </tr>\n",
              "    <tr>\n",
              "      <th>46</th>\n",
              "      <td>boston</td>\n",
              "      <td>Multivariate</td>\n",
              "      <td>Regression</td>\n",
              "      <td>medv</td>\n",
              "      <td>None</td>\n",
              "      <td>506</td>\n",
              "      <td>14</td>\n",
              "      <td>N</td>\n",
              "    </tr>\n",
              "    <tr>\n",
              "      <th>47</th>\n",
              "      <td>concrete</td>\n",
              "      <td>Multivariate</td>\n",
              "      <td>Regression</td>\n",
              "      <td>strength</td>\n",
              "      <td>None</td>\n",
              "      <td>1030</td>\n",
              "      <td>9</td>\n",
              "      <td>N</td>\n",
              "    </tr>\n",
              "    <tr>\n",
              "      <th>48</th>\n",
              "      <td>diamond</td>\n",
              "      <td>Multivariate</td>\n",
              "      <td>Regression</td>\n",
              "      <td>Price</td>\n",
              "      <td>None</td>\n",
              "      <td>6000</td>\n",
              "      <td>8</td>\n",
              "      <td>N</td>\n",
              "    </tr>\n",
              "    <tr>\n",
              "      <th>49</th>\n",
              "      <td>energy</td>\n",
              "      <td>Multivariate</td>\n",
              "      <td>Regression</td>\n",
              "      <td>Heating Load</td>\n",
              "      <td>Cooling Load</td>\n",
              "      <td>768</td>\n",
              "      <td>10</td>\n",
              "      <td>N</td>\n",
              "    </tr>\n",
              "    <tr>\n",
              "      <th>50</th>\n",
              "      <td>forest</td>\n",
              "      <td>Multivariate</td>\n",
              "      <td>Regression</td>\n",
              "      <td>area</td>\n",
              "      <td>None</td>\n",
              "      <td>517</td>\n",
              "      <td>13</td>\n",
              "      <td>N</td>\n",
              "    </tr>\n",
              "    <tr>\n",
              "      <th>51</th>\n",
              "      <td>gold</td>\n",
              "      <td>Multivariate</td>\n",
              "      <td>Regression</td>\n",
              "      <td>Gold_T+22</td>\n",
              "      <td>None</td>\n",
              "      <td>2558</td>\n",
              "      <td>121</td>\n",
              "      <td>N</td>\n",
              "    </tr>\n",
              "    <tr>\n",
              "      <th>52</th>\n",
              "      <td>house</td>\n",
              "      <td>Multivariate</td>\n",
              "      <td>Regression</td>\n",
              "      <td>SalePrice</td>\n",
              "      <td>None</td>\n",
              "      <td>1461</td>\n",
              "      <td>81</td>\n",
              "      <td>Y</td>\n",
              "    </tr>\n",
              "    <tr>\n",
              "      <th>53</th>\n",
              "      <td>insurance</td>\n",
              "      <td>Multivariate</td>\n",
              "      <td>Regression</td>\n",
              "      <td>charges</td>\n",
              "      <td>None</td>\n",
              "      <td>1338</td>\n",
              "      <td>7</td>\n",
              "      <td>N</td>\n",
              "    </tr>\n",
              "    <tr>\n",
              "      <th>54</th>\n",
              "      <td>parkinsons</td>\n",
              "      <td>Multivariate</td>\n",
              "      <td>Regression</td>\n",
              "      <td>PPE</td>\n",
              "      <td>None</td>\n",
              "      <td>5875</td>\n",
              "      <td>22</td>\n",
              "      <td>N</td>\n",
              "    </tr>\n",
              "    <tr>\n",
              "      <th>55</th>\n",
              "      <td>traffic</td>\n",
              "      <td>Multivariate</td>\n",
              "      <td>Regression</td>\n",
              "      <td>traffic_volume</td>\n",
              "      <td>None</td>\n",
              "      <td>48204</td>\n",
              "      <td>8</td>\n",
              "      <td>N</td>\n",
              "    </tr>\n",
              "  </tbody>\n",
              "</table>\n",
              "</div>\n",
              "    <div class=\"colab-df-buttons\">\n",
              "\n",
              "  <div class=\"colab-df-container\">\n",
              "    <button class=\"colab-df-convert\" onclick=\"convertToInteractive('df-43bf5082-29e7-402a-b1b1-b2f200be5550')\"\n",
              "            title=\"Convert this dataframe to an interactive table.\"\n",
              "            style=\"display:none;\">\n",
              "\n",
              "  <svg xmlns=\"http://www.w3.org/2000/svg\" height=\"24px\" viewBox=\"0 -960 960 960\">\n",
              "    <path d=\"M120-120v-720h720v720H120Zm60-500h600v-160H180v160Zm220 220h160v-160H400v160Zm0 220h160v-160H400v160ZM180-400h160v-160H180v160Zm440 0h160v-160H620v160ZM180-180h160v-160H180v160Zm440 0h160v-160H620v160Z\"/>\n",
              "  </svg>\n",
              "    </button>\n",
              "\n",
              "  <style>\n",
              "    .colab-df-container {\n",
              "      display:flex;\n",
              "      gap: 12px;\n",
              "    }\n",
              "\n",
              "    .colab-df-convert {\n",
              "      background-color: #E8F0FE;\n",
              "      border: none;\n",
              "      border-radius: 50%;\n",
              "      cursor: pointer;\n",
              "      display: none;\n",
              "      fill: #1967D2;\n",
              "      height: 32px;\n",
              "      padding: 0 0 0 0;\n",
              "      width: 32px;\n",
              "    }\n",
              "\n",
              "    .colab-df-convert:hover {\n",
              "      background-color: #E2EBFA;\n",
              "      box-shadow: 0px 1px 2px rgba(60, 64, 67, 0.3), 0px 1px 3px 1px rgba(60, 64, 67, 0.15);\n",
              "      fill: #174EA6;\n",
              "    }\n",
              "\n",
              "    .colab-df-buttons div {\n",
              "      margin-bottom: 4px;\n",
              "    }\n",
              "\n",
              "    [theme=dark] .colab-df-convert {\n",
              "      background-color: #3B4455;\n",
              "      fill: #D2E3FC;\n",
              "    }\n",
              "\n",
              "    [theme=dark] .colab-df-convert:hover {\n",
              "      background-color: #434B5C;\n",
              "      box-shadow: 0px 1px 3px 1px rgba(0, 0, 0, 0.15);\n",
              "      filter: drop-shadow(0px 1px 2px rgba(0, 0, 0, 0.3));\n",
              "      fill: #FFFFFF;\n",
              "    }\n",
              "  </style>\n",
              "\n",
              "    <script>\n",
              "      const buttonEl =\n",
              "        document.querySelector('#df-43bf5082-29e7-402a-b1b1-b2f200be5550 button.colab-df-convert');\n",
              "      buttonEl.style.display =\n",
              "        google.colab.kernel.accessAllowed ? 'block' : 'none';\n",
              "\n",
              "      async function convertToInteractive(key) {\n",
              "        const element = document.querySelector('#df-43bf5082-29e7-402a-b1b1-b2f200be5550');\n",
              "        const dataTable =\n",
              "          await google.colab.kernel.invokeFunction('convertToInteractive',\n",
              "                                                    [key], {});\n",
              "        if (!dataTable) return;\n",
              "\n",
              "        const docLinkHtml = 'Like what you see? Visit the ' +\n",
              "          '<a target=\"_blank\" href=https://colab.research.google.com/notebooks/data_table.ipynb>data table notebook</a>'\n",
              "          + ' to learn more about interactive tables.';\n",
              "        element.innerHTML = '';\n",
              "        dataTable['output_type'] = 'display_data';\n",
              "        await google.colab.output.renderOutput(dataTable, element);\n",
              "        const docLink = document.createElement('div');\n",
              "        docLink.innerHTML = docLinkHtml;\n",
              "        element.appendChild(docLink);\n",
              "      }\n",
              "    </script>\n",
              "  </div>\n",
              "\n",
              "\n",
              "<div id=\"df-a149c522-ede9-4d10-90e6-42071386d6f0\">\n",
              "  <button class=\"colab-df-quickchart\" onclick=\"quickchart('df-a149c522-ede9-4d10-90e6-42071386d6f0')\"\n",
              "            title=\"Suggest charts\"\n",
              "            style=\"display:none;\">\n",
              "\n",
              "<svg xmlns=\"http://www.w3.org/2000/svg\" height=\"24px\"viewBox=\"0 0 24 24\"\n",
              "     width=\"24px\">\n",
              "    <g>\n",
              "        <path d=\"M19 3H5c-1.1 0-2 .9-2 2v14c0 1.1.9 2 2 2h14c1.1 0 2-.9 2-2V5c0-1.1-.9-2-2-2zM9 17H7v-7h2v7zm4 0h-2V7h2v10zm4 0h-2v-4h2v4z\"/>\n",
              "    </g>\n",
              "</svg>\n",
              "  </button>\n",
              "\n",
              "<style>\n",
              "  .colab-df-quickchart {\n",
              "      --bg-color: #E8F0FE;\n",
              "      --fill-color: #1967D2;\n",
              "      --hover-bg-color: #E2EBFA;\n",
              "      --hover-fill-color: #174EA6;\n",
              "      --disabled-fill-color: #AAA;\n",
              "      --disabled-bg-color: #DDD;\n",
              "  }\n",
              "\n",
              "  [theme=dark] .colab-df-quickchart {\n",
              "      --bg-color: #3B4455;\n",
              "      --fill-color: #D2E3FC;\n",
              "      --hover-bg-color: #434B5C;\n",
              "      --hover-fill-color: #FFFFFF;\n",
              "      --disabled-bg-color: #3B4455;\n",
              "      --disabled-fill-color: #666;\n",
              "  }\n",
              "\n",
              "  .colab-df-quickchart {\n",
              "    background-color: var(--bg-color);\n",
              "    border: none;\n",
              "    border-radius: 50%;\n",
              "    cursor: pointer;\n",
              "    display: none;\n",
              "    fill: var(--fill-color);\n",
              "    height: 32px;\n",
              "    padding: 0;\n",
              "    width: 32px;\n",
              "  }\n",
              "\n",
              "  .colab-df-quickchart:hover {\n",
              "    background-color: var(--hover-bg-color);\n",
              "    box-shadow: 0 1px 2px rgba(60, 64, 67, 0.3), 0 1px 3px 1px rgba(60, 64, 67, 0.15);\n",
              "    fill: var(--button-hover-fill-color);\n",
              "  }\n",
              "\n",
              "  .colab-df-quickchart-complete:disabled,\n",
              "  .colab-df-quickchart-complete:disabled:hover {\n",
              "    background-color: var(--disabled-bg-color);\n",
              "    fill: var(--disabled-fill-color);\n",
              "    box-shadow: none;\n",
              "  }\n",
              "\n",
              "  .colab-df-spinner {\n",
              "    border: 2px solid var(--fill-color);\n",
              "    border-color: transparent;\n",
              "    border-bottom-color: var(--fill-color);\n",
              "    animation:\n",
              "      spin 1s steps(1) infinite;\n",
              "  }\n",
              "\n",
              "  @keyframes spin {\n",
              "    0% {\n",
              "      border-color: transparent;\n",
              "      border-bottom-color: var(--fill-color);\n",
              "      border-left-color: var(--fill-color);\n",
              "    }\n",
              "    20% {\n",
              "      border-color: transparent;\n",
              "      border-left-color: var(--fill-color);\n",
              "      border-top-color: var(--fill-color);\n",
              "    }\n",
              "    30% {\n",
              "      border-color: transparent;\n",
              "      border-left-color: var(--fill-color);\n",
              "      border-top-color: var(--fill-color);\n",
              "      border-right-color: var(--fill-color);\n",
              "    }\n",
              "    40% {\n",
              "      border-color: transparent;\n",
              "      border-right-color: var(--fill-color);\n",
              "      border-top-color: var(--fill-color);\n",
              "    }\n",
              "    60% {\n",
              "      border-color: transparent;\n",
              "      border-right-color: var(--fill-color);\n",
              "    }\n",
              "    80% {\n",
              "      border-color: transparent;\n",
              "      border-right-color: var(--fill-color);\n",
              "      border-bottom-color: var(--fill-color);\n",
              "    }\n",
              "    90% {\n",
              "      border-color: transparent;\n",
              "      border-bottom-color: var(--fill-color);\n",
              "    }\n",
              "  }\n",
              "</style>\n",
              "\n",
              "  <script>\n",
              "    async function quickchart(key) {\n",
              "      const quickchartButtonEl =\n",
              "        document.querySelector('#' + key + ' button');\n",
              "      quickchartButtonEl.disabled = true;  // To prevent multiple clicks.\n",
              "      quickchartButtonEl.classList.add('colab-df-spinner');\n",
              "      try {\n",
              "        const charts = await google.colab.kernel.invokeFunction(\n",
              "            'suggestCharts', [key], {});\n",
              "      } catch (error) {\n",
              "        console.error('Error during call to suggestCharts:', error);\n",
              "      }\n",
              "      quickchartButtonEl.classList.remove('colab-df-spinner');\n",
              "      quickchartButtonEl.classList.add('colab-df-quickchart-complete');\n",
              "    }\n",
              "    (() => {\n",
              "      let quickchartButtonEl =\n",
              "        document.querySelector('#df-a149c522-ede9-4d10-90e6-42071386d6f0 button');\n",
              "      quickchartButtonEl.style.display =\n",
              "        google.colab.kernel.accessAllowed ? 'block' : 'none';\n",
              "    })();\n",
              "  </script>\n",
              "</div>\n",
              "\n",
              "    </div>\n",
              "  </div>\n"
            ],
            "application/vnd.google.colaboratory.intrinsic+json": {
              "type": "dataframe",
              "summary": "{\n  \"name\": \"data = get_data('index')\",\n  \"rows\": 56,\n  \"fields\": [\n    {\n      \"column\": \"Dataset\",\n      \"properties\": {\n        \"dtype\": \"string\",\n        \"num_unique_values\": 56,\n        \"samples\": [\n          \"anomaly\",\n          \"cancer\",\n          \"perfume\"\n        ],\n        \"semantic_type\": \"\",\n        \"description\": \"\"\n      }\n    },\n    {\n      \"column\": \"Data Types\",\n      \"properties\": {\n        \"dtype\": \"category\",\n        \"num_unique_values\": 2,\n        \"samples\": [\n          \"Text\",\n          \"Multivariate\"\n        ],\n        \"semantic_type\": \"\",\n        \"description\": \"\"\n      }\n    },\n    {\n      \"column\": \"Default Task\",\n      \"properties\": {\n        \"dtype\": \"category\",\n        \"num_unique_values\": 9,\n        \"samples\": [\n          \"NLP / Regression\",\n          \"Association Rule Mining\"\n        ],\n        \"semantic_type\": \"\",\n        \"description\": \"\"\n      }\n    },\n    {\n      \"column\": \"Target Variable 1\",\n      \"properties\": {\n        \"dtype\": \"string\",\n        \"num_unique_values\": 38,\n        \"samples\": [\n          \"Gold_T+22\",\n          \"PPE\"\n        ],\n        \"semantic_type\": \"\",\n        \"description\": \"\"\n      }\n    },\n    {\n      \"column\": \"Target Variable 2\",\n      \"properties\": {\n        \"dtype\": \"category\",\n        \"num_unique_values\": 3,\n        \"samples\": [\n          \"None\",\n          \"Description\"\n        ],\n        \"semantic_type\": \"\",\n        \"description\": \"\"\n      }\n    },\n    {\n      \"column\": \"# Instances\",\n      \"properties\": {\n        \"dtype\": \"number\",\n        \"std\": 16351,\n        \"min\": 20,\n        \"max\": 100000,\n        \"num_unique_values\": 55,\n        \"samples\": [\n          1080,\n          683\n        ],\n        \"semantic_type\": \"\",\n        \"description\": \"\"\n      }\n    },\n    {\n      \"column\": \"# Attributes\",\n      \"properties\": {\n        \"dtype\": \"number\",\n        \"std\": 21,\n        \"min\": 2,\n        \"max\": 121,\n        \"num_unique_values\": 29,\n        \"samples\": [\n          81,\n          40\n        ],\n        \"semantic_type\": \"\",\n        \"description\": \"\"\n      }\n    },\n    {\n      \"column\": \"Missing Values\",\n      \"properties\": {\n        \"dtype\": \"category\",\n        \"num_unique_values\": 2,\n        \"samples\": [\n          \"Y\",\n          \"N\"\n        ],\n        \"semantic_type\": \"\",\n        \"description\": \"\"\n      }\n    }\n  ]\n}"
            }
          },
          "metadata": {}
        }
      ]
    },
    {
      "cell_type": "code",
      "source": [
        "data = get_data('france')"
      ],
      "metadata": {
        "colab": {
          "base_uri": "https://localhost:8080/",
          "height": 206
        },
        "id": "UFDgB8H9RIYS",
        "outputId": "10952abe-d62e-4d47-8b4d-72393e196faa"
      },
      "execution_count": 7,
      "outputs": [
        {
          "output_type": "display_data",
          "data": {
            "text/plain": [
              "  InvoiceNo StockCode                      Description  Quantity  \\\n",
              "0    536370     22728        ALARM CLOCK BAKELIKE PINK        24   \n",
              "1    536370     22727        ALARM CLOCK BAKELIKE RED         24   \n",
              "2    536370     22726       ALARM CLOCK BAKELIKE GREEN        12   \n",
              "3    536370     21724  PANDA AND BUNNIES STICKER SHEET        12   \n",
              "4    536370     21883                 STARS GIFT TAPE         24   \n",
              "\n",
              "      InvoiceDate  UnitPrice  CustomerID Country  \n",
              "0  12/1/2010 8:45       3.75     12583.0  France  \n",
              "1  12/1/2010 8:45       3.75     12583.0  France  \n",
              "2  12/1/2010 8:45       3.75     12583.0  France  \n",
              "3  12/1/2010 8:45       0.85     12583.0  France  \n",
              "4  12/1/2010 8:45       0.65     12583.0  France  "
            ],
            "text/html": [
              "\n",
              "  <div id=\"df-22220134-dcfb-4226-85ce-af290d7d06a4\" class=\"colab-df-container\">\n",
              "    <div>\n",
              "<style scoped>\n",
              "    .dataframe tbody tr th:only-of-type {\n",
              "        vertical-align: middle;\n",
              "    }\n",
              "\n",
              "    .dataframe tbody tr th {\n",
              "        vertical-align: top;\n",
              "    }\n",
              "\n",
              "    .dataframe thead th {\n",
              "        text-align: right;\n",
              "    }\n",
              "</style>\n",
              "<table border=\"1\" class=\"dataframe\">\n",
              "  <thead>\n",
              "    <tr style=\"text-align: right;\">\n",
              "      <th></th>\n",
              "      <th>InvoiceNo</th>\n",
              "      <th>StockCode</th>\n",
              "      <th>Description</th>\n",
              "      <th>Quantity</th>\n",
              "      <th>InvoiceDate</th>\n",
              "      <th>UnitPrice</th>\n",
              "      <th>CustomerID</th>\n",
              "      <th>Country</th>\n",
              "    </tr>\n",
              "  </thead>\n",
              "  <tbody>\n",
              "    <tr>\n",
              "      <th>0</th>\n",
              "      <td>536370</td>\n",
              "      <td>22728</td>\n",
              "      <td>ALARM CLOCK BAKELIKE PINK</td>\n",
              "      <td>24</td>\n",
              "      <td>12/1/2010 8:45</td>\n",
              "      <td>3.75</td>\n",
              "      <td>12583.0</td>\n",
              "      <td>France</td>\n",
              "    </tr>\n",
              "    <tr>\n",
              "      <th>1</th>\n",
              "      <td>536370</td>\n",
              "      <td>22727</td>\n",
              "      <td>ALARM CLOCK BAKELIKE RED</td>\n",
              "      <td>24</td>\n",
              "      <td>12/1/2010 8:45</td>\n",
              "      <td>3.75</td>\n",
              "      <td>12583.0</td>\n",
              "      <td>France</td>\n",
              "    </tr>\n",
              "    <tr>\n",
              "      <th>2</th>\n",
              "      <td>536370</td>\n",
              "      <td>22726</td>\n",
              "      <td>ALARM CLOCK BAKELIKE GREEN</td>\n",
              "      <td>12</td>\n",
              "      <td>12/1/2010 8:45</td>\n",
              "      <td>3.75</td>\n",
              "      <td>12583.0</td>\n",
              "      <td>France</td>\n",
              "    </tr>\n",
              "    <tr>\n",
              "      <th>3</th>\n",
              "      <td>536370</td>\n",
              "      <td>21724</td>\n",
              "      <td>PANDA AND BUNNIES STICKER SHEET</td>\n",
              "      <td>12</td>\n",
              "      <td>12/1/2010 8:45</td>\n",
              "      <td>0.85</td>\n",
              "      <td>12583.0</td>\n",
              "      <td>France</td>\n",
              "    </tr>\n",
              "    <tr>\n",
              "      <th>4</th>\n",
              "      <td>536370</td>\n",
              "      <td>21883</td>\n",
              "      <td>STARS GIFT TAPE</td>\n",
              "      <td>24</td>\n",
              "      <td>12/1/2010 8:45</td>\n",
              "      <td>0.65</td>\n",
              "      <td>12583.0</td>\n",
              "      <td>France</td>\n",
              "    </tr>\n",
              "  </tbody>\n",
              "</table>\n",
              "</div>\n",
              "    <div class=\"colab-df-buttons\">\n",
              "\n",
              "  <div class=\"colab-df-container\">\n",
              "    <button class=\"colab-df-convert\" onclick=\"convertToInteractive('df-22220134-dcfb-4226-85ce-af290d7d06a4')\"\n",
              "            title=\"Convert this dataframe to an interactive table.\"\n",
              "            style=\"display:none;\">\n",
              "\n",
              "  <svg xmlns=\"http://www.w3.org/2000/svg\" height=\"24px\" viewBox=\"0 -960 960 960\">\n",
              "    <path d=\"M120-120v-720h720v720H120Zm60-500h600v-160H180v160Zm220 220h160v-160H400v160Zm0 220h160v-160H400v160ZM180-400h160v-160H180v160Zm440 0h160v-160H620v160ZM180-180h160v-160H180v160Zm440 0h160v-160H620v160Z\"/>\n",
              "  </svg>\n",
              "    </button>\n",
              "\n",
              "  <style>\n",
              "    .colab-df-container {\n",
              "      display:flex;\n",
              "      gap: 12px;\n",
              "    }\n",
              "\n",
              "    .colab-df-convert {\n",
              "      background-color: #E8F0FE;\n",
              "      border: none;\n",
              "      border-radius: 50%;\n",
              "      cursor: pointer;\n",
              "      display: none;\n",
              "      fill: #1967D2;\n",
              "      height: 32px;\n",
              "      padding: 0 0 0 0;\n",
              "      width: 32px;\n",
              "    }\n",
              "\n",
              "    .colab-df-convert:hover {\n",
              "      background-color: #E2EBFA;\n",
              "      box-shadow: 0px 1px 2px rgba(60, 64, 67, 0.3), 0px 1px 3px 1px rgba(60, 64, 67, 0.15);\n",
              "      fill: #174EA6;\n",
              "    }\n",
              "\n",
              "    .colab-df-buttons div {\n",
              "      margin-bottom: 4px;\n",
              "    }\n",
              "\n",
              "    [theme=dark] .colab-df-convert {\n",
              "      background-color: #3B4455;\n",
              "      fill: #D2E3FC;\n",
              "    }\n",
              "\n",
              "    [theme=dark] .colab-df-convert:hover {\n",
              "      background-color: #434B5C;\n",
              "      box-shadow: 0px 1px 3px 1px rgba(0, 0, 0, 0.15);\n",
              "      filter: drop-shadow(0px 1px 2px rgba(0, 0, 0, 0.3));\n",
              "      fill: #FFFFFF;\n",
              "    }\n",
              "  </style>\n",
              "\n",
              "    <script>\n",
              "      const buttonEl =\n",
              "        document.querySelector('#df-22220134-dcfb-4226-85ce-af290d7d06a4 button.colab-df-convert');\n",
              "      buttonEl.style.display =\n",
              "        google.colab.kernel.accessAllowed ? 'block' : 'none';\n",
              "\n",
              "      async function convertToInteractive(key) {\n",
              "        const element = document.querySelector('#df-22220134-dcfb-4226-85ce-af290d7d06a4');\n",
              "        const dataTable =\n",
              "          await google.colab.kernel.invokeFunction('convertToInteractive',\n",
              "                                                    [key], {});\n",
              "        if (!dataTable) return;\n",
              "\n",
              "        const docLinkHtml = 'Like what you see? Visit the ' +\n",
              "          '<a target=\"_blank\" href=https://colab.research.google.com/notebooks/data_table.ipynb>data table notebook</a>'\n",
              "          + ' to learn more about interactive tables.';\n",
              "        element.innerHTML = '';\n",
              "        dataTable['output_type'] = 'display_data';\n",
              "        await google.colab.output.renderOutput(dataTable, element);\n",
              "        const docLink = document.createElement('div');\n",
              "        docLink.innerHTML = docLinkHtml;\n",
              "        element.appendChild(docLink);\n",
              "      }\n",
              "    </script>\n",
              "  </div>\n",
              "\n",
              "\n",
              "<div id=\"df-1091242f-9d17-4937-92c1-44a4f4e58d9c\">\n",
              "  <button class=\"colab-df-quickchart\" onclick=\"quickchart('df-1091242f-9d17-4937-92c1-44a4f4e58d9c')\"\n",
              "            title=\"Suggest charts\"\n",
              "            style=\"display:none;\">\n",
              "\n",
              "<svg xmlns=\"http://www.w3.org/2000/svg\" height=\"24px\"viewBox=\"0 0 24 24\"\n",
              "     width=\"24px\">\n",
              "    <g>\n",
              "        <path d=\"M19 3H5c-1.1 0-2 .9-2 2v14c0 1.1.9 2 2 2h14c1.1 0 2-.9 2-2V5c0-1.1-.9-2-2-2zM9 17H7v-7h2v7zm4 0h-2V7h2v10zm4 0h-2v-4h2v4z\"/>\n",
              "    </g>\n",
              "</svg>\n",
              "  </button>\n",
              "\n",
              "<style>\n",
              "  .colab-df-quickchart {\n",
              "      --bg-color: #E8F0FE;\n",
              "      --fill-color: #1967D2;\n",
              "      --hover-bg-color: #E2EBFA;\n",
              "      --hover-fill-color: #174EA6;\n",
              "      --disabled-fill-color: #AAA;\n",
              "      --disabled-bg-color: #DDD;\n",
              "  }\n",
              "\n",
              "  [theme=dark] .colab-df-quickchart {\n",
              "      --bg-color: #3B4455;\n",
              "      --fill-color: #D2E3FC;\n",
              "      --hover-bg-color: #434B5C;\n",
              "      --hover-fill-color: #FFFFFF;\n",
              "      --disabled-bg-color: #3B4455;\n",
              "      --disabled-fill-color: #666;\n",
              "  }\n",
              "\n",
              "  .colab-df-quickchart {\n",
              "    background-color: var(--bg-color);\n",
              "    border: none;\n",
              "    border-radius: 50%;\n",
              "    cursor: pointer;\n",
              "    display: none;\n",
              "    fill: var(--fill-color);\n",
              "    height: 32px;\n",
              "    padding: 0;\n",
              "    width: 32px;\n",
              "  }\n",
              "\n",
              "  .colab-df-quickchart:hover {\n",
              "    background-color: var(--hover-bg-color);\n",
              "    box-shadow: 0 1px 2px rgba(60, 64, 67, 0.3), 0 1px 3px 1px rgba(60, 64, 67, 0.15);\n",
              "    fill: var(--button-hover-fill-color);\n",
              "  }\n",
              "\n",
              "  .colab-df-quickchart-complete:disabled,\n",
              "  .colab-df-quickchart-complete:disabled:hover {\n",
              "    background-color: var(--disabled-bg-color);\n",
              "    fill: var(--disabled-fill-color);\n",
              "    box-shadow: none;\n",
              "  }\n",
              "\n",
              "  .colab-df-spinner {\n",
              "    border: 2px solid var(--fill-color);\n",
              "    border-color: transparent;\n",
              "    border-bottom-color: var(--fill-color);\n",
              "    animation:\n",
              "      spin 1s steps(1) infinite;\n",
              "  }\n",
              "\n",
              "  @keyframes spin {\n",
              "    0% {\n",
              "      border-color: transparent;\n",
              "      border-bottom-color: var(--fill-color);\n",
              "      border-left-color: var(--fill-color);\n",
              "    }\n",
              "    20% {\n",
              "      border-color: transparent;\n",
              "      border-left-color: var(--fill-color);\n",
              "      border-top-color: var(--fill-color);\n",
              "    }\n",
              "    30% {\n",
              "      border-color: transparent;\n",
              "      border-left-color: var(--fill-color);\n",
              "      border-top-color: var(--fill-color);\n",
              "      border-right-color: var(--fill-color);\n",
              "    }\n",
              "    40% {\n",
              "      border-color: transparent;\n",
              "      border-right-color: var(--fill-color);\n",
              "      border-top-color: var(--fill-color);\n",
              "    }\n",
              "    60% {\n",
              "      border-color: transparent;\n",
              "      border-right-color: var(--fill-color);\n",
              "    }\n",
              "    80% {\n",
              "      border-color: transparent;\n",
              "      border-right-color: var(--fill-color);\n",
              "      border-bottom-color: var(--fill-color);\n",
              "    }\n",
              "    90% {\n",
              "      border-color: transparent;\n",
              "      border-bottom-color: var(--fill-color);\n",
              "    }\n",
              "  }\n",
              "</style>\n",
              "\n",
              "  <script>\n",
              "    async function quickchart(key) {\n",
              "      const quickchartButtonEl =\n",
              "        document.querySelector('#' + key + ' button');\n",
              "      quickchartButtonEl.disabled = true;  // To prevent multiple clicks.\n",
              "      quickchartButtonEl.classList.add('colab-df-spinner');\n",
              "      try {\n",
              "        const charts = await google.colab.kernel.invokeFunction(\n",
              "            'suggestCharts', [key], {});\n",
              "      } catch (error) {\n",
              "        console.error('Error during call to suggestCharts:', error);\n",
              "      }\n",
              "      quickchartButtonEl.classList.remove('colab-df-spinner');\n",
              "      quickchartButtonEl.classList.add('colab-df-quickchart-complete');\n",
              "    }\n",
              "    (() => {\n",
              "      let quickchartButtonEl =\n",
              "        document.querySelector('#df-1091242f-9d17-4937-92c1-44a4f4e58d9c button');\n",
              "      quickchartButtonEl.style.display =\n",
              "        google.colab.kernel.accessAllowed ? 'block' : 'none';\n",
              "    })();\n",
              "  </script>\n",
              "</div>\n",
              "\n",
              "    </div>\n",
              "  </div>\n"
            ],
            "application/vnd.google.colaboratory.intrinsic+json": {
              "type": "dataframe",
              "summary": "{\n  \"name\": \"data = get_data('france')\",\n  \"rows\": 5,\n  \"fields\": [\n    {\n      \"column\": \"InvoiceNo\",\n      \"properties\": {\n        \"dtype\": \"category\",\n        \"num_unique_values\": 1,\n        \"samples\": [\n          \"536370\"\n        ],\n        \"semantic_type\": \"\",\n        \"description\": \"\"\n      }\n    },\n    {\n      \"column\": \"StockCode\",\n      \"properties\": {\n        \"dtype\": \"string\",\n        \"num_unique_values\": 5,\n        \"samples\": [\n          \"22727\"\n        ],\n        \"semantic_type\": \"\",\n        \"description\": \"\"\n      }\n    },\n    {\n      \"column\": \"Description\",\n      \"properties\": {\n        \"dtype\": \"string\",\n        \"num_unique_values\": 5,\n        \"samples\": [\n          \"ALARM CLOCK BAKELIKE RED \"\n        ],\n        \"semantic_type\": \"\",\n        \"description\": \"\"\n      }\n    },\n    {\n      \"column\": \"Quantity\",\n      \"properties\": {\n        \"dtype\": \"number\",\n        \"std\": 6,\n        \"min\": 12,\n        \"max\": 24,\n        \"num_unique_values\": 2,\n        \"samples\": [\n          12\n        ],\n        \"semantic_type\": \"\",\n        \"description\": \"\"\n      }\n    },\n    {\n      \"column\": \"InvoiceDate\",\n      \"properties\": {\n        \"dtype\": \"object\",\n        \"num_unique_values\": 1,\n        \"samples\": [\n          \"12/1/2010 8:45\"\n        ],\n        \"semantic_type\": \"\",\n        \"description\": \"\"\n      }\n    },\n    {\n      \"column\": \"UnitPrice\",\n      \"properties\": {\n        \"dtype\": \"number\",\n        \"std\": 1.6446884203398526,\n        \"min\": 0.65,\n        \"max\": 3.75,\n        \"num_unique_values\": 3,\n        \"samples\": [\n          3.75\n        ],\n        \"semantic_type\": \"\",\n        \"description\": \"\"\n      }\n    },\n    {\n      \"column\": \"CustomerID\",\n      \"properties\": {\n        \"dtype\": \"number\",\n        \"std\": 0.0,\n        \"min\": 12583.0,\n        \"max\": 12583.0,\n        \"num_unique_values\": 1,\n        \"samples\": [\n          12583.0\n        ],\n        \"semantic_type\": \"\",\n        \"description\": \"\"\n      }\n    },\n    {\n      \"column\": \"Country\",\n      \"properties\": {\n        \"dtype\": \"category\",\n        \"num_unique_values\": 1,\n        \"samples\": [\n          \"France\"\n        ],\n        \"semantic_type\": \"\",\n        \"description\": \"\"\n      }\n    }\n  ]\n}"
            }
          },
          "metadata": {}
        }
      ]
    },
    {
      "cell_type": "code",
      "source": [
        "s = setup(data, 'InvoiceNo', item_id='Description')"
      ],
      "metadata": {
        "colab": {
          "base_uri": "https://localhost:8080/",
          "height": 175
        },
        "id": "XyvmChZ6RSS9",
        "outputId": "24af21d7-fb89-4cec-de35-5808a713c371"
      },
      "execution_count": 8,
      "outputs": [
        {
          "output_type": "display_data",
          "data": {
            "text/plain": [
              "<pandas.io.formats.style.Styler at 0x7e105c883400>"
            ],
            "text/html": [
              "<style type=\"text/css\">\n",
              "</style>\n",
              "<table id=\"T_19510\" class=\"dataframe\">\n",
              "  <thead>\n",
              "    <tr>\n",
              "      <th id=\"T_19510_level0_col0\" class=\"col_heading level0 col0\" >Description</th>\n",
              "      <th id=\"T_19510_level0_col1\" class=\"col_heading level0 col1\" >Value</th>\n",
              "    </tr>\n",
              "  </thead>\n",
              "  <tbody>\n",
              "    <tr>\n",
              "      <td id=\"T_19510_row0_col0\" class=\"data row0 col0\" >session_id</td>\n",
              "      <td id=\"T_19510_row0_col1\" class=\"data row0 col1\" >3756</td>\n",
              "    </tr>\n",
              "    <tr>\n",
              "      <td id=\"T_19510_row1_col0\" class=\"data row1 col0\" ># Transactions</td>\n",
              "      <td id=\"T_19510_row1_col1\" class=\"data row1 col1\" >461</td>\n",
              "    </tr>\n",
              "    <tr>\n",
              "      <td id=\"T_19510_row2_col0\" class=\"data row2 col0\" ># Items</td>\n",
              "      <td id=\"T_19510_row2_col1\" class=\"data row2 col1\" >1565</td>\n",
              "    </tr>\n",
              "    <tr>\n",
              "      <td id=\"T_19510_row3_col0\" class=\"data row3 col0\" >Ignore Items</td>\n",
              "      <td id=\"T_19510_row3_col1\" class=\"data row3 col1\" >None</td>\n",
              "    </tr>\n",
              "  </tbody>\n",
              "</table>\n"
            ]
          },
          "metadata": {}
        }
      ]
    },
    {
      "cell_type": "code",
      "source": [
        "a1 = create_model()"
      ],
      "metadata": {
        "colab": {
          "base_uri": "https://localhost:8080/"
        },
        "id": "bp55_amhUrNZ",
        "outputId": "4a233d64-51b9-4f91-b1c0-66b772942122"
      },
      "execution_count": 10,
      "outputs": [
        {
          "output_type": "stream",
          "name": "stderr",
          "text": [
            "/usr/local/lib/python3.10/dist-packages/ipykernel/ipkernel.py:283: DeprecationWarning: `should_run_async` will not call `transform_cell` automatically in the future. Please pass the result to `transformed_cell` argument and any exception that happen during thetransform in `preprocessing_exc_tuple` in IPython 7.17 and above.\n",
            "  and should_run_async(code)\n",
            "/usr/local/lib/python3.10/dist-packages/mlxtend/frequent_patterns/fpcommon.py:109: DeprecationWarning: DataFrames with non-bool types result in worse computationalperformance and their support might be discontinued in the future.Please use a DataFrame with bool type\n",
            "  warnings.warn(\n"
          ]
        }
      ]
    },
    {
      "cell_type": "code",
      "source": [
        "a1"
      ],
      "metadata": {
        "colab": {
          "base_uri": "https://localhost:8080/",
          "height": 809
        },
        "id": "6Dj9qInoUttb",
        "outputId": "7176f53f-8586-49cf-9cd3-e4ae076c6d08"
      },
      "execution_count": 11,
      "outputs": [
        {
          "output_type": "stream",
          "name": "stderr",
          "text": [
            "/usr/local/lib/python3.10/dist-packages/ipykernel/ipkernel.py:283: DeprecationWarning: `should_run_async` will not call `transform_cell` automatically in the future. Please pass the result to `transformed_cell` argument and any exception that happen during thetransform in `preprocessing_exc_tuple` in IPython 7.17 and above.\n",
            "  and should_run_async(code)\n"
          ]
        },
        {
          "output_type": "execute_result",
          "data": {
            "text/plain": [
              "                                           antecedents  \\\n",
              "0                         (JUMBO BAG WOODLAND ANIMALS)   \n",
              "1    (SET/6 RED SPOTTY PAPER PLATES, SET/20 RED RET...   \n",
              "2    (SET/6 RED SPOTTY PAPER CUPS, SET/20 RED RETRO...   \n",
              "3    (SET/6 RED SPOTTY PAPER PLATES, POSTAGE, SET/2...   \n",
              "4    (SET/6 RED SPOTTY PAPER CUPS, POSTAGE, SET/20 ...   \n",
              "..                                                 ...   \n",
              "136                (STRAWBERRY LUNCH BOX WITH CUTLERY)   \n",
              "137                           (LUNCH BAG APPLE DESIGN)   \n",
              "138                           (LUNCH BAG APPLE DESIGN)   \n",
              "139                 (POSTAGE, LUNCH BAG RED RETROSPOT)   \n",
              "140          (POSTAGE, PLASTERS IN TIN CIRCUS PARADE )   \n",
              "\n",
              "                             consequents  antecedent support  \\\n",
              "0                              (POSTAGE)              0.0651   \n",
              "1          (SET/6 RED SPOTTY PAPER CUPS)              0.0868   \n",
              "2        (SET/6 RED SPOTTY PAPER PLATES)              0.0868   \n",
              "3          (SET/6 RED SPOTTY PAPER CUPS)              0.0716   \n",
              "4        (SET/6 RED SPOTTY PAPER PLATES)              0.0716   \n",
              "..                                   ...                 ...   \n",
              "136  (LUNCH BOX WITH CUTLERY RETROSPOT )              0.1041   \n",
              "137         (LUNCH BAG SPACEBOY DESIGN )              0.1085   \n",
              "138            (LUNCH BAG RED RETROSPOT)              0.1085   \n",
              "139             (LUNCH BAG APPLE DESIGN)              0.1041   \n",
              "140           (PLASTERS IN TIN SPACEBOY)              0.1258   \n",
              "\n",
              "     consequent support  support  confidence    lift  leverage  conviction  \\\n",
              "0                0.6746   0.0651      1.0000  1.4823    0.0212         inf   \n",
              "1                0.1171   0.0846      0.9750  8.3236    0.0744     35.3145   \n",
              "2                0.1085   0.0846      0.9750  8.9895    0.0752     35.6616   \n",
              "3                0.1171   0.0694      0.9697  8.2783    0.0610     29.1345   \n",
              "4                0.1085   0.0694      0.9697  8.9406    0.0617     29.4208   \n",
              "..                  ...      ...         ...     ...       ...         ...   \n",
              "136              0.1236   0.0542      0.5208  4.2124    0.0414      1.8289   \n",
              "137              0.1041   0.0564      0.5200  4.9942    0.0451      1.8664   \n",
              "138              0.1323   0.0564      0.5200  3.9298    0.0420      1.8077   \n",
              "139              0.1085   0.0521      0.5000  4.6100    0.0408      1.7831   \n",
              "140              0.1193   0.0629      0.5000  4.1909    0.0479      1.7614   \n",
              "\n",
              "     zhangs_metric  \n",
              "0           0.3480  \n",
              "1           0.9635  \n",
              "2           0.9732  \n",
              "3           0.9470  \n",
              "4           0.9566  \n",
              "..             ...  \n",
              "136         0.8512  \n",
              "137         0.8971  \n",
              "138         0.8362  \n",
              "139         0.8741  \n",
              "140         0.8710  \n",
              "\n",
              "[141 rows x 10 columns]"
            ],
            "text/html": [
              "\n",
              "  <div id=\"df-bc72fef0-9cfa-428d-af22-52d2ffd3b0e2\" class=\"colab-df-container\">\n",
              "    <div>\n",
              "<style scoped>\n",
              "    .dataframe tbody tr th:only-of-type {\n",
              "        vertical-align: middle;\n",
              "    }\n",
              "\n",
              "    .dataframe tbody tr th {\n",
              "        vertical-align: top;\n",
              "    }\n",
              "\n",
              "    .dataframe thead th {\n",
              "        text-align: right;\n",
              "    }\n",
              "</style>\n",
              "<table border=\"1\" class=\"dataframe\">\n",
              "  <thead>\n",
              "    <tr style=\"text-align: right;\">\n",
              "      <th></th>\n",
              "      <th>antecedents</th>\n",
              "      <th>consequents</th>\n",
              "      <th>antecedent support</th>\n",
              "      <th>consequent support</th>\n",
              "      <th>support</th>\n",
              "      <th>confidence</th>\n",
              "      <th>lift</th>\n",
              "      <th>leverage</th>\n",
              "      <th>conviction</th>\n",
              "      <th>zhangs_metric</th>\n",
              "    </tr>\n",
              "  </thead>\n",
              "  <tbody>\n",
              "    <tr>\n",
              "      <th>0</th>\n",
              "      <td>(JUMBO BAG WOODLAND ANIMALS)</td>\n",
              "      <td>(POSTAGE)</td>\n",
              "      <td>0.0651</td>\n",
              "      <td>0.6746</td>\n",
              "      <td>0.0651</td>\n",
              "      <td>1.0000</td>\n",
              "      <td>1.4823</td>\n",
              "      <td>0.0212</td>\n",
              "      <td>inf</td>\n",
              "      <td>0.3480</td>\n",
              "    </tr>\n",
              "    <tr>\n",
              "      <th>1</th>\n",
              "      <td>(SET/6 RED SPOTTY PAPER PLATES, SET/20 RED RET...</td>\n",
              "      <td>(SET/6 RED SPOTTY PAPER CUPS)</td>\n",
              "      <td>0.0868</td>\n",
              "      <td>0.1171</td>\n",
              "      <td>0.0846</td>\n",
              "      <td>0.9750</td>\n",
              "      <td>8.3236</td>\n",
              "      <td>0.0744</td>\n",
              "      <td>35.3145</td>\n",
              "      <td>0.9635</td>\n",
              "    </tr>\n",
              "    <tr>\n",
              "      <th>2</th>\n",
              "      <td>(SET/6 RED SPOTTY PAPER CUPS, SET/20 RED RETRO...</td>\n",
              "      <td>(SET/6 RED SPOTTY PAPER PLATES)</td>\n",
              "      <td>0.0868</td>\n",
              "      <td>0.1085</td>\n",
              "      <td>0.0846</td>\n",
              "      <td>0.9750</td>\n",
              "      <td>8.9895</td>\n",
              "      <td>0.0752</td>\n",
              "      <td>35.6616</td>\n",
              "      <td>0.9732</td>\n",
              "    </tr>\n",
              "    <tr>\n",
              "      <th>3</th>\n",
              "      <td>(SET/6 RED SPOTTY PAPER PLATES, POSTAGE, SET/2...</td>\n",
              "      <td>(SET/6 RED SPOTTY PAPER CUPS)</td>\n",
              "      <td>0.0716</td>\n",
              "      <td>0.1171</td>\n",
              "      <td>0.0694</td>\n",
              "      <td>0.9697</td>\n",
              "      <td>8.2783</td>\n",
              "      <td>0.0610</td>\n",
              "      <td>29.1345</td>\n",
              "      <td>0.9470</td>\n",
              "    </tr>\n",
              "    <tr>\n",
              "      <th>4</th>\n",
              "      <td>(SET/6 RED SPOTTY PAPER CUPS, POSTAGE, SET/20 ...</td>\n",
              "      <td>(SET/6 RED SPOTTY PAPER PLATES)</td>\n",
              "      <td>0.0716</td>\n",
              "      <td>0.1085</td>\n",
              "      <td>0.0694</td>\n",
              "      <td>0.9697</td>\n",
              "      <td>8.9406</td>\n",
              "      <td>0.0617</td>\n",
              "      <td>29.4208</td>\n",
              "      <td>0.9566</td>\n",
              "    </tr>\n",
              "    <tr>\n",
              "      <th>...</th>\n",
              "      <td>...</td>\n",
              "      <td>...</td>\n",
              "      <td>...</td>\n",
              "      <td>...</td>\n",
              "      <td>...</td>\n",
              "      <td>...</td>\n",
              "      <td>...</td>\n",
              "      <td>...</td>\n",
              "      <td>...</td>\n",
              "      <td>...</td>\n",
              "    </tr>\n",
              "    <tr>\n",
              "      <th>136</th>\n",
              "      <td>(STRAWBERRY LUNCH BOX WITH CUTLERY)</td>\n",
              "      <td>(LUNCH BOX WITH CUTLERY RETROSPOT )</td>\n",
              "      <td>0.1041</td>\n",
              "      <td>0.1236</td>\n",
              "      <td>0.0542</td>\n",
              "      <td>0.5208</td>\n",
              "      <td>4.2124</td>\n",
              "      <td>0.0414</td>\n",
              "      <td>1.8289</td>\n",
              "      <td>0.8512</td>\n",
              "    </tr>\n",
              "    <tr>\n",
              "      <th>137</th>\n",
              "      <td>(LUNCH BAG APPLE DESIGN)</td>\n",
              "      <td>(LUNCH BAG SPACEBOY DESIGN )</td>\n",
              "      <td>0.1085</td>\n",
              "      <td>0.1041</td>\n",
              "      <td>0.0564</td>\n",
              "      <td>0.5200</td>\n",
              "      <td>4.9942</td>\n",
              "      <td>0.0451</td>\n",
              "      <td>1.8664</td>\n",
              "      <td>0.8971</td>\n",
              "    </tr>\n",
              "    <tr>\n",
              "      <th>138</th>\n",
              "      <td>(LUNCH BAG APPLE DESIGN)</td>\n",
              "      <td>(LUNCH BAG RED RETROSPOT)</td>\n",
              "      <td>0.1085</td>\n",
              "      <td>0.1323</td>\n",
              "      <td>0.0564</td>\n",
              "      <td>0.5200</td>\n",
              "      <td>3.9298</td>\n",
              "      <td>0.0420</td>\n",
              "      <td>1.8077</td>\n",
              "      <td>0.8362</td>\n",
              "    </tr>\n",
              "    <tr>\n",
              "      <th>139</th>\n",
              "      <td>(POSTAGE, LUNCH BAG RED RETROSPOT)</td>\n",
              "      <td>(LUNCH BAG APPLE DESIGN)</td>\n",
              "      <td>0.1041</td>\n",
              "      <td>0.1085</td>\n",
              "      <td>0.0521</td>\n",
              "      <td>0.5000</td>\n",
              "      <td>4.6100</td>\n",
              "      <td>0.0408</td>\n",
              "      <td>1.7831</td>\n",
              "      <td>0.8741</td>\n",
              "    </tr>\n",
              "    <tr>\n",
              "      <th>140</th>\n",
              "      <td>(POSTAGE, PLASTERS IN TIN CIRCUS PARADE )</td>\n",
              "      <td>(PLASTERS IN TIN SPACEBOY)</td>\n",
              "      <td>0.1258</td>\n",
              "      <td>0.1193</td>\n",
              "      <td>0.0629</td>\n",
              "      <td>0.5000</td>\n",
              "      <td>4.1909</td>\n",
              "      <td>0.0479</td>\n",
              "      <td>1.7614</td>\n",
              "      <td>0.8710</td>\n",
              "    </tr>\n",
              "  </tbody>\n",
              "</table>\n",
              "<p>141 rows × 10 columns</p>\n",
              "</div>\n",
              "    <div class=\"colab-df-buttons\">\n",
              "\n",
              "  <div class=\"colab-df-container\">\n",
              "    <button class=\"colab-df-convert\" onclick=\"convertToInteractive('df-bc72fef0-9cfa-428d-af22-52d2ffd3b0e2')\"\n",
              "            title=\"Convert this dataframe to an interactive table.\"\n",
              "            style=\"display:none;\">\n",
              "\n",
              "  <svg xmlns=\"http://www.w3.org/2000/svg\" height=\"24px\" viewBox=\"0 -960 960 960\">\n",
              "    <path d=\"M120-120v-720h720v720H120Zm60-500h600v-160H180v160Zm220 220h160v-160H400v160Zm0 220h160v-160H400v160ZM180-400h160v-160H180v160Zm440 0h160v-160H620v160ZM180-180h160v-160H180v160Zm440 0h160v-160H620v160Z\"/>\n",
              "  </svg>\n",
              "    </button>\n",
              "\n",
              "  <style>\n",
              "    .colab-df-container {\n",
              "      display:flex;\n",
              "      gap: 12px;\n",
              "    }\n",
              "\n",
              "    .colab-df-convert {\n",
              "      background-color: #E8F0FE;\n",
              "      border: none;\n",
              "      border-radius: 50%;\n",
              "      cursor: pointer;\n",
              "      display: none;\n",
              "      fill: #1967D2;\n",
              "      height: 32px;\n",
              "      padding: 0 0 0 0;\n",
              "      width: 32px;\n",
              "    }\n",
              "\n",
              "    .colab-df-convert:hover {\n",
              "      background-color: #E2EBFA;\n",
              "      box-shadow: 0px 1px 2px rgba(60, 64, 67, 0.3), 0px 1px 3px 1px rgba(60, 64, 67, 0.15);\n",
              "      fill: #174EA6;\n",
              "    }\n",
              "\n",
              "    .colab-df-buttons div {\n",
              "      margin-bottom: 4px;\n",
              "    }\n",
              "\n",
              "    [theme=dark] .colab-df-convert {\n",
              "      background-color: #3B4455;\n",
              "      fill: #D2E3FC;\n",
              "    }\n",
              "\n",
              "    [theme=dark] .colab-df-convert:hover {\n",
              "      background-color: #434B5C;\n",
              "      box-shadow: 0px 1px 3px 1px rgba(0, 0, 0, 0.15);\n",
              "      filter: drop-shadow(0px 1px 2px rgba(0, 0, 0, 0.3));\n",
              "      fill: #FFFFFF;\n",
              "    }\n",
              "  </style>\n",
              "\n",
              "    <script>\n",
              "      const buttonEl =\n",
              "        document.querySelector('#df-bc72fef0-9cfa-428d-af22-52d2ffd3b0e2 button.colab-df-convert');\n",
              "      buttonEl.style.display =\n",
              "        google.colab.kernel.accessAllowed ? 'block' : 'none';\n",
              "\n",
              "      async function convertToInteractive(key) {\n",
              "        const element = document.querySelector('#df-bc72fef0-9cfa-428d-af22-52d2ffd3b0e2');\n",
              "        const dataTable =\n",
              "          await google.colab.kernel.invokeFunction('convertToInteractive',\n",
              "                                                    [key], {});\n",
              "        if (!dataTable) return;\n",
              "\n",
              "        const docLinkHtml = 'Like what you see? Visit the ' +\n",
              "          '<a target=\"_blank\" href=https://colab.research.google.com/notebooks/data_table.ipynb>data table notebook</a>'\n",
              "          + ' to learn more about interactive tables.';\n",
              "        element.innerHTML = '';\n",
              "        dataTable['output_type'] = 'display_data';\n",
              "        await google.colab.output.renderOutput(dataTable, element);\n",
              "        const docLink = document.createElement('div');\n",
              "        docLink.innerHTML = docLinkHtml;\n",
              "        element.appendChild(docLink);\n",
              "      }\n",
              "    </script>\n",
              "  </div>\n",
              "\n",
              "\n",
              "<div id=\"df-5971e8ab-b8fe-416a-8f04-bf77996e9005\">\n",
              "  <button class=\"colab-df-quickchart\" onclick=\"quickchart('df-5971e8ab-b8fe-416a-8f04-bf77996e9005')\"\n",
              "            title=\"Suggest charts\"\n",
              "            style=\"display:none;\">\n",
              "\n",
              "<svg xmlns=\"http://www.w3.org/2000/svg\" height=\"24px\"viewBox=\"0 0 24 24\"\n",
              "     width=\"24px\">\n",
              "    <g>\n",
              "        <path d=\"M19 3H5c-1.1 0-2 .9-2 2v14c0 1.1.9 2 2 2h14c1.1 0 2-.9 2-2V5c0-1.1-.9-2-2-2zM9 17H7v-7h2v7zm4 0h-2V7h2v10zm4 0h-2v-4h2v4z\"/>\n",
              "    </g>\n",
              "</svg>\n",
              "  </button>\n",
              "\n",
              "<style>\n",
              "  .colab-df-quickchart {\n",
              "      --bg-color: #E8F0FE;\n",
              "      --fill-color: #1967D2;\n",
              "      --hover-bg-color: #E2EBFA;\n",
              "      --hover-fill-color: #174EA6;\n",
              "      --disabled-fill-color: #AAA;\n",
              "      --disabled-bg-color: #DDD;\n",
              "  }\n",
              "\n",
              "  [theme=dark] .colab-df-quickchart {\n",
              "      --bg-color: #3B4455;\n",
              "      --fill-color: #D2E3FC;\n",
              "      --hover-bg-color: #434B5C;\n",
              "      --hover-fill-color: #FFFFFF;\n",
              "      --disabled-bg-color: #3B4455;\n",
              "      --disabled-fill-color: #666;\n",
              "  }\n",
              "\n",
              "  .colab-df-quickchart {\n",
              "    background-color: var(--bg-color);\n",
              "    border: none;\n",
              "    border-radius: 50%;\n",
              "    cursor: pointer;\n",
              "    display: none;\n",
              "    fill: var(--fill-color);\n",
              "    height: 32px;\n",
              "    padding: 0;\n",
              "    width: 32px;\n",
              "  }\n",
              "\n",
              "  .colab-df-quickchart:hover {\n",
              "    background-color: var(--hover-bg-color);\n",
              "    box-shadow: 0 1px 2px rgba(60, 64, 67, 0.3), 0 1px 3px 1px rgba(60, 64, 67, 0.15);\n",
              "    fill: var(--button-hover-fill-color);\n",
              "  }\n",
              "\n",
              "  .colab-df-quickchart-complete:disabled,\n",
              "  .colab-df-quickchart-complete:disabled:hover {\n",
              "    background-color: var(--disabled-bg-color);\n",
              "    fill: var(--disabled-fill-color);\n",
              "    box-shadow: none;\n",
              "  }\n",
              "\n",
              "  .colab-df-spinner {\n",
              "    border: 2px solid var(--fill-color);\n",
              "    border-color: transparent;\n",
              "    border-bottom-color: var(--fill-color);\n",
              "    animation:\n",
              "      spin 1s steps(1) infinite;\n",
              "  }\n",
              "\n",
              "  @keyframes spin {\n",
              "    0% {\n",
              "      border-color: transparent;\n",
              "      border-bottom-color: var(--fill-color);\n",
              "      border-left-color: var(--fill-color);\n",
              "    }\n",
              "    20% {\n",
              "      border-color: transparent;\n",
              "      border-left-color: var(--fill-color);\n",
              "      border-top-color: var(--fill-color);\n",
              "    }\n",
              "    30% {\n",
              "      border-color: transparent;\n",
              "      border-left-color: var(--fill-color);\n",
              "      border-top-color: var(--fill-color);\n",
              "      border-right-color: var(--fill-color);\n",
              "    }\n",
              "    40% {\n",
              "      border-color: transparent;\n",
              "      border-right-color: var(--fill-color);\n",
              "      border-top-color: var(--fill-color);\n",
              "    }\n",
              "    60% {\n",
              "      border-color: transparent;\n",
              "      border-right-color: var(--fill-color);\n",
              "    }\n",
              "    80% {\n",
              "      border-color: transparent;\n",
              "      border-right-color: var(--fill-color);\n",
              "      border-bottom-color: var(--fill-color);\n",
              "    }\n",
              "    90% {\n",
              "      border-color: transparent;\n",
              "      border-bottom-color: var(--fill-color);\n",
              "    }\n",
              "  }\n",
              "</style>\n",
              "\n",
              "  <script>\n",
              "    async function quickchart(key) {\n",
              "      const quickchartButtonEl =\n",
              "        document.querySelector('#' + key + ' button');\n",
              "      quickchartButtonEl.disabled = true;  // To prevent multiple clicks.\n",
              "      quickchartButtonEl.classList.add('colab-df-spinner');\n",
              "      try {\n",
              "        const charts = await google.colab.kernel.invokeFunction(\n",
              "            'suggestCharts', [key], {});\n",
              "      } catch (error) {\n",
              "        console.error('Error during call to suggestCharts:', error);\n",
              "      }\n",
              "      quickchartButtonEl.classList.remove('colab-df-spinner');\n",
              "      quickchartButtonEl.classList.add('colab-df-quickchart-complete');\n",
              "    }\n",
              "    (() => {\n",
              "      let quickchartButtonEl =\n",
              "        document.querySelector('#df-5971e8ab-b8fe-416a-8f04-bf77996e9005 button');\n",
              "      quickchartButtonEl.style.display =\n",
              "        google.colab.kernel.accessAllowed ? 'block' : 'none';\n",
              "    })();\n",
              "  </script>\n",
              "</div>\n",
              "\n",
              "  <div id=\"id_068c56a3-6de3-4fd1-9fc7-be9c5d091c9f\">\n",
              "    <style>\n",
              "      .colab-df-generate {\n",
              "        background-color: #E8F0FE;\n",
              "        border: none;\n",
              "        border-radius: 50%;\n",
              "        cursor: pointer;\n",
              "        display: none;\n",
              "        fill: #1967D2;\n",
              "        height: 32px;\n",
              "        padding: 0 0 0 0;\n",
              "        width: 32px;\n",
              "      }\n",
              "\n",
              "      .colab-df-generate:hover {\n",
              "        background-color: #E2EBFA;\n",
              "        box-shadow: 0px 1px 2px rgba(60, 64, 67, 0.3), 0px 1px 3px 1px rgba(60, 64, 67, 0.15);\n",
              "        fill: #174EA6;\n",
              "      }\n",
              "\n",
              "      [theme=dark] .colab-df-generate {\n",
              "        background-color: #3B4455;\n",
              "        fill: #D2E3FC;\n",
              "      }\n",
              "\n",
              "      [theme=dark] .colab-df-generate:hover {\n",
              "        background-color: #434B5C;\n",
              "        box-shadow: 0px 1px 3px 1px rgba(0, 0, 0, 0.15);\n",
              "        filter: drop-shadow(0px 1px 2px rgba(0, 0, 0, 0.3));\n",
              "        fill: #FFFFFF;\n",
              "      }\n",
              "    </style>\n",
              "    <button class=\"colab-df-generate\" onclick=\"generateWithVariable('a1')\"\n",
              "            title=\"Generate code using this dataframe.\"\n",
              "            style=\"display:none;\">\n",
              "\n",
              "  <svg xmlns=\"http://www.w3.org/2000/svg\" height=\"24px\"viewBox=\"0 0 24 24\"\n",
              "       width=\"24px\">\n",
              "    <path d=\"M7,19H8.4L18.45,9,17,7.55,7,17.6ZM5,21V16.75L18.45,3.32a2,2,0,0,1,2.83,0l1.4,1.43a1.91,1.91,0,0,1,.58,1.4,1.91,1.91,0,0,1-.58,1.4L9.25,21ZM18.45,9,17,7.55Zm-12,3A5.31,5.31,0,0,0,4.9,8.1,5.31,5.31,0,0,0,1,6.5,5.31,5.31,0,0,0,4.9,4.9,5.31,5.31,0,0,0,6.5,1,5.31,5.31,0,0,0,8.1,4.9,5.31,5.31,0,0,0,12,6.5,5.46,5.46,0,0,0,6.5,12Z\"/>\n",
              "  </svg>\n",
              "    </button>\n",
              "    <script>\n",
              "      (() => {\n",
              "      const buttonEl =\n",
              "        document.querySelector('#id_068c56a3-6de3-4fd1-9fc7-be9c5d091c9f button.colab-df-generate');\n",
              "      buttonEl.style.display =\n",
              "        google.colab.kernel.accessAllowed ? 'block' : 'none';\n",
              "\n",
              "      buttonEl.onclick = () => {\n",
              "        google.colab.notebook.generateWithVariable('a1');\n",
              "      }\n",
              "      })();\n",
              "    </script>\n",
              "  </div>\n",
              "\n",
              "    </div>\n",
              "  </div>\n"
            ],
            "application/vnd.google.colaboratory.intrinsic+json": {
              "type": "dataframe",
              "variable_name": "a1",
              "repr_error": "Out of range float values are not JSON compliant: inf"
            }
          },
          "metadata": {},
          "execution_count": 11
        }
      ]
    },
    {
      "cell_type": "code",
      "source": [
        "plot_model(a1)"
      ],
      "metadata": {
        "colab": {
          "base_uri": "https://localhost:8080/",
          "height": 873
        },
        "id": "xkPAu8DxUxwk",
        "outputId": "3a5f67a2-0915-4e45-b31e-a24f30701a92"
      },
      "execution_count": 12,
      "outputs": [
        {
          "output_type": "stream",
          "name": "stderr",
          "text": [
            "/usr/local/lib/python3.10/dist-packages/ipykernel/ipkernel.py:283: DeprecationWarning: `should_run_async` will not call `transform_cell` automatically in the future. Please pass the result to `transformed_cell` argument and any exception that happen during thetransform in `preprocessing_exc_tuple` in IPython 7.17 and above.\n",
            "  and should_run_async(code)\n"
          ]
        },
        {
          "output_type": "display_data",
          "data": {
            "text/html": [
              "        <script type=\"text/javascript\">\n",
              "        window.PlotlyConfig = {MathJaxConfig: 'local'};\n",
              "        if (window.MathJax && window.MathJax.Hub && window.MathJax.Hub.Config) {window.MathJax.Hub.Config({SVG: {font: \"STIX-Web\"}});}\n",
              "        if (typeof require !== 'undefined') {\n",
              "        require.undef(\"plotly\");\n",
              "        requirejs.config({\n",
              "            paths: {\n",
              "                'plotly': ['https://cdn.plot.ly/plotly-2.24.1.min']\n",
              "            }\n",
              "        });\n",
              "        require(['plotly'], function(Plotly) {\n",
              "            window._Plotly = Plotly;\n",
              "        });\n",
              "        }\n",
              "        </script>\n",
              "        "
            ]
          },
          "metadata": {}
        },
        {
          "output_type": "display_data",
          "data": {
            "application/vnd.plotly.v1+json": {
              "data": [
                {
                  "customdata": [
                    [
                      "JUMBO BAG WOODLAND ANIMALS",
                      "POSTAGE"
                    ],
                    [
                      "SET/6 RED SPOTTY PAPER PLATES",
                      "SET/6 RED SPOTTY PAPER CUPS"
                    ],
                    [
                      "SET/6 RED SPOTTY PAPER CUPS",
                      "SET/6 RED SPOTTY PAPER PLATES"
                    ],
                    [
                      "SET/6 RED SPOTTY PAPER PLATES",
                      "SET/6 RED SPOTTY PAPER CUPS"
                    ],
                    [
                      "SET/6 RED SPOTTY PAPER CUPS",
                      "SET/6 RED SPOTTY PAPER PLATES"
                    ],
                    [
                      "SET OF 9 BLACK SKULL BALLOONS",
                      "POSTAGE"
                    ],
                    [
                      "PACK OF 6 SKULL PAPER CUPS",
                      "POSTAGE"
                    ],
                    [
                      "SET/6 RED SPOTTY PAPER PLATES",
                      "SET/6 RED SPOTTY PAPER CUPS"
                    ],
                    [
                      "SET/6 RED SPOTTY PAPER PLATES",
                      "SET/6 RED SPOTTY PAPER CUPS"
                    ],
                    [
                      "TEA PARTY BIRTHDAY CARD",
                      "POSTAGE"
                    ],
                    [
                      "STRAWBERRY LUNCH BOX WITH CUTLERY",
                      "POSTAGE"
                    ],
                    [
                      "RED RETROSPOT PICNIC BAG",
                      "POSTAGE"
                    ],
                    [
                      "CHILDRENS CUTLERY SPACEBOY ",
                      "CHILDRENS CUTLERY DOLLY GIRL "
                    ],
                    [
                      "SET OF 2 TEA TOWELS APPLE AND PEARS",
                      "POSTAGE"
                    ],
                    [
                      "ASSORTED COLOUR MINI CASES",
                      "POSTAGE"
                    ],
                    [
                      "LUNCH BAG APPLE DESIGN",
                      "POSTAGE"
                    ],
                    [
                      "ALARM CLOCK BAKELIKE RED ",
                      "POSTAGE"
                    ],
                    [
                      "ROUND SNACK BOXES SET OF4 WOODLAND ",
                      "POSTAGE"
                    ],
                    [
                      "ALARM CLOCK BAKELIKE RED ",
                      "POSTAGE"
                    ],
                    [
                      "WOODLAND CHARLOTTE BAG",
                      "POSTAGE"
                    ],
                    [
                      "ALARM CLOCK BAKELIKE RED ",
                      "POSTAGE"
                    ],
                    [
                      "SET/6 RED SPOTTY PAPER CUPS",
                      "SET/6 RED SPOTTY PAPER PLATES"
                    ],
                    [
                      "ALARM CLOCK BAKELIKE PINK",
                      "POSTAGE"
                    ],
                    [
                      "PAPER BUNTING RETROSPOT",
                      "POSTAGE"
                    ],
                    [
                      "SET/6 RED SPOTTY PAPER CUPS",
                      "SET/6 RED SPOTTY PAPER PLATES"
                    ],
                    [
                      "RABBIT NIGHT LIGHT",
                      "POSTAGE"
                    ],
                    [
                      "ALARM CLOCK BAKELIKE RED ",
                      "ALARM CLOCK BAKELIKE GREEN"
                    ],
                    [
                      "ALARM CLOCK BAKELIKE GREEN",
                      "ALARM CLOCK BAKELIKE RED "
                    ],
                    [
                      "CHILDRENS CUTLERY DOLLY GIRL ",
                      "CHILDRENS CUTLERY SPACEBOY "
                    ],
                    [
                      "RED TOADSTOOL LED NIGHT LIGHT",
                      "POSTAGE"
                    ],
                    [
                      "ROUND SNACK BOXES SET OF 4 FRUITS ",
                      "POSTAGE"
                    ],
                    [
                      "COFFEE MUG APPLES DESIGN",
                      "POSTAGE"
                    ],
                    [
                      "PLASTERS IN TIN CIRCUS PARADE ",
                      "POSTAGE"
                    ],
                    [
                      "SET/6 RED SPOTTY PAPER CUPS",
                      "POSTAGE"
                    ],
                    [
                      "LUNCH BAG WOODLAND",
                      "POSTAGE"
                    ],
                    [
                      "POSTAGE",
                      "ALARM CLOCK BAKELIKE RED "
                    ],
                    [
                      "ALARM CLOCK BAKELIKE GREEN",
                      "POSTAGE"
                    ],
                    [
                      "RED RETROSPOT CHARLOTTE BAG",
                      "POSTAGE"
                    ],
                    [
                      "JUMBO BAG RED RETROSPOT",
                      "POSTAGE"
                    ],
                    [
                      "SET/6 RED SPOTTY PAPER PLATES",
                      "POSTAGE"
                    ],
                    [
                      "ALARM CLOCK BAKELIKE RED ",
                      "ALARM CLOCK BAKELIKE GREEN"
                    ],
                    [
                      "SET/10 RED POLKADOT PARTY CANDLES",
                      "POSTAGE"
                    ],
                    [
                      "SET/6 RED SPOTTY PAPER PLATES",
                      "POSTAGE"
                    ],
                    [
                      "ALARM CLOCK BAKELIKE GREEN",
                      "POSTAGE"
                    ],
                    [
                      "SET/20 RED RETROSPOT PAPER NAPKINS ",
                      "POSTAGE"
                    ],
                    [
                      "SET/6 RED SPOTTY PAPER PLATES",
                      "POSTAGE"
                    ],
                    [
                      "SET/6 RED SPOTTY PAPER CUPS",
                      "POSTAGE"
                    ],
                    [
                      "PACK OF 72 RETROSPOT CAKE CASES",
                      "POSTAGE"
                    ],
                    [
                      "PLASTERS IN TIN WOODLAND ANIMALS",
                      "POSTAGE"
                    ],
                    [
                      "ALARM CLOCK BAKELIKE RED ",
                      "ALARM CLOCK BAKELIKE GREEN"
                    ],
                    [
                      "SET/6 RED SPOTTY PAPER PLATES",
                      "POSTAGE"
                    ],
                    [
                      "LUNCH BAG APPLE DESIGN",
                      "POSTAGE"
                    ],
                    [
                      "RED RETROSPOT MINI CASES",
                      "POSTAGE"
                    ],
                    [
                      "PLASTERS IN TIN SPACEBOY",
                      "POSTAGE"
                    ],
                    [
                      "SET/6 RED SPOTTY PAPER PLATES",
                      "SET/20 RED RETROSPOT PAPER NAPKINS "
                    ],
                    [
                      "ALARM CLOCK BAKELIKE RED ",
                      "ALARM CLOCK BAKELIKE PINK"
                    ],
                    [
                      "PLASTERS IN TIN WOODLAND ANIMALS",
                      "POSTAGE"
                    ],
                    [
                      "PLASTERS IN TIN SPACEBOY",
                      "POSTAGE"
                    ],
                    [
                      "PLASTERS IN TIN SPACEBOY",
                      "POSTAGE"
                    ],
                    [
                      "SET/6 RED SPOTTY PAPER CUPS",
                      "SET/6 RED SPOTTY PAPER PLATES"
                    ],
                    [
                      "SET/6 RED SPOTTY PAPER PLATES",
                      "SET/6 RED SPOTTY PAPER CUPS"
                    ],
                    [
                      "SET/6 RED SPOTTY PAPER PLATES",
                      "SET/20 RED RETROSPOT PAPER NAPKINS "
                    ],
                    [
                      "SET/6 RED SPOTTY PAPER PLATES",
                      "SET/20 RED RETROSPOT PAPER NAPKINS "
                    ],
                    [
                      "SET/6 RED SPOTTY PAPER PLATES",
                      "SET/6 RED SPOTTY PAPER CUPS"
                    ],
                    [
                      "ALARM CLOCK BAKELIKE GREEN",
                      "ALARM CLOCK BAKELIKE RED "
                    ],
                    [
                      "LUNCH BOX WITH CUTLERY RETROSPOT ",
                      "POSTAGE"
                    ],
                    [
                      "LUNCH BAG RED RETROSPOT",
                      "POSTAGE"
                    ],
                    [
                      "SET/6 RED SPOTTY PAPER PLATES",
                      "SET/20 RED RETROSPOT PAPER NAPKINS "
                    ],
                    [
                      "ALARM CLOCK BAKELIKE RED ",
                      "ALARM CLOCK BAKELIKE PINK"
                    ],
                    [
                      "PLASTERS IN TIN STRONGMAN",
                      "POSTAGE"
                    ],
                    [
                      "MINI PAINT SET VINTAGE ",
                      "POSTAGE"
                    ],
                    [
                      "SET/6 RED SPOTTY PAPER PLATES",
                      "SET/6 RED SPOTTY PAPER CUPS"
                    ],
                    [
                      "REGENCY CAKESTAND 3 TIER",
                      "POSTAGE"
                    ],
                    [
                      "SPACEBOY LUNCH BOX ",
                      "POSTAGE"
                    ],
                    [
                      "SET/20 RED RETROSPOT PAPER NAPKINS ",
                      "SET/6 RED SPOTTY PAPER PLATES"
                    ],
                    [
                      "SET/20 RED RETROSPOT PAPER NAPKINS ",
                      "SET/6 RED SPOTTY PAPER CUPS"
                    ],
                    [
                      "POSTAGE",
                      "SET/6 RED SPOTTY PAPER PLATES"
                    ],
                    [
                      "POSTAGE",
                      "SET/6 RED SPOTTY PAPER CUPS"
                    ],
                    [
                      "ALARM CLOCK BAKELIKE RED ",
                      "ALARM CLOCK BAKELIKE PINK"
                    ],
                    [
                      "SET/6 RED SPOTTY PAPER PLATES",
                      "SET/6 RED SPOTTY PAPER CUPS"
                    ],
                    [
                      "ALARM CLOCK BAKELIKE RED ",
                      "POSTAGE"
                    ],
                    [
                      "SET/20 RED RETROSPOT PAPER NAPKINS ",
                      "SET/6 RED SPOTTY PAPER PLATES"
                    ],
                    [
                      "PLASTERS IN TIN SPACEBOY",
                      "PLASTERS IN TIN WOODLAND ANIMALS"
                    ],
                    [
                      "LUNCH BAG SPACEBOY DESIGN ",
                      "POSTAGE"
                    ],
                    [
                      "PLASTERS IN TIN SPACEBOY",
                      "PLASTERS IN TIN WOODLAND ANIMALS"
                    ],
                    [
                      "POSTAGE",
                      "SET/6 RED SPOTTY PAPER PLATES"
                    ],
                    [
                      "ALARM CLOCK BAKELIKE GREEN",
                      "ALARM CLOCK BAKELIKE PINK"
                    ],
                    [
                      "POSTAGE",
                      "ALARM CLOCK BAKELIKE RED "
                    ],
                    [
                      "SET/6 RED SPOTTY PAPER CUPS",
                      "SET/20 RED RETROSPOT PAPER NAPKINS "
                    ],
                    [
                      "SET/6 RED SPOTTY PAPER CUPS",
                      "SET/6 RED SPOTTY PAPER PLATES"
                    ],
                    [
                      "PLASTERS IN TIN SPACEBOY",
                      "PLASTERS IN TIN WOODLAND ANIMALS"
                    ],
                    [
                      "POSTAGE",
                      "ALARM CLOCK BAKELIKE PINK"
                    ],
                    [
                      "ALARM CLOCK BAKELIKE PINK",
                      "ALARM CLOCK BAKELIKE GREEN"
                    ],
                    [
                      "ALARM CLOCK BAKELIKE PINK",
                      "ALARM CLOCK BAKELIKE RED "
                    ],
                    [
                      "DOLLY GIRL LUNCH BOX",
                      "POSTAGE"
                    ],
                    [
                      "SET/6 RED SPOTTY PAPER CUPS",
                      "SET/6 RED SPOTTY PAPER PLATES"
                    ],
                    [
                      "ALARM CLOCK BAKELIKE GREEN",
                      "ALARM CLOCK BAKELIKE RED "
                    ],
                    [
                      "SET/6 RED SPOTTY PAPER CUPS",
                      "SET/20 RED RETROSPOT PAPER NAPKINS "
                    ],
                    [
                      "ALARM CLOCK BAKELIKE RED ",
                      "POSTAGE"
                    ],
                    [
                      "DOLLY GIRL LUNCH BOX",
                      "SPACEBOY LUNCH BOX "
                    ],
                    [
                      "SET/6 RED SPOTTY PAPER CUPS",
                      "SET/6 RED SPOTTY PAPER PLATES"
                    ],
                    [
                      "POSTAGE",
                      "ALARM CLOCK BAKELIKE GREEN"
                    ],
                    [
                      "ALARM CLOCK BAKELIKE RED ",
                      "ALARM CLOCK BAKELIKE GREEN"
                    ],
                    [
                      "PLASTERS IN TIN WOODLAND ANIMALS",
                      "PLASTERS IN TIN SPACEBOY"
                    ],
                    [
                      "SET/6 RED SPOTTY PAPER PLATES",
                      "POSTAGE"
                    ],
                    [
                      "SET/6 RED SPOTTY PAPER PLATES",
                      "POSTAGE"
                    ],
                    [
                      "PLASTERS IN TIN SPACEBOY",
                      "PLASTERS IN TIN CIRCUS PARADE "
                    ],
                    [
                      "PLASTERS IN TIN SPACEBOY",
                      "PLASTERS IN TIN CIRCUS PARADE "
                    ],
                    [
                      "ALARM CLOCK BAKELIKE PINK",
                      "ALARM CLOCK BAKELIKE RED "
                    ],
                    [
                      "PLASTERS IN TIN SPACEBOY",
                      "PLASTERS IN TIN CIRCUS PARADE "
                    ],
                    [
                      "ALARM CLOCK BAKELIKE GREEN",
                      "ALARM CLOCK BAKELIKE RED "
                    ],
                    [
                      "SET/6 RED SPOTTY PAPER PLATES",
                      "SET/6 RED SPOTTY PAPER CUPS"
                    ],
                    [
                      "SET/20 RED RETROSPOT PAPER NAPKINS ",
                      "SET/6 RED SPOTTY PAPER PLATES"
                    ],
                    [
                      "SET/20 RED RETROSPOT PAPER NAPKINS ",
                      "SET/6 RED SPOTTY PAPER CUPS"
                    ],
                    [
                      "ALARM CLOCK BAKELIKE PINK",
                      "ALARM CLOCK BAKELIKE RED "
                    ],
                    [
                      "SET/20 RED RETROSPOT PAPER NAPKINS ",
                      "SET/6 RED SPOTTY PAPER PLATES"
                    ],
                    [
                      "ALARM CLOCK BAKELIKE GREEN",
                      "POSTAGE"
                    ],
                    [
                      "PLASTERS IN TIN WOODLAND ANIMALS",
                      "PLASTERS IN TIN SPACEBOY"
                    ],
                    [
                      "PLASTERS IN TIN WOODLAND ANIMALS",
                      "PLASTERS IN TIN CIRCUS PARADE "
                    ],
                    [
                      "PLASTERS IN TIN WOODLAND ANIMALS",
                      "PLASTERS IN TIN SPACEBOY"
                    ],
                    [
                      "SET/6 RED SPOTTY PAPER CUPS",
                      "POSTAGE"
                    ],
                    [
                      "PLASTERS IN TIN SPACEBOY",
                      "PLASTERS IN TIN WOODLAND ANIMALS"
                    ],
                    [
                      "ALARM CLOCK BAKELIKE PINK",
                      "POSTAGE"
                    ],
                    [
                      "PLASTERS IN TIN WOODLAND ANIMALS",
                      "PLASTERS IN TIN CIRCUS PARADE "
                    ],
                    [
                      "SET/6 RED SPOTTY PAPER CUPS",
                      "SET/6 RED SPOTTY PAPER PLATES"
                    ],
                    [
                      "PLASTERS IN TIN CIRCUS PARADE ",
                      "PLASTERS IN TIN WOODLAND ANIMALS"
                    ],
                    [
                      "LUNCH BAG APPLE DESIGN",
                      "LUNCH BAG RED RETROSPOT"
                    ],
                    [
                      "ROUND SNACK BOXES SET OF 4 FRUITS ",
                      "ROUND SNACK BOXES SET OF4 WOODLAND "
                    ],
                    [
                      "SPACEBOY LUNCH BOX ",
                      "DOLLY GIRL LUNCH BOX"
                    ],
                    [
                      "POSTAGE",
                      "PLASTERS IN TIN WOODLAND ANIMALS"
                    ],
                    [
                      "LUNCH BAG WOODLAND",
                      "LUNCH BAG SPACEBOY DESIGN "
                    ],
                    [
                      "LUNCH BAG SPACEBOY DESIGN ",
                      "LUNCH BAG RED RETROSPOT"
                    ],
                    [
                      "LUNCH BAG SPACEBOY DESIGN ",
                      "LUNCH BAG APPLE DESIGN"
                    ],
                    [
                      "LUNCH BAG SPACEBOY DESIGN ",
                      "LUNCH BAG WOODLAND"
                    ],
                    [
                      "PLASTERS IN TIN CIRCUS PARADE ",
                      "PLASTERS IN TIN SPACEBOY"
                    ],
                    [
                      "PLASTERS IN TIN SPACEBOY",
                      "POSTAGE"
                    ],
                    [
                      "STRAWBERRY LUNCH BOX WITH CUTLERY",
                      "LUNCH BOX WITH CUTLERY RETROSPOT "
                    ],
                    [
                      "LUNCH BAG APPLE DESIGN",
                      "LUNCH BAG SPACEBOY DESIGN "
                    ],
                    [
                      "LUNCH BAG APPLE DESIGN",
                      "LUNCH BAG RED RETROSPOT"
                    ],
                    [
                      "POSTAGE",
                      "LUNCH BAG APPLE DESIGN"
                    ],
                    [
                      "POSTAGE",
                      "PLASTERS IN TIN SPACEBOY"
                    ]
                  ],
                  "hovertemplate": "support=%{x}<br>confidence=%{y}<br>antecedents_short=%{text}<br>antecedents=%{customdata[0]}<br>consequents=%{customdata[1]}<br>lift=%{marker.color}<extra></extra>",
                  "legendgroup": "",
                  "marker": {
                    "color": [
                      1.4823,
                      8.3236,
                      8.9895,
                      8.2783,
                      8.9406,
                      1.4253,
                      1.423,
                      8.1956,
                      8.1305,
                      1.4022,
                      1.3897,
                      1.3801,
                      14.719,
                      1.3725,
                      1.3725,
                      1.3683,
                      1.3621,
                      1.3433,
                      1.3389,
                      1.329,
                      1.329,
                      8.1956,
                      1.297,
                      1.297,
                      8.0174,
                      1.2847,
                      10.1901,
                      10.7409,
                      14.719,
                      1.2764,
                      1.2755,
                      1.2706,
                      1.2643,
                      1.2627,
                      1.2615,
                      10.5717,
                      1.2543,
                      1.2483,
                      1.2483,
                      1.2451,
                      9.9037,
                      1.2353,
                      1.2353,
                      1.2267,
                      1.2258,
                      1.2229,
                      1.2229,
                      1.2229,
                      1.2229,
                      9.7345,
                      1.2163,
                      1.2155,
                      1.2128,
                      1.2128,
                      7.2031,
                      9.2944,
                      1.1947,
                      1.1941,
                      1.1931,
                      8.781,
                      8.0174,
                      7.0923,
                      7.0923,
                      8.0174,
                      9.9037,
                      1.1702,
                      1.1664,
                      6.9657,
                      9.0331,
                      1.1581,
                      1.1569,
                      8.9895,
                      1.1529,
                      1.1496,
                      7.0923,
                      6.567,
                      7.0758,
                      6.5517,
                      8.8132,
                      8.781,
                      10.5717,
                      7.2031,
                      5.1604,
                      1.1117,
                      5.1292,
                      7.1473,
                      8.5699,
                      9.2556,
                      6.567,
                      8.1305,
                      5.0458,
                      8.3818,
                      8.5699,
                      9.0331,
                      1.0747,
                      8.3236,
                      9.7345,
                      6.3599,
                      9.2556,
                      6.5857,
                      8.0174,
                      8.1055,
                      10.7409,
                      5.6577,
                      7.1473,
                      7.0758,
                      4.4645,
                      4.4374,
                      8.8132,
                      4.369,
                      10.1901,
                      8.9406,
                      6.9657,
                      6.3599,
                      9.2944,
                      7.0923,
                      8.1055,
                      5.1292,
                      4.143,
                      5.1222,
                      6.5517,
                      5.1222,
                      8.3818,
                      4.0474,
                      8.2783,
                      4.0474,
                      4.4238,
                      4.1879,
                      6.5857,
                      3.9148,
                      5.3129,
                      4.0936,
                      4.9942,
                      5.3129,
                      4.4374,
                      4.1909,
                      4.2124,
                      4.9942,
                      3.9298,
                      4.61,
                      4.1909
                    ],
                    "coloraxis": "coloraxis",
                    "opacity": 0.5,
                    "symbol": "circle"
                  },
                  "mode": "markers+text",
                  "name": "",
                  "orientation": "v",
                  "showlegend": false,
                  "text": [
                    "JUMBO BAG ",
                    "SET/6 RED ",
                    "SET/6 RED ",
                    "SET/6 RED ",
                    "SET/6 RED ",
                    "SET OF 9 B",
                    "PACK OF 6 ",
                    "SET/6 RED ",
                    "SET/6 RED ",
                    "TEA PARTY ",
                    "STRAWBERRY",
                    "RED RETROS",
                    "CHILDRENS ",
                    "SET OF 2 T",
                    "ASSORTED C",
                    "LUNCH BAG ",
                    "ALARM CLOC",
                    "ROUND SNAC",
                    "ALARM CLOC",
                    "WOODLAND C",
                    "ALARM CLOC",
                    "SET/6 RED ",
                    "ALARM CLOC",
                    "PAPER BUNT",
                    "SET/6 RED ",
                    "RABBIT NIG",
                    "ALARM CLOC",
                    "ALARM CLOC",
                    "CHILDRENS ",
                    "RED TOADST",
                    "ROUND SNAC",
                    "COFFEE MUG",
                    "PLASTERS I",
                    "SET/6 RED ",
                    "LUNCH BAG ",
                    "POSTAGE",
                    "ALARM CLOC",
                    "RED RETROS",
                    "JUMBO BAG ",
                    "SET/6 RED ",
                    "ALARM CLOC",
                    "SET/10 RED",
                    "SET/6 RED ",
                    "ALARM CLOC",
                    "SET/20 RED",
                    "SET/6 RED ",
                    "SET/6 RED ",
                    "PACK OF 72",
                    "PLASTERS I",
                    "ALARM CLOC",
                    "SET/6 RED ",
                    "LUNCH BAG ",
                    "RED RETROS",
                    "PLASTERS I",
                    "SET/6 RED ",
                    "ALARM CLOC",
                    "PLASTERS I",
                    "PLASTERS I",
                    "PLASTERS I",
                    "SET/6 RED ",
                    "SET/6 RED ",
                    "SET/6 RED ",
                    "SET/6 RED ",
                    "SET/6 RED ",
                    "ALARM CLOC",
                    "LUNCH BOX ",
                    "LUNCH BAG ",
                    "SET/6 RED ",
                    "ALARM CLOC",
                    "PLASTERS I",
                    "MINI PAINT",
                    "SET/6 RED ",
                    "REGENCY CA",
                    "SPACEBOY L",
                    "SET/20 RED",
                    "SET/20 RED",
                    "POSTAGE",
                    "POSTAGE",
                    "ALARM CLOC",
                    "SET/6 RED ",
                    "ALARM CLOC",
                    "SET/20 RED",
                    "PLASTERS I",
                    "LUNCH BAG ",
                    "PLASTERS I",
                    "POSTAGE",
                    "ALARM CLOC",
                    "POSTAGE",
                    "SET/6 RED ",
                    "SET/6 RED ",
                    "PLASTERS I",
                    "POSTAGE",
                    "ALARM CLOC",
                    "ALARM CLOC",
                    "DOLLY GIRL",
                    "SET/6 RED ",
                    "ALARM CLOC",
                    "SET/6 RED ",
                    "ALARM CLOC",
                    "DOLLY GIRL",
                    "SET/6 RED ",
                    "POSTAGE",
                    "ALARM CLOC",
                    "PLASTERS I",
                    "SET/6 RED ",
                    "SET/6 RED ",
                    "PLASTERS I",
                    "PLASTERS I",
                    "ALARM CLOC",
                    "PLASTERS I",
                    "ALARM CLOC",
                    "SET/6 RED ",
                    "SET/20 RED",
                    "SET/20 RED",
                    "ALARM CLOC",
                    "SET/20 RED",
                    "ALARM CLOC",
                    "PLASTERS I",
                    "PLASTERS I",
                    "PLASTERS I",
                    "SET/6 RED ",
                    "PLASTERS I",
                    "ALARM CLOC",
                    "PLASTERS I",
                    "SET/6 RED ",
                    "PLASTERS I",
                    "LUNCH BAG ",
                    "ROUND SNAC",
                    "SPACEBOY L",
                    "POSTAGE",
                    "LUNCH BAG ",
                    "LUNCH BAG ",
                    "LUNCH BAG ",
                    "LUNCH BAG ",
                    "PLASTERS I",
                    "PLASTERS I",
                    "STRAWBERRY",
                    "LUNCH BAG ",
                    "LUNCH BAG ",
                    "POSTAGE",
                    "POSTAGE"
                  ],
                  "x": [
                    0.0651,
                    0.0846,
                    0.0846,
                    0.0694,
                    0.0694,
                    0.0542,
                    0.0521,
                    0.1041,
                    0.0868,
                    0.0759,
                    0.0976,
                    0.0586,
                    0.0542,
                    0.0542,
                    0.0542,
                    0.0521,
                    0.0738,
                    0.1258,
                    0.0607,
                    0.0564,
                    0.0564,
                    0.1041,
                    0.0759,
                    0.0607,
                    0.0868,
                    0.141,
                    0.0542,
                    0.0542,
                    0.0542,
                    0.1345,
                    0.0803,
                    0.0521,
                    0.1258,
                    0.0998,
                    0.0868,
                    0.0607,
                    0.0716,
                    0.0694,
                    0.0694,
                    0.0911,
                    0.0672,
                    0.0542,
                    0.0868,
                    0.0521,
                    0.0933,
                    0.0716,
                    0.0716,
                    0.0716,
                    0.0716,
                    0.0607,
                    0.0694,
                    0.0889,
                    0.0976,
                    0.0976,
                    0.0846,
                    0.0542,
                    0.1171,
                    0.0629,
                    0.0716,
                    0.0694,
                    0.0694,
                    0.0694,
                    0.0868,
                    0.0868,
                    0.0672,
                    0.0976,
                    0.1041,
                    0.0716,
                    0.0629,
                    0.0542,
                    0.0694,
                    0.0846,
                    0.0911,
                    0.0824,
                    0.0868,
                    0.0868,
                    0.0716,
                    0.0716,
                    0.0564,
                    0.0694,
                    0.0607,
                    0.0846,
                    0.0586,
                    0.0781,
                    0.0889,
                    0.0694,
                    0.0629,
                    0.0564,
                    0.0868,
                    0.0868,
                    0.0716,
                    0.0521,
                    0.0629,
                    0.0629,
                    0.0629,
                    0.0846,
                    0.0607,
                    0.0716,
                    0.0564,
                    0.0607,
                    0.0694,
                    0.0521,
                    0.0542,
                    0.0586,
                    0.0694,
                    0.0716,
                    0.0586,
                    0.0781,
                    0.0564,
                    0.0629,
                    0.0542,
                    0.0694,
                    0.0716,
                    0.0716,
                    0.0542,
                    0.0694,
                    0.0521,
                    0.0889,
                    0.0716,
                    0.0716,
                    0.0716,
                    0.0716,
                    0.0521,
                    0.0868,
                    0.0694,
                    0.0868,
                    0.0521,
                    0.0542,
                    0.0607,
                    0.0716,
                    0.0564,
                    0.0564,
                    0.0564,
                    0.0564,
                    0.0781,
                    0.0629,
                    0.0542,
                    0.0564,
                    0.0564,
                    0.0521,
                    0.0629
                  ],
                  "xaxis": "x",
                  "y": [
                    1,
                    0.975,
                    0.975,
                    0.9697,
                    0.9697,
                    0.9615,
                    0.96,
                    0.96,
                    0.9524,
                    0.9459,
                    0.9375,
                    0.931,
                    0.9259,
                    0.9259,
                    0.9259,
                    0.9231,
                    0.9189,
                    0.9063,
                    0.9032,
                    0.8966,
                    0.8966,
                    0.8889,
                    0.875,
                    0.875,
                    0.8696,
                    0.8667,
                    0.8621,
                    0.8621,
                    0.8621,
                    0.8611,
                    0.8605,
                    0.8571,
                    0.8529,
                    0.8519,
                    0.8511,
                    0.8485,
                    0.8462,
                    0.8421,
                    0.8421,
                    0.84,
                    0.8378,
                    0.8333,
                    0.8333,
                    0.8276,
                    0.8269,
                    0.825,
                    0.825,
                    0.825,
                    0.825,
                    0.8235,
                    0.8205,
                    0.82,
                    0.8182,
                    0.8182,
                    0.8125,
                    0.8065,
                    0.806,
                    0.8056,
                    0.8049,
                    0.8,
                    0.8,
                    0.8,
                    0.8,
                    0.8,
                    0.7949,
                    0.7895,
                    0.7869,
                    0.7857,
                    0.7838,
                    0.7812,
                    0.7805,
                    0.78,
                    0.7778,
                    0.7755,
                    0.7692,
                    0.7692,
                    0.7674,
                    0.7674,
                    0.7647,
                    0.7619,
                    0.7568,
                    0.75,
                    0.75,
                    0.75,
                    0.7455,
                    0.7442,
                    0.7436,
                    0.7429,
                    0.7407,
                    0.7407,
                    0.7333,
                    0.7273,
                    0.725,
                    0.725,
                    0.725,
                    0.7222,
                    0.7179,
                    0.7174,
                    0.7027,
                    0.7,
                    0.6957,
                    0.6857,
                    0.6757,
                    0.675,
                    0.6667,
                    0.66,
                    0.6585,
                    0.6545,
                    0.65,
                    0.6444,
                    0.641,
                    0.64,
                    0.6346,
                    0.6346,
                    0.625,
                    0.6154,
                    0.6154,
                    0.6119,
                    0.6111,
                    0.6111,
                    0.6111,
                    0.6,
                    0.6,
                    0.597,
                    0.5926,
                    0.5882,
                    0.5854,
                    0.5814,
                    0.5714,
                    0.569,
                    0.5532,
                    0.5417,
                    0.5417,
                    0.5417,
                    0.5294,
                    0.5273,
                    0.5208,
                    0.52,
                    0.52,
                    0.5,
                    0.5
                  ],
                  "yaxis": "y",
                  "type": "scatter",
                  "textposition": "top center"
                }
              ],
              "layout": {
                "template": {
                  "data": {
                    "histogram2dcontour": [
                      {
                        "type": "histogram2dcontour",
                        "colorbar": {
                          "outlinewidth": 0,
                          "ticks": ""
                        },
                        "colorscale": [
                          [
                            0,
                            "#0d0887"
                          ],
                          [
                            0.1111111111111111,
                            "#46039f"
                          ],
                          [
                            0.2222222222222222,
                            "#7201a8"
                          ],
                          [
                            0.3333333333333333,
                            "#9c179e"
                          ],
                          [
                            0.4444444444444444,
                            "#bd3786"
                          ],
                          [
                            0.5555555555555556,
                            "#d8576b"
                          ],
                          [
                            0.6666666666666666,
                            "#ed7953"
                          ],
                          [
                            0.7777777777777778,
                            "#fb9f3a"
                          ],
                          [
                            0.8888888888888888,
                            "#fdca26"
                          ],
                          [
                            1,
                            "#f0f921"
                          ]
                        ]
                      }
                    ],
                    "choropleth": [
                      {
                        "type": "choropleth",
                        "colorbar": {
                          "outlinewidth": 0,
                          "ticks": ""
                        }
                      }
                    ],
                    "histogram2d": [
                      {
                        "type": "histogram2d",
                        "colorbar": {
                          "outlinewidth": 0,
                          "ticks": ""
                        },
                        "colorscale": [
                          [
                            0,
                            "#0d0887"
                          ],
                          [
                            0.1111111111111111,
                            "#46039f"
                          ],
                          [
                            0.2222222222222222,
                            "#7201a8"
                          ],
                          [
                            0.3333333333333333,
                            "#9c179e"
                          ],
                          [
                            0.4444444444444444,
                            "#bd3786"
                          ],
                          [
                            0.5555555555555556,
                            "#d8576b"
                          ],
                          [
                            0.6666666666666666,
                            "#ed7953"
                          ],
                          [
                            0.7777777777777778,
                            "#fb9f3a"
                          ],
                          [
                            0.8888888888888888,
                            "#fdca26"
                          ],
                          [
                            1,
                            "#f0f921"
                          ]
                        ]
                      }
                    ],
                    "heatmap": [
                      {
                        "type": "heatmap",
                        "colorbar": {
                          "outlinewidth": 0,
                          "ticks": ""
                        },
                        "colorscale": [
                          [
                            0,
                            "#0d0887"
                          ],
                          [
                            0.1111111111111111,
                            "#46039f"
                          ],
                          [
                            0.2222222222222222,
                            "#7201a8"
                          ],
                          [
                            0.3333333333333333,
                            "#9c179e"
                          ],
                          [
                            0.4444444444444444,
                            "#bd3786"
                          ],
                          [
                            0.5555555555555556,
                            "#d8576b"
                          ],
                          [
                            0.6666666666666666,
                            "#ed7953"
                          ],
                          [
                            0.7777777777777778,
                            "#fb9f3a"
                          ],
                          [
                            0.8888888888888888,
                            "#fdca26"
                          ],
                          [
                            1,
                            "#f0f921"
                          ]
                        ]
                      }
                    ],
                    "heatmapgl": [
                      {
                        "type": "heatmapgl",
                        "colorbar": {
                          "outlinewidth": 0,
                          "ticks": ""
                        },
                        "colorscale": [
                          [
                            0,
                            "#0d0887"
                          ],
                          [
                            0.1111111111111111,
                            "#46039f"
                          ],
                          [
                            0.2222222222222222,
                            "#7201a8"
                          ],
                          [
                            0.3333333333333333,
                            "#9c179e"
                          ],
                          [
                            0.4444444444444444,
                            "#bd3786"
                          ],
                          [
                            0.5555555555555556,
                            "#d8576b"
                          ],
                          [
                            0.6666666666666666,
                            "#ed7953"
                          ],
                          [
                            0.7777777777777778,
                            "#fb9f3a"
                          ],
                          [
                            0.8888888888888888,
                            "#fdca26"
                          ],
                          [
                            1,
                            "#f0f921"
                          ]
                        ]
                      }
                    ],
                    "contourcarpet": [
                      {
                        "type": "contourcarpet",
                        "colorbar": {
                          "outlinewidth": 0,
                          "ticks": ""
                        }
                      }
                    ],
                    "contour": [
                      {
                        "type": "contour",
                        "colorbar": {
                          "outlinewidth": 0,
                          "ticks": ""
                        },
                        "colorscale": [
                          [
                            0,
                            "#0d0887"
                          ],
                          [
                            0.1111111111111111,
                            "#46039f"
                          ],
                          [
                            0.2222222222222222,
                            "#7201a8"
                          ],
                          [
                            0.3333333333333333,
                            "#9c179e"
                          ],
                          [
                            0.4444444444444444,
                            "#bd3786"
                          ],
                          [
                            0.5555555555555556,
                            "#d8576b"
                          ],
                          [
                            0.6666666666666666,
                            "#ed7953"
                          ],
                          [
                            0.7777777777777778,
                            "#fb9f3a"
                          ],
                          [
                            0.8888888888888888,
                            "#fdca26"
                          ],
                          [
                            1,
                            "#f0f921"
                          ]
                        ]
                      }
                    ],
                    "surface": [
                      {
                        "type": "surface",
                        "colorbar": {
                          "outlinewidth": 0,
                          "ticks": ""
                        },
                        "colorscale": [
                          [
                            0,
                            "#0d0887"
                          ],
                          [
                            0.1111111111111111,
                            "#46039f"
                          ],
                          [
                            0.2222222222222222,
                            "#7201a8"
                          ],
                          [
                            0.3333333333333333,
                            "#9c179e"
                          ],
                          [
                            0.4444444444444444,
                            "#bd3786"
                          ],
                          [
                            0.5555555555555556,
                            "#d8576b"
                          ],
                          [
                            0.6666666666666666,
                            "#ed7953"
                          ],
                          [
                            0.7777777777777778,
                            "#fb9f3a"
                          ],
                          [
                            0.8888888888888888,
                            "#fdca26"
                          ],
                          [
                            1,
                            "#f0f921"
                          ]
                        ]
                      }
                    ],
                    "mesh3d": [
                      {
                        "type": "mesh3d",
                        "colorbar": {
                          "outlinewidth": 0,
                          "ticks": ""
                        }
                      }
                    ],
                    "scatter": [
                      {
                        "fillpattern": {
                          "fillmode": "overlay",
                          "size": 10,
                          "solidity": 0.2
                        },
                        "type": "scatter"
                      }
                    ],
                    "parcoords": [
                      {
                        "type": "parcoords",
                        "line": {
                          "colorbar": {
                            "outlinewidth": 0,
                            "ticks": ""
                          }
                        }
                      }
                    ],
                    "scatterpolargl": [
                      {
                        "type": "scatterpolargl",
                        "marker": {
                          "colorbar": {
                            "outlinewidth": 0,
                            "ticks": ""
                          }
                        }
                      }
                    ],
                    "bar": [
                      {
                        "error_x": {
                          "color": "#2a3f5f"
                        },
                        "error_y": {
                          "color": "#2a3f5f"
                        },
                        "marker": {
                          "line": {
                            "color": "#E5ECF6",
                            "width": 0.5
                          },
                          "pattern": {
                            "fillmode": "overlay",
                            "size": 10,
                            "solidity": 0.2
                          }
                        },
                        "type": "bar"
                      }
                    ],
                    "scattergeo": [
                      {
                        "type": "scattergeo",
                        "marker": {
                          "colorbar": {
                            "outlinewidth": 0,
                            "ticks": ""
                          }
                        }
                      }
                    ],
                    "scatterpolar": [
                      {
                        "type": "scatterpolar",
                        "marker": {
                          "colorbar": {
                            "outlinewidth": 0,
                            "ticks": ""
                          }
                        }
                      }
                    ],
                    "histogram": [
                      {
                        "marker": {
                          "pattern": {
                            "fillmode": "overlay",
                            "size": 10,
                            "solidity": 0.2
                          }
                        },
                        "type": "histogram"
                      }
                    ],
                    "scattergl": [
                      {
                        "type": "scattergl",
                        "marker": {
                          "colorbar": {
                            "outlinewidth": 0,
                            "ticks": ""
                          }
                        }
                      }
                    ],
                    "scatter3d": [
                      {
                        "type": "scatter3d",
                        "line": {
                          "colorbar": {
                            "outlinewidth": 0,
                            "ticks": ""
                          }
                        },
                        "marker": {
                          "colorbar": {
                            "outlinewidth": 0,
                            "ticks": ""
                          }
                        }
                      }
                    ],
                    "scattermapbox": [
                      {
                        "type": "scattermapbox",
                        "marker": {
                          "colorbar": {
                            "outlinewidth": 0,
                            "ticks": ""
                          }
                        }
                      }
                    ],
                    "scatterternary": [
                      {
                        "type": "scatterternary",
                        "marker": {
                          "colorbar": {
                            "outlinewidth": 0,
                            "ticks": ""
                          }
                        }
                      }
                    ],
                    "scattercarpet": [
                      {
                        "type": "scattercarpet",
                        "marker": {
                          "colorbar": {
                            "outlinewidth": 0,
                            "ticks": ""
                          }
                        }
                      }
                    ],
                    "carpet": [
                      {
                        "aaxis": {
                          "endlinecolor": "#2a3f5f",
                          "gridcolor": "white",
                          "linecolor": "white",
                          "minorgridcolor": "white",
                          "startlinecolor": "#2a3f5f"
                        },
                        "baxis": {
                          "endlinecolor": "#2a3f5f",
                          "gridcolor": "white",
                          "linecolor": "white",
                          "minorgridcolor": "white",
                          "startlinecolor": "#2a3f5f"
                        },
                        "type": "carpet"
                      }
                    ],
                    "table": [
                      {
                        "cells": {
                          "fill": {
                            "color": "#EBF0F8"
                          },
                          "line": {
                            "color": "white"
                          }
                        },
                        "header": {
                          "fill": {
                            "color": "#C8D4E3"
                          },
                          "line": {
                            "color": "white"
                          }
                        },
                        "type": "table"
                      }
                    ],
                    "barpolar": [
                      {
                        "marker": {
                          "line": {
                            "color": "#E5ECF6",
                            "width": 0.5
                          },
                          "pattern": {
                            "fillmode": "overlay",
                            "size": 10,
                            "solidity": 0.2
                          }
                        },
                        "type": "barpolar"
                      }
                    ],
                    "pie": [
                      {
                        "automargin": true,
                        "type": "pie"
                      }
                    ]
                  },
                  "layout": {
                    "autotypenumbers": "strict",
                    "colorway": [
                      "#636efa",
                      "#EF553B",
                      "#00cc96",
                      "#ab63fa",
                      "#FFA15A",
                      "#19d3f3",
                      "#FF6692",
                      "#B6E880",
                      "#FF97FF",
                      "#FECB52"
                    ],
                    "font": {
                      "color": "#2a3f5f"
                    },
                    "hovermode": "closest",
                    "hoverlabel": {
                      "align": "left"
                    },
                    "paper_bgcolor": "white",
                    "plot_bgcolor": "#E5ECF6",
                    "polar": {
                      "bgcolor": "#E5ECF6",
                      "angularaxis": {
                        "gridcolor": "white",
                        "linecolor": "white",
                        "ticks": ""
                      },
                      "radialaxis": {
                        "gridcolor": "white",
                        "linecolor": "white",
                        "ticks": ""
                      }
                    },
                    "ternary": {
                      "bgcolor": "#E5ECF6",
                      "aaxis": {
                        "gridcolor": "white",
                        "linecolor": "white",
                        "ticks": ""
                      },
                      "baxis": {
                        "gridcolor": "white",
                        "linecolor": "white",
                        "ticks": ""
                      },
                      "caxis": {
                        "gridcolor": "white",
                        "linecolor": "white",
                        "ticks": ""
                      }
                    },
                    "coloraxis": {
                      "colorbar": {
                        "outlinewidth": 0,
                        "ticks": ""
                      }
                    },
                    "colorscale": {
                      "sequential": [
                        [
                          0,
                          "#0d0887"
                        ],
                        [
                          0.1111111111111111,
                          "#46039f"
                        ],
                        [
                          0.2222222222222222,
                          "#7201a8"
                        ],
                        [
                          0.3333333333333333,
                          "#9c179e"
                        ],
                        [
                          0.4444444444444444,
                          "#bd3786"
                        ],
                        [
                          0.5555555555555556,
                          "#d8576b"
                        ],
                        [
                          0.6666666666666666,
                          "#ed7953"
                        ],
                        [
                          0.7777777777777778,
                          "#fb9f3a"
                        ],
                        [
                          0.8888888888888888,
                          "#fdca26"
                        ],
                        [
                          1,
                          "#f0f921"
                        ]
                      ],
                      "sequentialminus": [
                        [
                          0,
                          "#0d0887"
                        ],
                        [
                          0.1111111111111111,
                          "#46039f"
                        ],
                        [
                          0.2222222222222222,
                          "#7201a8"
                        ],
                        [
                          0.3333333333333333,
                          "#9c179e"
                        ],
                        [
                          0.4444444444444444,
                          "#bd3786"
                        ],
                        [
                          0.5555555555555556,
                          "#d8576b"
                        ],
                        [
                          0.6666666666666666,
                          "#ed7953"
                        ],
                        [
                          0.7777777777777778,
                          "#fb9f3a"
                        ],
                        [
                          0.8888888888888888,
                          "#fdca26"
                        ],
                        [
                          1,
                          "#f0f921"
                        ]
                      ],
                      "diverging": [
                        [
                          0,
                          "#8e0152"
                        ],
                        [
                          0.1,
                          "#c51b7d"
                        ],
                        [
                          0.2,
                          "#de77ae"
                        ],
                        [
                          0.3,
                          "#f1b6da"
                        ],
                        [
                          0.4,
                          "#fde0ef"
                        ],
                        [
                          0.5,
                          "#f7f7f7"
                        ],
                        [
                          0.6,
                          "#e6f5d0"
                        ],
                        [
                          0.7,
                          "#b8e186"
                        ],
                        [
                          0.8,
                          "#7fbc41"
                        ],
                        [
                          0.9,
                          "#4d9221"
                        ],
                        [
                          1,
                          "#276419"
                        ]
                      ]
                    },
                    "xaxis": {
                      "gridcolor": "white",
                      "linecolor": "white",
                      "ticks": "",
                      "title": {
                        "standoff": 15
                      },
                      "zerolinecolor": "white",
                      "automargin": true,
                      "zerolinewidth": 2
                    },
                    "yaxis": {
                      "gridcolor": "white",
                      "linecolor": "white",
                      "ticks": "",
                      "title": {
                        "standoff": 15
                      },
                      "zerolinecolor": "white",
                      "automargin": true,
                      "zerolinewidth": 2
                    },
                    "scene": {
                      "xaxis": {
                        "backgroundcolor": "#E5ECF6",
                        "gridcolor": "white",
                        "linecolor": "white",
                        "showbackground": true,
                        "ticks": "",
                        "zerolinecolor": "white",
                        "gridwidth": 2
                      },
                      "yaxis": {
                        "backgroundcolor": "#E5ECF6",
                        "gridcolor": "white",
                        "linecolor": "white",
                        "showbackground": true,
                        "ticks": "",
                        "zerolinecolor": "white",
                        "gridwidth": 2
                      },
                      "zaxis": {
                        "backgroundcolor": "#E5ECF6",
                        "gridcolor": "white",
                        "linecolor": "white",
                        "showbackground": true,
                        "ticks": "",
                        "zerolinecolor": "white",
                        "gridwidth": 2
                      }
                    },
                    "shapedefaults": {
                      "line": {
                        "color": "#2a3f5f"
                      }
                    },
                    "annotationdefaults": {
                      "arrowcolor": "#2a3f5f",
                      "arrowhead": 0,
                      "arrowwidth": 1
                    },
                    "geo": {
                      "bgcolor": "white",
                      "landcolor": "#E5ECF6",
                      "subunitcolor": "white",
                      "showland": true,
                      "showlakes": true,
                      "lakecolor": "white"
                    },
                    "title": {
                      "x": 0.05
                    },
                    "mapbox": {
                      "style": "light"
                    }
                  }
                },
                "xaxis": {
                  "anchor": "y",
                  "domain": [
                    0,
                    1
                  ],
                  "title": {
                    "text": "support"
                  },
                  "type": "log"
                },
                "yaxis": {
                  "anchor": "x",
                  "domain": [
                    0,
                    1
                  ],
                  "title": {
                    "text": "confidence"
                  }
                },
                "coloraxis": {
                  "colorbar": {
                    "title": {
                      "text": "lift"
                    }
                  },
                  "colorscale": [
                    [
                      0,
                      "#0d0887"
                    ],
                    [
                      0.1111111111111111,
                      "#46039f"
                    ],
                    [
                      0.2222222222222222,
                      "#7201a8"
                    ],
                    [
                      0.3333333333333333,
                      "#9c179e"
                    ],
                    [
                      0.4444444444444444,
                      "#bd3786"
                    ],
                    [
                      0.5555555555555556,
                      "#d8576b"
                    ],
                    [
                      0.6666666666666666,
                      "#ed7953"
                    ],
                    [
                      0.7777777777777778,
                      "#fb9f3a"
                    ],
                    [
                      0.8888888888888888,
                      "#fdca26"
                    ],
                    [
                      1,
                      "#f0f921"
                    ]
                  ]
                },
                "legend": {
                  "tracegroupgap": 0
                },
                "margin": {
                  "t": 60
                },
                "plot_bgcolor": "rgb(240,240,240)",
                "title": {
                  "text": "2D Plot of Support, Confidence and Lift"
                },
                "height": 800
              },
              "config": {
                "plotlyServerURL": "https://plot.ly"
              }
            },
            "text/html": [
              "<div>                            <div id=\"1f9f0ecc-25cb-4e5a-9db4-8f0f3beea838\" class=\"plotly-graph-div\" style=\"height:800px; width:100%;\"></div>            <script type=\"text/javascript\">                require([\"plotly\"], function(Plotly) {                    window.PLOTLYENV=window.PLOTLYENV || {};                                    if (document.getElementById(\"1f9f0ecc-25cb-4e5a-9db4-8f0f3beea838\")) {                    Plotly.newPlot(                        \"1f9f0ecc-25cb-4e5a-9db4-8f0f3beea838\",                        [{\"customdata\":[[\"JUMBO BAG WOODLAND ANIMALS\",\"POSTAGE\"],[\"SET\\u002f6 RED SPOTTY PAPER PLATES\",\"SET\\u002f6 RED SPOTTY PAPER CUPS\"],[\"SET\\u002f6 RED SPOTTY PAPER CUPS\",\"SET\\u002f6 RED SPOTTY PAPER PLATES\"],[\"SET\\u002f6 RED SPOTTY PAPER PLATES\",\"SET\\u002f6 RED SPOTTY PAPER CUPS\"],[\"SET\\u002f6 RED SPOTTY PAPER CUPS\",\"SET\\u002f6 RED SPOTTY PAPER PLATES\"],[\"SET OF 9 BLACK SKULL BALLOONS\",\"POSTAGE\"],[\"PACK OF 6 SKULL PAPER CUPS\",\"POSTAGE\"],[\"SET\\u002f6 RED SPOTTY PAPER PLATES\",\"SET\\u002f6 RED SPOTTY PAPER CUPS\"],[\"SET\\u002f6 RED SPOTTY PAPER PLATES\",\"SET\\u002f6 RED SPOTTY PAPER CUPS\"],[\"TEA PARTY BIRTHDAY CARD\",\"POSTAGE\"],[\"STRAWBERRY LUNCH BOX WITH CUTLERY\",\"POSTAGE\"],[\"RED RETROSPOT PICNIC BAG\",\"POSTAGE\"],[\"CHILDRENS CUTLERY SPACEBOY \",\"CHILDRENS CUTLERY DOLLY GIRL \"],[\"SET OF 2 TEA TOWELS APPLE AND PEARS\",\"POSTAGE\"],[\"ASSORTED COLOUR MINI CASES\",\"POSTAGE\"],[\"LUNCH BAG APPLE DESIGN\",\"POSTAGE\"],[\"ALARM CLOCK BAKELIKE RED \",\"POSTAGE\"],[\"ROUND SNACK BOXES SET OF4 WOODLAND \",\"POSTAGE\"],[\"ALARM CLOCK BAKELIKE RED \",\"POSTAGE\"],[\"WOODLAND CHARLOTTE BAG\",\"POSTAGE\"],[\"ALARM CLOCK BAKELIKE RED \",\"POSTAGE\"],[\"SET\\u002f6 RED SPOTTY PAPER CUPS\",\"SET\\u002f6 RED SPOTTY PAPER PLATES\"],[\"ALARM CLOCK BAKELIKE PINK\",\"POSTAGE\"],[\"PAPER BUNTING RETROSPOT\",\"POSTAGE\"],[\"SET\\u002f6 RED SPOTTY PAPER CUPS\",\"SET\\u002f6 RED SPOTTY PAPER PLATES\"],[\"RABBIT NIGHT LIGHT\",\"POSTAGE\"],[\"ALARM CLOCK BAKELIKE RED \",\"ALARM CLOCK BAKELIKE GREEN\"],[\"ALARM CLOCK BAKELIKE GREEN\",\"ALARM CLOCK BAKELIKE RED \"],[\"CHILDRENS CUTLERY DOLLY GIRL \",\"CHILDRENS CUTLERY SPACEBOY \"],[\"RED TOADSTOOL LED NIGHT LIGHT\",\"POSTAGE\"],[\"ROUND SNACK BOXES SET OF 4 FRUITS \",\"POSTAGE\"],[\"COFFEE MUG APPLES DESIGN\",\"POSTAGE\"],[\"PLASTERS IN TIN CIRCUS PARADE \",\"POSTAGE\"],[\"SET\\u002f6 RED SPOTTY PAPER CUPS\",\"POSTAGE\"],[\"LUNCH BAG WOODLAND\",\"POSTAGE\"],[\"POSTAGE\",\"ALARM CLOCK BAKELIKE RED \"],[\"ALARM CLOCK BAKELIKE GREEN\",\"POSTAGE\"],[\"RED RETROSPOT CHARLOTTE BAG\",\"POSTAGE\"],[\"JUMBO BAG RED RETROSPOT\",\"POSTAGE\"],[\"SET\\u002f6 RED SPOTTY PAPER PLATES\",\"POSTAGE\"],[\"ALARM CLOCK BAKELIKE RED \",\"ALARM CLOCK BAKELIKE GREEN\"],[\"SET\\u002f10 RED POLKADOT PARTY CANDLES\",\"POSTAGE\"],[\"SET\\u002f6 RED SPOTTY PAPER PLATES\",\"POSTAGE\"],[\"ALARM CLOCK BAKELIKE GREEN\",\"POSTAGE\"],[\"SET\\u002f20 RED RETROSPOT PAPER NAPKINS \",\"POSTAGE\"],[\"SET\\u002f6 RED SPOTTY PAPER PLATES\",\"POSTAGE\"],[\"SET\\u002f6 RED SPOTTY PAPER CUPS\",\"POSTAGE\"],[\"PACK OF 72 RETROSPOT CAKE CASES\",\"POSTAGE\"],[\"PLASTERS IN TIN WOODLAND ANIMALS\",\"POSTAGE\"],[\"ALARM CLOCK BAKELIKE RED \",\"ALARM CLOCK BAKELIKE GREEN\"],[\"SET\\u002f6 RED SPOTTY PAPER PLATES\",\"POSTAGE\"],[\"LUNCH BAG APPLE DESIGN\",\"POSTAGE\"],[\"RED RETROSPOT MINI CASES\",\"POSTAGE\"],[\"PLASTERS IN TIN SPACEBOY\",\"POSTAGE\"],[\"SET\\u002f6 RED SPOTTY PAPER PLATES\",\"SET\\u002f20 RED RETROSPOT PAPER NAPKINS \"],[\"ALARM CLOCK BAKELIKE RED \",\"ALARM CLOCK BAKELIKE PINK\"],[\"PLASTERS IN TIN WOODLAND ANIMALS\",\"POSTAGE\"],[\"PLASTERS IN TIN SPACEBOY\",\"POSTAGE\"],[\"PLASTERS IN TIN SPACEBOY\",\"POSTAGE\"],[\"SET\\u002f6 RED SPOTTY PAPER CUPS\",\"SET\\u002f6 RED SPOTTY PAPER PLATES\"],[\"SET\\u002f6 RED SPOTTY PAPER PLATES\",\"SET\\u002f6 RED SPOTTY PAPER CUPS\"],[\"SET\\u002f6 RED SPOTTY PAPER PLATES\",\"SET\\u002f20 RED RETROSPOT PAPER NAPKINS \"],[\"SET\\u002f6 RED SPOTTY PAPER PLATES\",\"SET\\u002f20 RED RETROSPOT PAPER NAPKINS \"],[\"SET\\u002f6 RED SPOTTY PAPER PLATES\",\"SET\\u002f6 RED SPOTTY PAPER CUPS\"],[\"ALARM CLOCK BAKELIKE GREEN\",\"ALARM CLOCK BAKELIKE RED \"],[\"LUNCH BOX WITH CUTLERY RETROSPOT \",\"POSTAGE\"],[\"LUNCH BAG RED RETROSPOT\",\"POSTAGE\"],[\"SET\\u002f6 RED SPOTTY PAPER PLATES\",\"SET\\u002f20 RED RETROSPOT PAPER NAPKINS \"],[\"ALARM CLOCK BAKELIKE RED \",\"ALARM CLOCK BAKELIKE PINK\"],[\"PLASTERS IN TIN STRONGMAN\",\"POSTAGE\"],[\"MINI PAINT SET VINTAGE \",\"POSTAGE\"],[\"SET\\u002f6 RED SPOTTY PAPER PLATES\",\"SET\\u002f6 RED SPOTTY PAPER CUPS\"],[\"REGENCY CAKESTAND 3 TIER\",\"POSTAGE\"],[\"SPACEBOY LUNCH BOX \",\"POSTAGE\"],[\"SET\\u002f20 RED RETROSPOT PAPER NAPKINS \",\"SET\\u002f6 RED SPOTTY PAPER PLATES\"],[\"SET\\u002f20 RED RETROSPOT PAPER NAPKINS \",\"SET\\u002f6 RED SPOTTY PAPER CUPS\"],[\"POSTAGE\",\"SET\\u002f6 RED SPOTTY PAPER PLATES\"],[\"POSTAGE\",\"SET\\u002f6 RED SPOTTY PAPER CUPS\"],[\"ALARM CLOCK BAKELIKE RED \",\"ALARM CLOCK BAKELIKE PINK\"],[\"SET\\u002f6 RED SPOTTY PAPER PLATES\",\"SET\\u002f6 RED SPOTTY PAPER CUPS\"],[\"ALARM CLOCK BAKELIKE RED \",\"POSTAGE\"],[\"SET\\u002f20 RED RETROSPOT PAPER NAPKINS \",\"SET\\u002f6 RED SPOTTY PAPER PLATES\"],[\"PLASTERS IN TIN SPACEBOY\",\"PLASTERS IN TIN WOODLAND ANIMALS\"],[\"LUNCH BAG SPACEBOY DESIGN \",\"POSTAGE\"],[\"PLASTERS IN TIN SPACEBOY\",\"PLASTERS IN TIN WOODLAND ANIMALS\"],[\"POSTAGE\",\"SET\\u002f6 RED SPOTTY PAPER PLATES\"],[\"ALARM CLOCK BAKELIKE GREEN\",\"ALARM CLOCK BAKELIKE PINK\"],[\"POSTAGE\",\"ALARM CLOCK BAKELIKE RED \"],[\"SET\\u002f6 RED SPOTTY PAPER CUPS\",\"SET\\u002f20 RED RETROSPOT PAPER NAPKINS \"],[\"SET\\u002f6 RED SPOTTY PAPER CUPS\",\"SET\\u002f6 RED SPOTTY PAPER PLATES\"],[\"PLASTERS IN TIN SPACEBOY\",\"PLASTERS IN TIN WOODLAND ANIMALS\"],[\"POSTAGE\",\"ALARM CLOCK BAKELIKE PINK\"],[\"ALARM CLOCK BAKELIKE PINK\",\"ALARM CLOCK BAKELIKE GREEN\"],[\"ALARM CLOCK BAKELIKE PINK\",\"ALARM CLOCK BAKELIKE RED \"],[\"DOLLY GIRL LUNCH BOX\",\"POSTAGE\"],[\"SET\\u002f6 RED SPOTTY PAPER CUPS\",\"SET\\u002f6 RED SPOTTY PAPER PLATES\"],[\"ALARM CLOCK BAKELIKE GREEN\",\"ALARM CLOCK BAKELIKE RED \"],[\"SET\\u002f6 RED SPOTTY PAPER CUPS\",\"SET\\u002f20 RED RETROSPOT PAPER NAPKINS \"],[\"ALARM CLOCK BAKELIKE RED \",\"POSTAGE\"],[\"DOLLY GIRL LUNCH BOX\",\"SPACEBOY LUNCH BOX \"],[\"SET\\u002f6 RED SPOTTY PAPER CUPS\",\"SET\\u002f6 RED SPOTTY PAPER PLATES\"],[\"POSTAGE\",\"ALARM CLOCK BAKELIKE GREEN\"],[\"ALARM CLOCK BAKELIKE RED \",\"ALARM CLOCK BAKELIKE GREEN\"],[\"PLASTERS IN TIN WOODLAND ANIMALS\",\"PLASTERS IN TIN SPACEBOY\"],[\"SET\\u002f6 RED SPOTTY PAPER PLATES\",\"POSTAGE\"],[\"SET\\u002f6 RED SPOTTY PAPER PLATES\",\"POSTAGE\"],[\"PLASTERS IN TIN SPACEBOY\",\"PLASTERS IN TIN CIRCUS PARADE \"],[\"PLASTERS IN TIN SPACEBOY\",\"PLASTERS IN TIN CIRCUS PARADE \"],[\"ALARM CLOCK BAKELIKE PINK\",\"ALARM CLOCK BAKELIKE RED \"],[\"PLASTERS IN TIN SPACEBOY\",\"PLASTERS IN TIN CIRCUS PARADE \"],[\"ALARM CLOCK BAKELIKE GREEN\",\"ALARM CLOCK BAKELIKE RED \"],[\"SET\\u002f6 RED SPOTTY PAPER PLATES\",\"SET\\u002f6 RED SPOTTY PAPER CUPS\"],[\"SET\\u002f20 RED RETROSPOT PAPER NAPKINS \",\"SET\\u002f6 RED SPOTTY PAPER PLATES\"],[\"SET\\u002f20 RED RETROSPOT PAPER NAPKINS \",\"SET\\u002f6 RED SPOTTY PAPER CUPS\"],[\"ALARM CLOCK BAKELIKE PINK\",\"ALARM CLOCK BAKELIKE RED \"],[\"SET\\u002f20 RED RETROSPOT PAPER NAPKINS \",\"SET\\u002f6 RED SPOTTY PAPER PLATES\"],[\"ALARM CLOCK BAKELIKE GREEN\",\"POSTAGE\"],[\"PLASTERS IN TIN WOODLAND ANIMALS\",\"PLASTERS IN TIN SPACEBOY\"],[\"PLASTERS IN TIN WOODLAND ANIMALS\",\"PLASTERS IN TIN CIRCUS PARADE \"],[\"PLASTERS IN TIN WOODLAND ANIMALS\",\"PLASTERS IN TIN SPACEBOY\"],[\"SET\\u002f6 RED SPOTTY PAPER CUPS\",\"POSTAGE\"],[\"PLASTERS IN TIN SPACEBOY\",\"PLASTERS IN TIN WOODLAND ANIMALS\"],[\"ALARM CLOCK BAKELIKE PINK\",\"POSTAGE\"],[\"PLASTERS IN TIN WOODLAND ANIMALS\",\"PLASTERS IN TIN CIRCUS PARADE \"],[\"SET\\u002f6 RED SPOTTY PAPER CUPS\",\"SET\\u002f6 RED SPOTTY PAPER PLATES\"],[\"PLASTERS IN TIN CIRCUS PARADE \",\"PLASTERS IN TIN WOODLAND ANIMALS\"],[\"LUNCH BAG APPLE DESIGN\",\"LUNCH BAG RED RETROSPOT\"],[\"ROUND SNACK BOXES SET OF 4 FRUITS \",\"ROUND SNACK BOXES SET OF4 WOODLAND \"],[\"SPACEBOY LUNCH BOX \",\"DOLLY GIRL LUNCH BOX\"],[\"POSTAGE\",\"PLASTERS IN TIN WOODLAND ANIMALS\"],[\"LUNCH BAG WOODLAND\",\"LUNCH BAG SPACEBOY DESIGN \"],[\"LUNCH BAG SPACEBOY DESIGN \",\"LUNCH BAG RED RETROSPOT\"],[\"LUNCH BAG SPACEBOY DESIGN \",\"LUNCH BAG APPLE DESIGN\"],[\"LUNCH BAG SPACEBOY DESIGN \",\"LUNCH BAG WOODLAND\"],[\"PLASTERS IN TIN CIRCUS PARADE \",\"PLASTERS IN TIN SPACEBOY\"],[\"PLASTERS IN TIN SPACEBOY\",\"POSTAGE\"],[\"STRAWBERRY LUNCH BOX WITH CUTLERY\",\"LUNCH BOX WITH CUTLERY RETROSPOT \"],[\"LUNCH BAG APPLE DESIGN\",\"LUNCH BAG SPACEBOY DESIGN \"],[\"LUNCH BAG APPLE DESIGN\",\"LUNCH BAG RED RETROSPOT\"],[\"POSTAGE\",\"LUNCH BAG APPLE DESIGN\"],[\"POSTAGE\",\"PLASTERS IN TIN SPACEBOY\"]],\"hovertemplate\":\"support=%{x}\\u003cbr\\u003econfidence=%{y}\\u003cbr\\u003eantecedents_short=%{text}\\u003cbr\\u003eantecedents=%{customdata[0]}\\u003cbr\\u003econsequents=%{customdata[1]}\\u003cbr\\u003elift=%{marker.color}\\u003cextra\\u003e\\u003c\\u002fextra\\u003e\",\"legendgroup\":\"\",\"marker\":{\"color\":[1.4823,8.3236,8.9895,8.2783,8.9406,1.4253,1.423,8.1956,8.1305,1.4022,1.3897,1.3801,14.719,1.3725,1.3725,1.3683,1.3621,1.3433,1.3389,1.329,1.329,8.1956,1.297,1.297,8.0174,1.2847,10.1901,10.7409,14.719,1.2764,1.2755,1.2706,1.2643,1.2627,1.2615,10.5717,1.2543,1.2483,1.2483,1.2451,9.9037,1.2353,1.2353,1.2267,1.2258,1.2229,1.2229,1.2229,1.2229,9.7345,1.2163,1.2155,1.2128,1.2128,7.2031,9.2944,1.1947,1.1941,1.1931,8.781,8.0174,7.0923,7.0923,8.0174,9.9037,1.1702,1.1664,6.9657,9.0331,1.1581,1.1569,8.9895,1.1529,1.1496,7.0923,6.567,7.0758,6.5517,8.8132,8.781,10.5717,7.2031,5.1604,1.1117,5.1292,7.1473,8.5699,9.2556,6.567,8.1305,5.0458,8.3818,8.5699,9.0331,1.0747,8.3236,9.7345,6.3599,9.2556,6.5857,8.0174,8.1055,10.7409,5.6577,7.1473,7.0758,4.4645,4.4374,8.8132,4.369,10.1901,8.9406,6.9657,6.3599,9.2944,7.0923,8.1055,5.1292,4.143,5.1222,6.5517,5.1222,8.3818,4.0474,8.2783,4.0474,4.4238,4.1879,6.5857,3.9148,5.3129,4.0936,4.9942,5.3129,4.4374,4.1909,4.2124,4.9942,3.9298,4.61,4.1909],\"coloraxis\":\"coloraxis\",\"opacity\":0.5,\"symbol\":\"circle\"},\"mode\":\"markers+text\",\"name\":\"\",\"orientation\":\"v\",\"showlegend\":false,\"text\":[\"JUMBO BAG \",\"SET\\u002f6 RED \",\"SET\\u002f6 RED \",\"SET\\u002f6 RED \",\"SET\\u002f6 RED \",\"SET OF 9 B\",\"PACK OF 6 \",\"SET\\u002f6 RED \",\"SET\\u002f6 RED \",\"TEA PARTY \",\"STRAWBERRY\",\"RED RETROS\",\"CHILDRENS \",\"SET OF 2 T\",\"ASSORTED C\",\"LUNCH BAG \",\"ALARM CLOC\",\"ROUND SNAC\",\"ALARM CLOC\",\"WOODLAND C\",\"ALARM CLOC\",\"SET\\u002f6 RED \",\"ALARM CLOC\",\"PAPER BUNT\",\"SET\\u002f6 RED \",\"RABBIT NIG\",\"ALARM CLOC\",\"ALARM CLOC\",\"CHILDRENS \",\"RED TOADST\",\"ROUND SNAC\",\"COFFEE MUG\",\"PLASTERS I\",\"SET\\u002f6 RED \",\"LUNCH BAG \",\"POSTAGE\",\"ALARM CLOC\",\"RED RETROS\",\"JUMBO BAG \",\"SET\\u002f6 RED \",\"ALARM CLOC\",\"SET\\u002f10 RED\",\"SET\\u002f6 RED \",\"ALARM CLOC\",\"SET\\u002f20 RED\",\"SET\\u002f6 RED \",\"SET\\u002f6 RED \",\"PACK OF 72\",\"PLASTERS I\",\"ALARM CLOC\",\"SET\\u002f6 RED \",\"LUNCH BAG \",\"RED RETROS\",\"PLASTERS I\",\"SET\\u002f6 RED \",\"ALARM CLOC\",\"PLASTERS I\",\"PLASTERS I\",\"PLASTERS I\",\"SET\\u002f6 RED \",\"SET\\u002f6 RED \",\"SET\\u002f6 RED \",\"SET\\u002f6 RED \",\"SET\\u002f6 RED \",\"ALARM CLOC\",\"LUNCH BOX \",\"LUNCH BAG \",\"SET\\u002f6 RED \",\"ALARM CLOC\",\"PLASTERS I\",\"MINI PAINT\",\"SET\\u002f6 RED \",\"REGENCY CA\",\"SPACEBOY L\",\"SET\\u002f20 RED\",\"SET\\u002f20 RED\",\"POSTAGE\",\"POSTAGE\",\"ALARM CLOC\",\"SET\\u002f6 RED \",\"ALARM CLOC\",\"SET\\u002f20 RED\",\"PLASTERS I\",\"LUNCH BAG \",\"PLASTERS I\",\"POSTAGE\",\"ALARM CLOC\",\"POSTAGE\",\"SET\\u002f6 RED \",\"SET\\u002f6 RED \",\"PLASTERS I\",\"POSTAGE\",\"ALARM CLOC\",\"ALARM CLOC\",\"DOLLY GIRL\",\"SET\\u002f6 RED \",\"ALARM CLOC\",\"SET\\u002f6 RED \",\"ALARM CLOC\",\"DOLLY GIRL\",\"SET\\u002f6 RED \",\"POSTAGE\",\"ALARM CLOC\",\"PLASTERS I\",\"SET\\u002f6 RED \",\"SET\\u002f6 RED \",\"PLASTERS I\",\"PLASTERS I\",\"ALARM CLOC\",\"PLASTERS I\",\"ALARM CLOC\",\"SET\\u002f6 RED \",\"SET\\u002f20 RED\",\"SET\\u002f20 RED\",\"ALARM CLOC\",\"SET\\u002f20 RED\",\"ALARM CLOC\",\"PLASTERS I\",\"PLASTERS I\",\"PLASTERS I\",\"SET\\u002f6 RED \",\"PLASTERS I\",\"ALARM CLOC\",\"PLASTERS I\",\"SET\\u002f6 RED \",\"PLASTERS I\",\"LUNCH BAG \",\"ROUND SNAC\",\"SPACEBOY L\",\"POSTAGE\",\"LUNCH BAG \",\"LUNCH BAG \",\"LUNCH BAG \",\"LUNCH BAG \",\"PLASTERS I\",\"PLASTERS I\",\"STRAWBERRY\",\"LUNCH BAG \",\"LUNCH BAG \",\"POSTAGE\",\"POSTAGE\"],\"x\":[0.0651,0.0846,0.0846,0.0694,0.0694,0.0542,0.0521,0.1041,0.0868,0.0759,0.0976,0.0586,0.0542,0.0542,0.0542,0.0521,0.0738,0.1258,0.0607,0.0564,0.0564,0.1041,0.0759,0.0607,0.0868,0.141,0.0542,0.0542,0.0542,0.1345,0.0803,0.0521,0.1258,0.0998,0.0868,0.0607,0.0716,0.0694,0.0694,0.0911,0.0672,0.0542,0.0868,0.0521,0.0933,0.0716,0.0716,0.0716,0.0716,0.0607,0.0694,0.0889,0.0976,0.0976,0.0846,0.0542,0.1171,0.0629,0.0716,0.0694,0.0694,0.0694,0.0868,0.0868,0.0672,0.0976,0.1041,0.0716,0.0629,0.0542,0.0694,0.0846,0.0911,0.0824,0.0868,0.0868,0.0716,0.0716,0.0564,0.0694,0.0607,0.0846,0.0586,0.0781,0.0889,0.0694,0.0629,0.0564,0.0868,0.0868,0.0716,0.0521,0.0629,0.0629,0.0629,0.0846,0.0607,0.0716,0.0564,0.0607,0.0694,0.0521,0.0542,0.0586,0.0694,0.0716,0.0586,0.0781,0.0564,0.0629,0.0542,0.0694,0.0716,0.0716,0.0542,0.0694,0.0521,0.0889,0.0716,0.0716,0.0716,0.0716,0.0521,0.0868,0.0694,0.0868,0.0521,0.0542,0.0607,0.0716,0.0564,0.0564,0.0564,0.0564,0.0781,0.0629,0.0542,0.0564,0.0564,0.0521,0.0629],\"xaxis\":\"x\",\"y\":[1.0,0.975,0.975,0.9697,0.9697,0.9615,0.96,0.96,0.9524,0.9459,0.9375,0.931,0.9259,0.9259,0.9259,0.9231,0.9189,0.9063,0.9032,0.8966,0.8966,0.8889,0.875,0.875,0.8696,0.8667,0.8621,0.8621,0.8621,0.8611,0.8605,0.8571,0.8529,0.8519,0.8511,0.8485,0.8462,0.8421,0.8421,0.84,0.8378,0.8333,0.8333,0.8276,0.8269,0.825,0.825,0.825,0.825,0.8235,0.8205,0.82,0.8182,0.8182,0.8125,0.8065,0.806,0.8056,0.8049,0.8,0.8,0.8,0.8,0.8,0.7949,0.7895,0.7869,0.7857,0.7838,0.7812,0.7805,0.78,0.7778,0.7755,0.7692,0.7692,0.7674,0.7674,0.7647,0.7619,0.7568,0.75,0.75,0.75,0.7455,0.7442,0.7436,0.7429,0.7407,0.7407,0.7333,0.7273,0.725,0.725,0.725,0.7222,0.7179,0.7174,0.7027,0.7,0.6957,0.6857,0.6757,0.675,0.6667,0.66,0.6585,0.6545,0.65,0.6444,0.641,0.64,0.6346,0.6346,0.625,0.6154,0.6154,0.6119,0.6111,0.6111,0.6111,0.6,0.6,0.597,0.5926,0.5882,0.5854,0.5814,0.5714,0.569,0.5532,0.5417,0.5417,0.5417,0.5294,0.5273,0.5208,0.52,0.52,0.5,0.5],\"yaxis\":\"y\",\"type\":\"scatter\",\"textposition\":\"top center\"}],                        {\"template\":{\"data\":{\"histogram2dcontour\":[{\"type\":\"histogram2dcontour\",\"colorbar\":{\"outlinewidth\":0,\"ticks\":\"\"},\"colorscale\":[[0.0,\"#0d0887\"],[0.1111111111111111,\"#46039f\"],[0.2222222222222222,\"#7201a8\"],[0.3333333333333333,\"#9c179e\"],[0.4444444444444444,\"#bd3786\"],[0.5555555555555556,\"#d8576b\"],[0.6666666666666666,\"#ed7953\"],[0.7777777777777778,\"#fb9f3a\"],[0.8888888888888888,\"#fdca26\"],[1.0,\"#f0f921\"]]}],\"choropleth\":[{\"type\":\"choropleth\",\"colorbar\":{\"outlinewidth\":0,\"ticks\":\"\"}}],\"histogram2d\":[{\"type\":\"histogram2d\",\"colorbar\":{\"outlinewidth\":0,\"ticks\":\"\"},\"colorscale\":[[0.0,\"#0d0887\"],[0.1111111111111111,\"#46039f\"],[0.2222222222222222,\"#7201a8\"],[0.3333333333333333,\"#9c179e\"],[0.4444444444444444,\"#bd3786\"],[0.5555555555555556,\"#d8576b\"],[0.6666666666666666,\"#ed7953\"],[0.7777777777777778,\"#fb9f3a\"],[0.8888888888888888,\"#fdca26\"],[1.0,\"#f0f921\"]]}],\"heatmap\":[{\"type\":\"heatmap\",\"colorbar\":{\"outlinewidth\":0,\"ticks\":\"\"},\"colorscale\":[[0.0,\"#0d0887\"],[0.1111111111111111,\"#46039f\"],[0.2222222222222222,\"#7201a8\"],[0.3333333333333333,\"#9c179e\"],[0.4444444444444444,\"#bd3786\"],[0.5555555555555556,\"#d8576b\"],[0.6666666666666666,\"#ed7953\"],[0.7777777777777778,\"#fb9f3a\"],[0.8888888888888888,\"#fdca26\"],[1.0,\"#f0f921\"]]}],\"heatmapgl\":[{\"type\":\"heatmapgl\",\"colorbar\":{\"outlinewidth\":0,\"ticks\":\"\"},\"colorscale\":[[0.0,\"#0d0887\"],[0.1111111111111111,\"#46039f\"],[0.2222222222222222,\"#7201a8\"],[0.3333333333333333,\"#9c179e\"],[0.4444444444444444,\"#bd3786\"],[0.5555555555555556,\"#d8576b\"],[0.6666666666666666,\"#ed7953\"],[0.7777777777777778,\"#fb9f3a\"],[0.8888888888888888,\"#fdca26\"],[1.0,\"#f0f921\"]]}],\"contourcarpet\":[{\"type\":\"contourcarpet\",\"colorbar\":{\"outlinewidth\":0,\"ticks\":\"\"}}],\"contour\":[{\"type\":\"contour\",\"colorbar\":{\"outlinewidth\":0,\"ticks\":\"\"},\"colorscale\":[[0.0,\"#0d0887\"],[0.1111111111111111,\"#46039f\"],[0.2222222222222222,\"#7201a8\"],[0.3333333333333333,\"#9c179e\"],[0.4444444444444444,\"#bd3786\"],[0.5555555555555556,\"#d8576b\"],[0.6666666666666666,\"#ed7953\"],[0.7777777777777778,\"#fb9f3a\"],[0.8888888888888888,\"#fdca26\"],[1.0,\"#f0f921\"]]}],\"surface\":[{\"type\":\"surface\",\"colorbar\":{\"outlinewidth\":0,\"ticks\":\"\"},\"colorscale\":[[0.0,\"#0d0887\"],[0.1111111111111111,\"#46039f\"],[0.2222222222222222,\"#7201a8\"],[0.3333333333333333,\"#9c179e\"],[0.4444444444444444,\"#bd3786\"],[0.5555555555555556,\"#d8576b\"],[0.6666666666666666,\"#ed7953\"],[0.7777777777777778,\"#fb9f3a\"],[0.8888888888888888,\"#fdca26\"],[1.0,\"#f0f921\"]]}],\"mesh3d\":[{\"type\":\"mesh3d\",\"colorbar\":{\"outlinewidth\":0,\"ticks\":\"\"}}],\"scatter\":[{\"fillpattern\":{\"fillmode\":\"overlay\",\"size\":10,\"solidity\":0.2},\"type\":\"scatter\"}],\"parcoords\":[{\"type\":\"parcoords\",\"line\":{\"colorbar\":{\"outlinewidth\":0,\"ticks\":\"\"}}}],\"scatterpolargl\":[{\"type\":\"scatterpolargl\",\"marker\":{\"colorbar\":{\"outlinewidth\":0,\"ticks\":\"\"}}}],\"bar\":[{\"error_x\":{\"color\":\"#2a3f5f\"},\"error_y\":{\"color\":\"#2a3f5f\"},\"marker\":{\"line\":{\"color\":\"#E5ECF6\",\"width\":0.5},\"pattern\":{\"fillmode\":\"overlay\",\"size\":10,\"solidity\":0.2}},\"type\":\"bar\"}],\"scattergeo\":[{\"type\":\"scattergeo\",\"marker\":{\"colorbar\":{\"outlinewidth\":0,\"ticks\":\"\"}}}],\"scatterpolar\":[{\"type\":\"scatterpolar\",\"marker\":{\"colorbar\":{\"outlinewidth\":0,\"ticks\":\"\"}}}],\"histogram\":[{\"marker\":{\"pattern\":{\"fillmode\":\"overlay\",\"size\":10,\"solidity\":0.2}},\"type\":\"histogram\"}],\"scattergl\":[{\"type\":\"scattergl\",\"marker\":{\"colorbar\":{\"outlinewidth\":0,\"ticks\":\"\"}}}],\"scatter3d\":[{\"type\":\"scatter3d\",\"line\":{\"colorbar\":{\"outlinewidth\":0,\"ticks\":\"\"}},\"marker\":{\"colorbar\":{\"outlinewidth\":0,\"ticks\":\"\"}}}],\"scattermapbox\":[{\"type\":\"scattermapbox\",\"marker\":{\"colorbar\":{\"outlinewidth\":0,\"ticks\":\"\"}}}],\"scatterternary\":[{\"type\":\"scatterternary\",\"marker\":{\"colorbar\":{\"outlinewidth\":0,\"ticks\":\"\"}}}],\"scattercarpet\":[{\"type\":\"scattercarpet\",\"marker\":{\"colorbar\":{\"outlinewidth\":0,\"ticks\":\"\"}}}],\"carpet\":[{\"aaxis\":{\"endlinecolor\":\"#2a3f5f\",\"gridcolor\":\"white\",\"linecolor\":\"white\",\"minorgridcolor\":\"white\",\"startlinecolor\":\"#2a3f5f\"},\"baxis\":{\"endlinecolor\":\"#2a3f5f\",\"gridcolor\":\"white\",\"linecolor\":\"white\",\"minorgridcolor\":\"white\",\"startlinecolor\":\"#2a3f5f\"},\"type\":\"carpet\"}],\"table\":[{\"cells\":{\"fill\":{\"color\":\"#EBF0F8\"},\"line\":{\"color\":\"white\"}},\"header\":{\"fill\":{\"color\":\"#C8D4E3\"},\"line\":{\"color\":\"white\"}},\"type\":\"table\"}],\"barpolar\":[{\"marker\":{\"line\":{\"color\":\"#E5ECF6\",\"width\":0.5},\"pattern\":{\"fillmode\":\"overlay\",\"size\":10,\"solidity\":0.2}},\"type\":\"barpolar\"}],\"pie\":[{\"automargin\":true,\"type\":\"pie\"}]},\"layout\":{\"autotypenumbers\":\"strict\",\"colorway\":[\"#636efa\",\"#EF553B\",\"#00cc96\",\"#ab63fa\",\"#FFA15A\",\"#19d3f3\",\"#FF6692\",\"#B6E880\",\"#FF97FF\",\"#FECB52\"],\"font\":{\"color\":\"#2a3f5f\"},\"hovermode\":\"closest\",\"hoverlabel\":{\"align\":\"left\"},\"paper_bgcolor\":\"white\",\"plot_bgcolor\":\"#E5ECF6\",\"polar\":{\"bgcolor\":\"#E5ECF6\",\"angularaxis\":{\"gridcolor\":\"white\",\"linecolor\":\"white\",\"ticks\":\"\"},\"radialaxis\":{\"gridcolor\":\"white\",\"linecolor\":\"white\",\"ticks\":\"\"}},\"ternary\":{\"bgcolor\":\"#E5ECF6\",\"aaxis\":{\"gridcolor\":\"white\",\"linecolor\":\"white\",\"ticks\":\"\"},\"baxis\":{\"gridcolor\":\"white\",\"linecolor\":\"white\",\"ticks\":\"\"},\"caxis\":{\"gridcolor\":\"white\",\"linecolor\":\"white\",\"ticks\":\"\"}},\"coloraxis\":{\"colorbar\":{\"outlinewidth\":0,\"ticks\":\"\"}},\"colorscale\":{\"sequential\":[[0.0,\"#0d0887\"],[0.1111111111111111,\"#46039f\"],[0.2222222222222222,\"#7201a8\"],[0.3333333333333333,\"#9c179e\"],[0.4444444444444444,\"#bd3786\"],[0.5555555555555556,\"#d8576b\"],[0.6666666666666666,\"#ed7953\"],[0.7777777777777778,\"#fb9f3a\"],[0.8888888888888888,\"#fdca26\"],[1.0,\"#f0f921\"]],\"sequentialminus\":[[0.0,\"#0d0887\"],[0.1111111111111111,\"#46039f\"],[0.2222222222222222,\"#7201a8\"],[0.3333333333333333,\"#9c179e\"],[0.4444444444444444,\"#bd3786\"],[0.5555555555555556,\"#d8576b\"],[0.6666666666666666,\"#ed7953\"],[0.7777777777777778,\"#fb9f3a\"],[0.8888888888888888,\"#fdca26\"],[1.0,\"#f0f921\"]],\"diverging\":[[0,\"#8e0152\"],[0.1,\"#c51b7d\"],[0.2,\"#de77ae\"],[0.3,\"#f1b6da\"],[0.4,\"#fde0ef\"],[0.5,\"#f7f7f7\"],[0.6,\"#e6f5d0\"],[0.7,\"#b8e186\"],[0.8,\"#7fbc41\"],[0.9,\"#4d9221\"],[1,\"#276419\"]]},\"xaxis\":{\"gridcolor\":\"white\",\"linecolor\":\"white\",\"ticks\":\"\",\"title\":{\"standoff\":15},\"zerolinecolor\":\"white\",\"automargin\":true,\"zerolinewidth\":2},\"yaxis\":{\"gridcolor\":\"white\",\"linecolor\":\"white\",\"ticks\":\"\",\"title\":{\"standoff\":15},\"zerolinecolor\":\"white\",\"automargin\":true,\"zerolinewidth\":2},\"scene\":{\"xaxis\":{\"backgroundcolor\":\"#E5ECF6\",\"gridcolor\":\"white\",\"linecolor\":\"white\",\"showbackground\":true,\"ticks\":\"\",\"zerolinecolor\":\"white\",\"gridwidth\":2},\"yaxis\":{\"backgroundcolor\":\"#E5ECF6\",\"gridcolor\":\"white\",\"linecolor\":\"white\",\"showbackground\":true,\"ticks\":\"\",\"zerolinecolor\":\"white\",\"gridwidth\":2},\"zaxis\":{\"backgroundcolor\":\"#E5ECF6\",\"gridcolor\":\"white\",\"linecolor\":\"white\",\"showbackground\":true,\"ticks\":\"\",\"zerolinecolor\":\"white\",\"gridwidth\":2}},\"shapedefaults\":{\"line\":{\"color\":\"#2a3f5f\"}},\"annotationdefaults\":{\"arrowcolor\":\"#2a3f5f\",\"arrowhead\":0,\"arrowwidth\":1},\"geo\":{\"bgcolor\":\"white\",\"landcolor\":\"#E5ECF6\",\"subunitcolor\":\"white\",\"showland\":true,\"showlakes\":true,\"lakecolor\":\"white\"},\"title\":{\"x\":0.05},\"mapbox\":{\"style\":\"light\"}}},\"xaxis\":{\"anchor\":\"y\",\"domain\":[0.0,1.0],\"title\":{\"text\":\"support\"},\"type\":\"log\"},\"yaxis\":{\"anchor\":\"x\",\"domain\":[0.0,1.0],\"title\":{\"text\":\"confidence\"}},\"coloraxis\":{\"colorbar\":{\"title\":{\"text\":\"lift\"}},\"colorscale\":[[0.0,\"#0d0887\"],[0.1111111111111111,\"#46039f\"],[0.2222222222222222,\"#7201a8\"],[0.3333333333333333,\"#9c179e\"],[0.4444444444444444,\"#bd3786\"],[0.5555555555555556,\"#d8576b\"],[0.6666666666666666,\"#ed7953\"],[0.7777777777777778,\"#fb9f3a\"],[0.8888888888888888,\"#fdca26\"],[1.0,\"#f0f921\"]]},\"legend\":{\"tracegroupgap\":0},\"margin\":{\"t\":60},\"plot_bgcolor\":\"rgb(240,240,240)\",\"title\":{\"text\":\"2D Plot of Support, Confidence and Lift\"},\"height\":800},                        {\"responsive\": true}                    ).then(function(){\n",
              "                            \n",
              "var gd = document.getElementById('1f9f0ecc-25cb-4e5a-9db4-8f0f3beea838');\n",
              "var x = new MutationObserver(function (mutations, observer) {{\n",
              "        var display = window.getComputedStyle(gd).display;\n",
              "        if (!display || display === 'none') {{\n",
              "            console.log([gd, 'removed!']);\n",
              "            Plotly.purge(gd);\n",
              "            observer.disconnect();\n",
              "        }}\n",
              "}});\n",
              "\n",
              "// Listen for the removal of the full notebook cells\n",
              "var notebookContainer = gd.closest('#notebook-container');\n",
              "if (notebookContainer) {{\n",
              "    x.observe(notebookContainer, {childList: true});\n",
              "}}\n",
              "\n",
              "// Listen for the clearing of the current output cell\n",
              "var outputEl = gd.closest('.output');\n",
              "if (outputEl) {{\n",
              "    x.observe(outputEl, {childList: true});\n",
              "}}\n",
              "\n",
              "                        })                };                });            </script>        </div>"
            ]
          },
          "metadata": {}
        }
      ]
    },
    {
      "cell_type": "code",
      "source": [
        "plot_model(a1, plot='3d')"
      ],
      "metadata": {
        "colab": {
          "base_uri": "https://localhost:8080/",
          "height": 908
        },
        "id": "F2H9CffHU1Zp",
        "outputId": "12e15a1c-5f7b-481c-862c-4014e9afa2f8"
      },
      "execution_count": 13,
      "outputs": [
        {
          "output_type": "stream",
          "name": "stderr",
          "text": [
            "/usr/local/lib/python3.10/dist-packages/ipykernel/ipkernel.py:283: DeprecationWarning:\n",
            "\n",
            "`should_run_async` will not call `transform_cell` automatically in the future. Please pass the result to `transformed_cell` argument and any exception that happen during thetransform in `preprocessing_exc_tuple` in IPython 7.17 and above.\n",
            "\n"
          ]
        },
        {
          "output_type": "display_data",
          "data": {
            "text/html": [
              "        <script type=\"text/javascript\">\n",
              "        window.PlotlyConfig = {MathJaxConfig: 'local'};\n",
              "        if (window.MathJax && window.MathJax.Hub && window.MathJax.Hub.Config) {window.MathJax.Hub.Config({SVG: {font: \"STIX-Web\"}});}\n",
              "        if (typeof require !== 'undefined') {\n",
              "        require.undef(\"plotly\");\n",
              "        requirejs.config({\n",
              "            paths: {\n",
              "                'plotly': ['https://cdn.plot.ly/plotly-2.24.1.min']\n",
              "            }\n",
              "        });\n",
              "        require(['plotly'], function(Plotly) {\n",
              "            window._Plotly = Plotly;\n",
              "        });\n",
              "        }\n",
              "        </script>\n",
              "        "
            ]
          },
          "metadata": {}
        },
        {
          "output_type": "display_data",
          "data": {
            "application/vnd.plotly.v1+json": {
              "data": [
                {
                  "customdata": [
                    [
                      "JUMBO BAG WOODLAND ANIMALS",
                      "POSTAGE"
                    ],
                    [
                      "SET/6 RED SPOTTY PAPER PLATES",
                      "SET/6 RED SPOTTY PAPER CUPS"
                    ],
                    [
                      "SET/6 RED SPOTTY PAPER CUPS",
                      "SET/6 RED SPOTTY PAPER PLATES"
                    ],
                    [
                      "SET/6 RED SPOTTY PAPER PLATES",
                      "SET/6 RED SPOTTY PAPER CUPS"
                    ],
                    [
                      "SET/6 RED SPOTTY PAPER CUPS",
                      "SET/6 RED SPOTTY PAPER PLATES"
                    ],
                    [
                      "SET OF 9 BLACK SKULL BALLOONS",
                      "POSTAGE"
                    ],
                    [
                      "PACK OF 6 SKULL PAPER CUPS",
                      "POSTAGE"
                    ],
                    [
                      "SET/6 RED SPOTTY PAPER PLATES",
                      "SET/6 RED SPOTTY PAPER CUPS"
                    ],
                    [
                      "SET/6 RED SPOTTY PAPER PLATES",
                      "SET/6 RED SPOTTY PAPER CUPS"
                    ],
                    [
                      "TEA PARTY BIRTHDAY CARD",
                      "POSTAGE"
                    ],
                    [
                      "STRAWBERRY LUNCH BOX WITH CUTLERY",
                      "POSTAGE"
                    ],
                    [
                      "RED RETROSPOT PICNIC BAG",
                      "POSTAGE"
                    ],
                    [
                      "CHILDRENS CUTLERY SPACEBOY ",
                      "CHILDRENS CUTLERY DOLLY GIRL "
                    ],
                    [
                      "SET OF 2 TEA TOWELS APPLE AND PEARS",
                      "POSTAGE"
                    ],
                    [
                      "ASSORTED COLOUR MINI CASES",
                      "POSTAGE"
                    ],
                    [
                      "LUNCH BAG APPLE DESIGN",
                      "POSTAGE"
                    ],
                    [
                      "ALARM CLOCK BAKELIKE RED ",
                      "POSTAGE"
                    ],
                    [
                      "ROUND SNACK BOXES SET OF4 WOODLAND ",
                      "POSTAGE"
                    ],
                    [
                      "ALARM CLOCK BAKELIKE RED ",
                      "POSTAGE"
                    ],
                    [
                      "WOODLAND CHARLOTTE BAG",
                      "POSTAGE"
                    ],
                    [
                      "ALARM CLOCK BAKELIKE RED ",
                      "POSTAGE"
                    ],
                    [
                      "SET/6 RED SPOTTY PAPER CUPS",
                      "SET/6 RED SPOTTY PAPER PLATES"
                    ],
                    [
                      "ALARM CLOCK BAKELIKE PINK",
                      "POSTAGE"
                    ],
                    [
                      "PAPER BUNTING RETROSPOT",
                      "POSTAGE"
                    ],
                    [
                      "SET/6 RED SPOTTY PAPER CUPS",
                      "SET/6 RED SPOTTY PAPER PLATES"
                    ],
                    [
                      "RABBIT NIGHT LIGHT",
                      "POSTAGE"
                    ],
                    [
                      "ALARM CLOCK BAKELIKE RED ",
                      "ALARM CLOCK BAKELIKE GREEN"
                    ],
                    [
                      "ALARM CLOCK BAKELIKE GREEN",
                      "ALARM CLOCK BAKELIKE RED "
                    ],
                    [
                      "CHILDRENS CUTLERY DOLLY GIRL ",
                      "CHILDRENS CUTLERY SPACEBOY "
                    ],
                    [
                      "RED TOADSTOOL LED NIGHT LIGHT",
                      "POSTAGE"
                    ],
                    [
                      "ROUND SNACK BOXES SET OF 4 FRUITS ",
                      "POSTAGE"
                    ],
                    [
                      "COFFEE MUG APPLES DESIGN",
                      "POSTAGE"
                    ],
                    [
                      "PLASTERS IN TIN CIRCUS PARADE ",
                      "POSTAGE"
                    ],
                    [
                      "SET/6 RED SPOTTY PAPER CUPS",
                      "POSTAGE"
                    ],
                    [
                      "LUNCH BAG WOODLAND",
                      "POSTAGE"
                    ],
                    [
                      "POSTAGE",
                      "ALARM CLOCK BAKELIKE RED "
                    ],
                    [
                      "ALARM CLOCK BAKELIKE GREEN",
                      "POSTAGE"
                    ],
                    [
                      "RED RETROSPOT CHARLOTTE BAG",
                      "POSTAGE"
                    ],
                    [
                      "JUMBO BAG RED RETROSPOT",
                      "POSTAGE"
                    ],
                    [
                      "SET/6 RED SPOTTY PAPER PLATES",
                      "POSTAGE"
                    ],
                    [
                      "ALARM CLOCK BAKELIKE RED ",
                      "ALARM CLOCK BAKELIKE GREEN"
                    ],
                    [
                      "SET/10 RED POLKADOT PARTY CANDLES",
                      "POSTAGE"
                    ],
                    [
                      "SET/6 RED SPOTTY PAPER PLATES",
                      "POSTAGE"
                    ],
                    [
                      "ALARM CLOCK BAKELIKE GREEN",
                      "POSTAGE"
                    ],
                    [
                      "SET/20 RED RETROSPOT PAPER NAPKINS ",
                      "POSTAGE"
                    ],
                    [
                      "SET/6 RED SPOTTY PAPER PLATES",
                      "POSTAGE"
                    ],
                    [
                      "SET/6 RED SPOTTY PAPER CUPS",
                      "POSTAGE"
                    ],
                    [
                      "PACK OF 72 RETROSPOT CAKE CASES",
                      "POSTAGE"
                    ],
                    [
                      "PLASTERS IN TIN WOODLAND ANIMALS",
                      "POSTAGE"
                    ],
                    [
                      "ALARM CLOCK BAKELIKE RED ",
                      "ALARM CLOCK BAKELIKE GREEN"
                    ],
                    [
                      "SET/6 RED SPOTTY PAPER PLATES",
                      "POSTAGE"
                    ],
                    [
                      "LUNCH BAG APPLE DESIGN",
                      "POSTAGE"
                    ],
                    [
                      "RED RETROSPOT MINI CASES",
                      "POSTAGE"
                    ],
                    [
                      "PLASTERS IN TIN SPACEBOY",
                      "POSTAGE"
                    ],
                    [
                      "SET/6 RED SPOTTY PAPER PLATES",
                      "SET/20 RED RETROSPOT PAPER NAPKINS "
                    ],
                    [
                      "ALARM CLOCK BAKELIKE RED ",
                      "ALARM CLOCK BAKELIKE PINK"
                    ],
                    [
                      "PLASTERS IN TIN WOODLAND ANIMALS",
                      "POSTAGE"
                    ],
                    [
                      "PLASTERS IN TIN SPACEBOY",
                      "POSTAGE"
                    ],
                    [
                      "PLASTERS IN TIN SPACEBOY",
                      "POSTAGE"
                    ],
                    [
                      "SET/6 RED SPOTTY PAPER CUPS",
                      "SET/6 RED SPOTTY PAPER PLATES"
                    ],
                    [
                      "SET/6 RED SPOTTY PAPER PLATES",
                      "SET/6 RED SPOTTY PAPER CUPS"
                    ],
                    [
                      "SET/6 RED SPOTTY PAPER PLATES",
                      "SET/20 RED RETROSPOT PAPER NAPKINS "
                    ],
                    [
                      "SET/6 RED SPOTTY PAPER PLATES",
                      "SET/20 RED RETROSPOT PAPER NAPKINS "
                    ],
                    [
                      "SET/6 RED SPOTTY PAPER PLATES",
                      "SET/6 RED SPOTTY PAPER CUPS"
                    ],
                    [
                      "ALARM CLOCK BAKELIKE GREEN",
                      "ALARM CLOCK BAKELIKE RED "
                    ],
                    [
                      "LUNCH BOX WITH CUTLERY RETROSPOT ",
                      "POSTAGE"
                    ],
                    [
                      "LUNCH BAG RED RETROSPOT",
                      "POSTAGE"
                    ],
                    [
                      "SET/6 RED SPOTTY PAPER PLATES",
                      "SET/20 RED RETROSPOT PAPER NAPKINS "
                    ],
                    [
                      "ALARM CLOCK BAKELIKE RED ",
                      "ALARM CLOCK BAKELIKE PINK"
                    ],
                    [
                      "PLASTERS IN TIN STRONGMAN",
                      "POSTAGE"
                    ],
                    [
                      "MINI PAINT SET VINTAGE ",
                      "POSTAGE"
                    ],
                    [
                      "SET/6 RED SPOTTY PAPER PLATES",
                      "SET/6 RED SPOTTY PAPER CUPS"
                    ],
                    [
                      "REGENCY CAKESTAND 3 TIER",
                      "POSTAGE"
                    ],
                    [
                      "SPACEBOY LUNCH BOX ",
                      "POSTAGE"
                    ],
                    [
                      "SET/20 RED RETROSPOT PAPER NAPKINS ",
                      "SET/6 RED SPOTTY PAPER PLATES"
                    ],
                    [
                      "SET/20 RED RETROSPOT PAPER NAPKINS ",
                      "SET/6 RED SPOTTY PAPER CUPS"
                    ],
                    [
                      "POSTAGE",
                      "SET/6 RED SPOTTY PAPER PLATES"
                    ],
                    [
                      "POSTAGE",
                      "SET/6 RED SPOTTY PAPER CUPS"
                    ],
                    [
                      "ALARM CLOCK BAKELIKE RED ",
                      "ALARM CLOCK BAKELIKE PINK"
                    ],
                    [
                      "SET/6 RED SPOTTY PAPER PLATES",
                      "SET/6 RED SPOTTY PAPER CUPS"
                    ],
                    [
                      "ALARM CLOCK BAKELIKE RED ",
                      "POSTAGE"
                    ],
                    [
                      "SET/20 RED RETROSPOT PAPER NAPKINS ",
                      "SET/6 RED SPOTTY PAPER PLATES"
                    ],
                    [
                      "PLASTERS IN TIN SPACEBOY",
                      "PLASTERS IN TIN WOODLAND ANIMALS"
                    ],
                    [
                      "LUNCH BAG SPACEBOY DESIGN ",
                      "POSTAGE"
                    ],
                    [
                      "PLASTERS IN TIN SPACEBOY",
                      "PLASTERS IN TIN WOODLAND ANIMALS"
                    ],
                    [
                      "POSTAGE",
                      "SET/6 RED SPOTTY PAPER PLATES"
                    ],
                    [
                      "ALARM CLOCK BAKELIKE GREEN",
                      "ALARM CLOCK BAKELIKE PINK"
                    ],
                    [
                      "POSTAGE",
                      "ALARM CLOCK BAKELIKE RED "
                    ],
                    [
                      "SET/6 RED SPOTTY PAPER CUPS",
                      "SET/20 RED RETROSPOT PAPER NAPKINS "
                    ],
                    [
                      "SET/6 RED SPOTTY PAPER CUPS",
                      "SET/6 RED SPOTTY PAPER PLATES"
                    ],
                    [
                      "PLASTERS IN TIN SPACEBOY",
                      "PLASTERS IN TIN WOODLAND ANIMALS"
                    ],
                    [
                      "POSTAGE",
                      "ALARM CLOCK BAKELIKE PINK"
                    ],
                    [
                      "ALARM CLOCK BAKELIKE PINK",
                      "ALARM CLOCK BAKELIKE GREEN"
                    ],
                    [
                      "ALARM CLOCK BAKELIKE PINK",
                      "ALARM CLOCK BAKELIKE RED "
                    ],
                    [
                      "DOLLY GIRL LUNCH BOX",
                      "POSTAGE"
                    ],
                    [
                      "SET/6 RED SPOTTY PAPER CUPS",
                      "SET/6 RED SPOTTY PAPER PLATES"
                    ],
                    [
                      "ALARM CLOCK BAKELIKE GREEN",
                      "ALARM CLOCK BAKELIKE RED "
                    ],
                    [
                      "SET/6 RED SPOTTY PAPER CUPS",
                      "SET/20 RED RETROSPOT PAPER NAPKINS "
                    ],
                    [
                      "ALARM CLOCK BAKELIKE RED ",
                      "POSTAGE"
                    ],
                    [
                      "DOLLY GIRL LUNCH BOX",
                      "SPACEBOY LUNCH BOX "
                    ],
                    [
                      "SET/6 RED SPOTTY PAPER CUPS",
                      "SET/6 RED SPOTTY PAPER PLATES"
                    ],
                    [
                      "POSTAGE",
                      "ALARM CLOCK BAKELIKE GREEN"
                    ],
                    [
                      "ALARM CLOCK BAKELIKE RED ",
                      "ALARM CLOCK BAKELIKE GREEN"
                    ],
                    [
                      "PLASTERS IN TIN WOODLAND ANIMALS",
                      "PLASTERS IN TIN SPACEBOY"
                    ],
                    [
                      "SET/6 RED SPOTTY PAPER PLATES",
                      "POSTAGE"
                    ],
                    [
                      "SET/6 RED SPOTTY PAPER PLATES",
                      "POSTAGE"
                    ],
                    [
                      "PLASTERS IN TIN SPACEBOY",
                      "PLASTERS IN TIN CIRCUS PARADE "
                    ],
                    [
                      "PLASTERS IN TIN SPACEBOY",
                      "PLASTERS IN TIN CIRCUS PARADE "
                    ],
                    [
                      "ALARM CLOCK BAKELIKE PINK",
                      "ALARM CLOCK BAKELIKE RED "
                    ],
                    [
                      "PLASTERS IN TIN SPACEBOY",
                      "PLASTERS IN TIN CIRCUS PARADE "
                    ],
                    [
                      "ALARM CLOCK BAKELIKE GREEN",
                      "ALARM CLOCK BAKELIKE RED "
                    ],
                    [
                      "SET/6 RED SPOTTY PAPER PLATES",
                      "SET/6 RED SPOTTY PAPER CUPS"
                    ],
                    [
                      "SET/20 RED RETROSPOT PAPER NAPKINS ",
                      "SET/6 RED SPOTTY PAPER PLATES"
                    ],
                    [
                      "SET/20 RED RETROSPOT PAPER NAPKINS ",
                      "SET/6 RED SPOTTY PAPER CUPS"
                    ],
                    [
                      "ALARM CLOCK BAKELIKE PINK",
                      "ALARM CLOCK BAKELIKE RED "
                    ],
                    [
                      "SET/20 RED RETROSPOT PAPER NAPKINS ",
                      "SET/6 RED SPOTTY PAPER PLATES"
                    ],
                    [
                      "ALARM CLOCK BAKELIKE GREEN",
                      "POSTAGE"
                    ],
                    [
                      "PLASTERS IN TIN WOODLAND ANIMALS",
                      "PLASTERS IN TIN SPACEBOY"
                    ],
                    [
                      "PLASTERS IN TIN WOODLAND ANIMALS",
                      "PLASTERS IN TIN CIRCUS PARADE "
                    ],
                    [
                      "PLASTERS IN TIN WOODLAND ANIMALS",
                      "PLASTERS IN TIN SPACEBOY"
                    ],
                    [
                      "SET/6 RED SPOTTY PAPER CUPS",
                      "POSTAGE"
                    ],
                    [
                      "PLASTERS IN TIN SPACEBOY",
                      "PLASTERS IN TIN WOODLAND ANIMALS"
                    ],
                    [
                      "ALARM CLOCK BAKELIKE PINK",
                      "POSTAGE"
                    ],
                    [
                      "PLASTERS IN TIN WOODLAND ANIMALS",
                      "PLASTERS IN TIN CIRCUS PARADE "
                    ],
                    [
                      "SET/6 RED SPOTTY PAPER CUPS",
                      "SET/6 RED SPOTTY PAPER PLATES"
                    ],
                    [
                      "PLASTERS IN TIN CIRCUS PARADE ",
                      "PLASTERS IN TIN WOODLAND ANIMALS"
                    ],
                    [
                      "LUNCH BAG APPLE DESIGN",
                      "LUNCH BAG RED RETROSPOT"
                    ],
                    [
                      "ROUND SNACK BOXES SET OF 4 FRUITS ",
                      "ROUND SNACK BOXES SET OF4 WOODLAND "
                    ],
                    [
                      "SPACEBOY LUNCH BOX ",
                      "DOLLY GIRL LUNCH BOX"
                    ],
                    [
                      "POSTAGE",
                      "PLASTERS IN TIN WOODLAND ANIMALS"
                    ],
                    [
                      "LUNCH BAG WOODLAND",
                      "LUNCH BAG SPACEBOY DESIGN "
                    ],
                    [
                      "LUNCH BAG SPACEBOY DESIGN ",
                      "LUNCH BAG RED RETROSPOT"
                    ],
                    [
                      "LUNCH BAG SPACEBOY DESIGN ",
                      "LUNCH BAG APPLE DESIGN"
                    ],
                    [
                      "LUNCH BAG SPACEBOY DESIGN ",
                      "LUNCH BAG WOODLAND"
                    ],
                    [
                      "PLASTERS IN TIN CIRCUS PARADE ",
                      "PLASTERS IN TIN SPACEBOY"
                    ],
                    [
                      "PLASTERS IN TIN SPACEBOY",
                      "POSTAGE"
                    ],
                    [
                      "STRAWBERRY LUNCH BOX WITH CUTLERY",
                      "LUNCH BOX WITH CUTLERY RETROSPOT "
                    ],
                    [
                      "LUNCH BAG APPLE DESIGN",
                      "LUNCH BAG SPACEBOY DESIGN "
                    ],
                    [
                      "LUNCH BAG APPLE DESIGN",
                      "LUNCH BAG RED RETROSPOT"
                    ],
                    [
                      "POSTAGE",
                      "LUNCH BAG APPLE DESIGN"
                    ],
                    [
                      "POSTAGE",
                      "PLASTERS IN TIN SPACEBOY"
                    ]
                  ],
                  "hovertemplate": "support=%{x}<br>confidence=%{y}<br>lift=%{z}<br>antecedents=%{customdata[0]}<br>consequents=%{customdata[1]}<br>antecedent support=%{marker.color}<extra></extra>",
                  "legendgroup": "",
                  "marker": {
                    "color": [
                      0.0651,
                      0.0868,
                      0.0868,
                      0.0716,
                      0.0716,
                      0.0564,
                      0.0542,
                      0.1085,
                      0.0911,
                      0.0803,
                      0.1041,
                      0.0629,
                      0.0586,
                      0.0586,
                      0.0586,
                      0.0564,
                      0.0803,
                      0.1388,
                      0.0672,
                      0.0629,
                      0.0629,
                      0.1171,
                      0.0868,
                      0.0694,
                      0.0998,
                      0.1627,
                      0.0629,
                      0.0629,
                      0.0629,
                      0.1562,
                      0.0933,
                      0.0607,
                      0.1475,
                      0.1171,
                      0.102,
                      0.0716,
                      0.0846,
                      0.0824,
                      0.0824,
                      0.1085,
                      0.0803,
                      0.0651,
                      0.1041,
                      0.0629,
                      0.1128,
                      0.0868,
                      0.0868,
                      0.0868,
                      0.0868,
                      0.0738,
                      0.0846,
                      0.1085,
                      0.1193,
                      0.1193,
                      0.1041,
                      0.0672,
                      0.1453,
                      0.0781,
                      0.0889,
                      0.0868,
                      0.0868,
                      0.0868,
                      0.1085,
                      0.1085,
                      0.0846,
                      0.1236,
                      0.1323,
                      0.0911,
                      0.0803,
                      0.0694,
                      0.0889,
                      0.1085,
                      0.1171,
                      0.1063,
                      0.1128,
                      0.1128,
                      0.0933,
                      0.0933,
                      0.0738,
                      0.0911,
                      0.0803,
                      0.1128,
                      0.0781,
                      0.1041,
                      0.1193,
                      0.0933,
                      0.0846,
                      0.0759,
                      0.1171,
                      0.1171,
                      0.0976,
                      0.0716,
                      0.0868,
                      0.0868,
                      0.0868,
                      0.1171,
                      0.0846,
                      0.0998,
                      0.0803,
                      0.0868,
                      0.0998,
                      0.0759,
                      0.0803,
                      0.0868,
                      0.1041,
                      0.1085,
                      0.0889,
                      0.1193,
                      0.0868,
                      0.0976,
                      0.0846,
                      0.1085,
                      0.1128,
                      0.1128,
                      0.0868,
                      0.1128,
                      0.0846,
                      0.1453,
                      0.1171,
                      0.1171,
                      0.1171,
                      0.1193,
                      0.0868,
                      0.1453,
                      0.1171,
                      0.1475,
                      0.0889,
                      0.0933,
                      0.1063,
                      0.1258,
                      0.102,
                      0.1041,
                      0.1041,
                      0.1041,
                      0.1475,
                      0.1193,
                      0.1041,
                      0.1085,
                      0.1085,
                      0.1041,
                      0.1258
                    ],
                    "coloraxis": "coloraxis",
                    "opacity": 0.7,
                    "symbol": "circle"
                  },
                  "mode": "markers",
                  "name": "",
                  "scene": "scene",
                  "showlegend": false,
                  "x": [
                    0.0651,
                    0.0846,
                    0.0846,
                    0.0694,
                    0.0694,
                    0.0542,
                    0.0521,
                    0.1041,
                    0.0868,
                    0.0759,
                    0.0976,
                    0.0586,
                    0.0542,
                    0.0542,
                    0.0542,
                    0.0521,
                    0.0738,
                    0.1258,
                    0.0607,
                    0.0564,
                    0.0564,
                    0.1041,
                    0.0759,
                    0.0607,
                    0.0868,
                    0.141,
                    0.0542,
                    0.0542,
                    0.0542,
                    0.1345,
                    0.0803,
                    0.0521,
                    0.1258,
                    0.0998,
                    0.0868,
                    0.0607,
                    0.0716,
                    0.0694,
                    0.0694,
                    0.0911,
                    0.0672,
                    0.0542,
                    0.0868,
                    0.0521,
                    0.0933,
                    0.0716,
                    0.0716,
                    0.0716,
                    0.0716,
                    0.0607,
                    0.0694,
                    0.0889,
                    0.0976,
                    0.0976,
                    0.0846,
                    0.0542,
                    0.1171,
                    0.0629,
                    0.0716,
                    0.0694,
                    0.0694,
                    0.0694,
                    0.0868,
                    0.0868,
                    0.0672,
                    0.0976,
                    0.1041,
                    0.0716,
                    0.0629,
                    0.0542,
                    0.0694,
                    0.0846,
                    0.0911,
                    0.0824,
                    0.0868,
                    0.0868,
                    0.0716,
                    0.0716,
                    0.0564,
                    0.0694,
                    0.0607,
                    0.0846,
                    0.0586,
                    0.0781,
                    0.0889,
                    0.0694,
                    0.0629,
                    0.0564,
                    0.0868,
                    0.0868,
                    0.0716,
                    0.0521,
                    0.0629,
                    0.0629,
                    0.0629,
                    0.0846,
                    0.0607,
                    0.0716,
                    0.0564,
                    0.0607,
                    0.0694,
                    0.0521,
                    0.0542,
                    0.0586,
                    0.0694,
                    0.0716,
                    0.0586,
                    0.0781,
                    0.0564,
                    0.0629,
                    0.0542,
                    0.0694,
                    0.0716,
                    0.0716,
                    0.0542,
                    0.0694,
                    0.0521,
                    0.0889,
                    0.0716,
                    0.0716,
                    0.0716,
                    0.0716,
                    0.0521,
                    0.0868,
                    0.0694,
                    0.0868,
                    0.0521,
                    0.0542,
                    0.0607,
                    0.0716,
                    0.0564,
                    0.0564,
                    0.0564,
                    0.0564,
                    0.0781,
                    0.0629,
                    0.0542,
                    0.0564,
                    0.0564,
                    0.0521,
                    0.0629
                  ],
                  "y": [
                    1,
                    0.975,
                    0.975,
                    0.9697,
                    0.9697,
                    0.9615,
                    0.96,
                    0.96,
                    0.9524,
                    0.9459,
                    0.9375,
                    0.931,
                    0.9259,
                    0.9259,
                    0.9259,
                    0.9231,
                    0.9189,
                    0.9063,
                    0.9032,
                    0.8966,
                    0.8966,
                    0.8889,
                    0.875,
                    0.875,
                    0.8696,
                    0.8667,
                    0.8621,
                    0.8621,
                    0.8621,
                    0.8611,
                    0.8605,
                    0.8571,
                    0.8529,
                    0.8519,
                    0.8511,
                    0.8485,
                    0.8462,
                    0.8421,
                    0.8421,
                    0.84,
                    0.8378,
                    0.8333,
                    0.8333,
                    0.8276,
                    0.8269,
                    0.825,
                    0.825,
                    0.825,
                    0.825,
                    0.8235,
                    0.8205,
                    0.82,
                    0.8182,
                    0.8182,
                    0.8125,
                    0.8065,
                    0.806,
                    0.8056,
                    0.8049,
                    0.8,
                    0.8,
                    0.8,
                    0.8,
                    0.8,
                    0.7949,
                    0.7895,
                    0.7869,
                    0.7857,
                    0.7838,
                    0.7812,
                    0.7805,
                    0.78,
                    0.7778,
                    0.7755,
                    0.7692,
                    0.7692,
                    0.7674,
                    0.7674,
                    0.7647,
                    0.7619,
                    0.7568,
                    0.75,
                    0.75,
                    0.75,
                    0.7455,
                    0.7442,
                    0.7436,
                    0.7429,
                    0.7407,
                    0.7407,
                    0.7333,
                    0.7273,
                    0.725,
                    0.725,
                    0.725,
                    0.7222,
                    0.7179,
                    0.7174,
                    0.7027,
                    0.7,
                    0.6957,
                    0.6857,
                    0.6757,
                    0.675,
                    0.6667,
                    0.66,
                    0.6585,
                    0.6545,
                    0.65,
                    0.6444,
                    0.641,
                    0.64,
                    0.6346,
                    0.6346,
                    0.625,
                    0.6154,
                    0.6154,
                    0.6119,
                    0.6111,
                    0.6111,
                    0.6111,
                    0.6,
                    0.6,
                    0.597,
                    0.5926,
                    0.5882,
                    0.5854,
                    0.5814,
                    0.5714,
                    0.569,
                    0.5532,
                    0.5417,
                    0.5417,
                    0.5417,
                    0.5294,
                    0.5273,
                    0.5208,
                    0.52,
                    0.52,
                    0.5,
                    0.5
                  ],
                  "z": [
                    1.4823,
                    8.3236,
                    8.9895,
                    8.2783,
                    8.9406,
                    1.4253,
                    1.423,
                    8.1956,
                    8.1305,
                    1.4022,
                    1.3897,
                    1.3801,
                    14.719,
                    1.3725,
                    1.3725,
                    1.3683,
                    1.3621,
                    1.3433,
                    1.3389,
                    1.329,
                    1.329,
                    8.1956,
                    1.297,
                    1.297,
                    8.0174,
                    1.2847,
                    10.1901,
                    10.7409,
                    14.719,
                    1.2764,
                    1.2755,
                    1.2706,
                    1.2643,
                    1.2627,
                    1.2615,
                    10.5717,
                    1.2543,
                    1.2483,
                    1.2483,
                    1.2451,
                    9.9037,
                    1.2353,
                    1.2353,
                    1.2267,
                    1.2258,
                    1.2229,
                    1.2229,
                    1.2229,
                    1.2229,
                    9.7345,
                    1.2163,
                    1.2155,
                    1.2128,
                    1.2128,
                    7.2031,
                    9.2944,
                    1.1947,
                    1.1941,
                    1.1931,
                    8.781,
                    8.0174,
                    7.0923,
                    7.0923,
                    8.0174,
                    9.9037,
                    1.1702,
                    1.1664,
                    6.9657,
                    9.0331,
                    1.1581,
                    1.1569,
                    8.9895,
                    1.1529,
                    1.1496,
                    7.0923,
                    6.567,
                    7.0758,
                    6.5517,
                    8.8132,
                    8.781,
                    10.5717,
                    7.2031,
                    5.1604,
                    1.1117,
                    5.1292,
                    7.1473,
                    8.5699,
                    9.2556,
                    6.567,
                    8.1305,
                    5.0458,
                    8.3818,
                    8.5699,
                    9.0331,
                    1.0747,
                    8.3236,
                    9.7345,
                    6.3599,
                    9.2556,
                    6.5857,
                    8.0174,
                    8.1055,
                    10.7409,
                    5.6577,
                    7.1473,
                    7.0758,
                    4.4645,
                    4.4374,
                    8.8132,
                    4.369,
                    10.1901,
                    8.9406,
                    6.9657,
                    6.3599,
                    9.2944,
                    7.0923,
                    8.1055,
                    5.1292,
                    4.143,
                    5.1222,
                    6.5517,
                    5.1222,
                    8.3818,
                    4.0474,
                    8.2783,
                    4.0474,
                    4.4238,
                    4.1879,
                    6.5857,
                    3.9148,
                    5.3129,
                    4.0936,
                    4.9942,
                    5.3129,
                    4.4374,
                    4.1909,
                    4.2124,
                    4.9942,
                    3.9298,
                    4.61,
                    4.1909
                  ],
                  "type": "scatter3d"
                }
              ],
              "layout": {
                "template": {
                  "data": {
                    "histogram2dcontour": [
                      {
                        "type": "histogram2dcontour",
                        "colorbar": {
                          "outlinewidth": 0,
                          "ticks": ""
                        },
                        "colorscale": [
                          [
                            0,
                            "#0d0887"
                          ],
                          [
                            0.1111111111111111,
                            "#46039f"
                          ],
                          [
                            0.2222222222222222,
                            "#7201a8"
                          ],
                          [
                            0.3333333333333333,
                            "#9c179e"
                          ],
                          [
                            0.4444444444444444,
                            "#bd3786"
                          ],
                          [
                            0.5555555555555556,
                            "#d8576b"
                          ],
                          [
                            0.6666666666666666,
                            "#ed7953"
                          ],
                          [
                            0.7777777777777778,
                            "#fb9f3a"
                          ],
                          [
                            0.8888888888888888,
                            "#fdca26"
                          ],
                          [
                            1,
                            "#f0f921"
                          ]
                        ]
                      }
                    ],
                    "choropleth": [
                      {
                        "type": "choropleth",
                        "colorbar": {
                          "outlinewidth": 0,
                          "ticks": ""
                        }
                      }
                    ],
                    "histogram2d": [
                      {
                        "type": "histogram2d",
                        "colorbar": {
                          "outlinewidth": 0,
                          "ticks": ""
                        },
                        "colorscale": [
                          [
                            0,
                            "#0d0887"
                          ],
                          [
                            0.1111111111111111,
                            "#46039f"
                          ],
                          [
                            0.2222222222222222,
                            "#7201a8"
                          ],
                          [
                            0.3333333333333333,
                            "#9c179e"
                          ],
                          [
                            0.4444444444444444,
                            "#bd3786"
                          ],
                          [
                            0.5555555555555556,
                            "#d8576b"
                          ],
                          [
                            0.6666666666666666,
                            "#ed7953"
                          ],
                          [
                            0.7777777777777778,
                            "#fb9f3a"
                          ],
                          [
                            0.8888888888888888,
                            "#fdca26"
                          ],
                          [
                            1,
                            "#f0f921"
                          ]
                        ]
                      }
                    ],
                    "heatmap": [
                      {
                        "type": "heatmap",
                        "colorbar": {
                          "outlinewidth": 0,
                          "ticks": ""
                        },
                        "colorscale": [
                          [
                            0,
                            "#0d0887"
                          ],
                          [
                            0.1111111111111111,
                            "#46039f"
                          ],
                          [
                            0.2222222222222222,
                            "#7201a8"
                          ],
                          [
                            0.3333333333333333,
                            "#9c179e"
                          ],
                          [
                            0.4444444444444444,
                            "#bd3786"
                          ],
                          [
                            0.5555555555555556,
                            "#d8576b"
                          ],
                          [
                            0.6666666666666666,
                            "#ed7953"
                          ],
                          [
                            0.7777777777777778,
                            "#fb9f3a"
                          ],
                          [
                            0.8888888888888888,
                            "#fdca26"
                          ],
                          [
                            1,
                            "#f0f921"
                          ]
                        ]
                      }
                    ],
                    "heatmapgl": [
                      {
                        "type": "heatmapgl",
                        "colorbar": {
                          "outlinewidth": 0,
                          "ticks": ""
                        },
                        "colorscale": [
                          [
                            0,
                            "#0d0887"
                          ],
                          [
                            0.1111111111111111,
                            "#46039f"
                          ],
                          [
                            0.2222222222222222,
                            "#7201a8"
                          ],
                          [
                            0.3333333333333333,
                            "#9c179e"
                          ],
                          [
                            0.4444444444444444,
                            "#bd3786"
                          ],
                          [
                            0.5555555555555556,
                            "#d8576b"
                          ],
                          [
                            0.6666666666666666,
                            "#ed7953"
                          ],
                          [
                            0.7777777777777778,
                            "#fb9f3a"
                          ],
                          [
                            0.8888888888888888,
                            "#fdca26"
                          ],
                          [
                            1,
                            "#f0f921"
                          ]
                        ]
                      }
                    ],
                    "contourcarpet": [
                      {
                        "type": "contourcarpet",
                        "colorbar": {
                          "outlinewidth": 0,
                          "ticks": ""
                        }
                      }
                    ],
                    "contour": [
                      {
                        "type": "contour",
                        "colorbar": {
                          "outlinewidth": 0,
                          "ticks": ""
                        },
                        "colorscale": [
                          [
                            0,
                            "#0d0887"
                          ],
                          [
                            0.1111111111111111,
                            "#46039f"
                          ],
                          [
                            0.2222222222222222,
                            "#7201a8"
                          ],
                          [
                            0.3333333333333333,
                            "#9c179e"
                          ],
                          [
                            0.4444444444444444,
                            "#bd3786"
                          ],
                          [
                            0.5555555555555556,
                            "#d8576b"
                          ],
                          [
                            0.6666666666666666,
                            "#ed7953"
                          ],
                          [
                            0.7777777777777778,
                            "#fb9f3a"
                          ],
                          [
                            0.8888888888888888,
                            "#fdca26"
                          ],
                          [
                            1,
                            "#f0f921"
                          ]
                        ]
                      }
                    ],
                    "surface": [
                      {
                        "type": "surface",
                        "colorbar": {
                          "outlinewidth": 0,
                          "ticks": ""
                        },
                        "colorscale": [
                          [
                            0,
                            "#0d0887"
                          ],
                          [
                            0.1111111111111111,
                            "#46039f"
                          ],
                          [
                            0.2222222222222222,
                            "#7201a8"
                          ],
                          [
                            0.3333333333333333,
                            "#9c179e"
                          ],
                          [
                            0.4444444444444444,
                            "#bd3786"
                          ],
                          [
                            0.5555555555555556,
                            "#d8576b"
                          ],
                          [
                            0.6666666666666666,
                            "#ed7953"
                          ],
                          [
                            0.7777777777777778,
                            "#fb9f3a"
                          ],
                          [
                            0.8888888888888888,
                            "#fdca26"
                          ],
                          [
                            1,
                            "#f0f921"
                          ]
                        ]
                      }
                    ],
                    "mesh3d": [
                      {
                        "type": "mesh3d",
                        "colorbar": {
                          "outlinewidth": 0,
                          "ticks": ""
                        }
                      }
                    ],
                    "scatter": [
                      {
                        "fillpattern": {
                          "fillmode": "overlay",
                          "size": 10,
                          "solidity": 0.2
                        },
                        "type": "scatter"
                      }
                    ],
                    "parcoords": [
                      {
                        "type": "parcoords",
                        "line": {
                          "colorbar": {
                            "outlinewidth": 0,
                            "ticks": ""
                          }
                        }
                      }
                    ],
                    "scatterpolargl": [
                      {
                        "type": "scatterpolargl",
                        "marker": {
                          "colorbar": {
                            "outlinewidth": 0,
                            "ticks": ""
                          }
                        }
                      }
                    ],
                    "bar": [
                      {
                        "error_x": {
                          "color": "#2a3f5f"
                        },
                        "error_y": {
                          "color": "#2a3f5f"
                        },
                        "marker": {
                          "line": {
                            "color": "#E5ECF6",
                            "width": 0.5
                          },
                          "pattern": {
                            "fillmode": "overlay",
                            "size": 10,
                            "solidity": 0.2
                          }
                        },
                        "type": "bar"
                      }
                    ],
                    "scattergeo": [
                      {
                        "type": "scattergeo",
                        "marker": {
                          "colorbar": {
                            "outlinewidth": 0,
                            "ticks": ""
                          }
                        }
                      }
                    ],
                    "scatterpolar": [
                      {
                        "type": "scatterpolar",
                        "marker": {
                          "colorbar": {
                            "outlinewidth": 0,
                            "ticks": ""
                          }
                        }
                      }
                    ],
                    "histogram": [
                      {
                        "marker": {
                          "pattern": {
                            "fillmode": "overlay",
                            "size": 10,
                            "solidity": 0.2
                          }
                        },
                        "type": "histogram"
                      }
                    ],
                    "scattergl": [
                      {
                        "type": "scattergl",
                        "marker": {
                          "colorbar": {
                            "outlinewidth": 0,
                            "ticks": ""
                          }
                        }
                      }
                    ],
                    "scatter3d": [
                      {
                        "type": "scatter3d",
                        "line": {
                          "colorbar": {
                            "outlinewidth": 0,
                            "ticks": ""
                          }
                        },
                        "marker": {
                          "colorbar": {
                            "outlinewidth": 0,
                            "ticks": ""
                          }
                        }
                      }
                    ],
                    "scattermapbox": [
                      {
                        "type": "scattermapbox",
                        "marker": {
                          "colorbar": {
                            "outlinewidth": 0,
                            "ticks": ""
                          }
                        }
                      }
                    ],
                    "scatterternary": [
                      {
                        "type": "scatterternary",
                        "marker": {
                          "colorbar": {
                            "outlinewidth": 0,
                            "ticks": ""
                          }
                        }
                      }
                    ],
                    "scattercarpet": [
                      {
                        "type": "scattercarpet",
                        "marker": {
                          "colorbar": {
                            "outlinewidth": 0,
                            "ticks": ""
                          }
                        }
                      }
                    ],
                    "carpet": [
                      {
                        "aaxis": {
                          "endlinecolor": "#2a3f5f",
                          "gridcolor": "white",
                          "linecolor": "white",
                          "minorgridcolor": "white",
                          "startlinecolor": "#2a3f5f"
                        },
                        "baxis": {
                          "endlinecolor": "#2a3f5f",
                          "gridcolor": "white",
                          "linecolor": "white",
                          "minorgridcolor": "white",
                          "startlinecolor": "#2a3f5f"
                        },
                        "type": "carpet"
                      }
                    ],
                    "table": [
                      {
                        "cells": {
                          "fill": {
                            "color": "#EBF0F8"
                          },
                          "line": {
                            "color": "white"
                          }
                        },
                        "header": {
                          "fill": {
                            "color": "#C8D4E3"
                          },
                          "line": {
                            "color": "white"
                          }
                        },
                        "type": "table"
                      }
                    ],
                    "barpolar": [
                      {
                        "marker": {
                          "line": {
                            "color": "#E5ECF6",
                            "width": 0.5
                          },
                          "pattern": {
                            "fillmode": "overlay",
                            "size": 10,
                            "solidity": 0.2
                          }
                        },
                        "type": "barpolar"
                      }
                    ],
                    "pie": [
                      {
                        "automargin": true,
                        "type": "pie"
                      }
                    ]
                  },
                  "layout": {
                    "autotypenumbers": "strict",
                    "colorway": [
                      "#636efa",
                      "#EF553B",
                      "#00cc96",
                      "#ab63fa",
                      "#FFA15A",
                      "#19d3f3",
                      "#FF6692",
                      "#B6E880",
                      "#FF97FF",
                      "#FECB52"
                    ],
                    "font": {
                      "color": "#2a3f5f"
                    },
                    "hovermode": "closest",
                    "hoverlabel": {
                      "align": "left"
                    },
                    "paper_bgcolor": "white",
                    "plot_bgcolor": "#E5ECF6",
                    "polar": {
                      "bgcolor": "#E5ECF6",
                      "angularaxis": {
                        "gridcolor": "white",
                        "linecolor": "white",
                        "ticks": ""
                      },
                      "radialaxis": {
                        "gridcolor": "white",
                        "linecolor": "white",
                        "ticks": ""
                      }
                    },
                    "ternary": {
                      "bgcolor": "#E5ECF6",
                      "aaxis": {
                        "gridcolor": "white",
                        "linecolor": "white",
                        "ticks": ""
                      },
                      "baxis": {
                        "gridcolor": "white",
                        "linecolor": "white",
                        "ticks": ""
                      },
                      "caxis": {
                        "gridcolor": "white",
                        "linecolor": "white",
                        "ticks": ""
                      }
                    },
                    "coloraxis": {
                      "colorbar": {
                        "outlinewidth": 0,
                        "ticks": ""
                      }
                    },
                    "colorscale": {
                      "sequential": [
                        [
                          0,
                          "#0d0887"
                        ],
                        [
                          0.1111111111111111,
                          "#46039f"
                        ],
                        [
                          0.2222222222222222,
                          "#7201a8"
                        ],
                        [
                          0.3333333333333333,
                          "#9c179e"
                        ],
                        [
                          0.4444444444444444,
                          "#bd3786"
                        ],
                        [
                          0.5555555555555556,
                          "#d8576b"
                        ],
                        [
                          0.6666666666666666,
                          "#ed7953"
                        ],
                        [
                          0.7777777777777778,
                          "#fb9f3a"
                        ],
                        [
                          0.8888888888888888,
                          "#fdca26"
                        ],
                        [
                          1,
                          "#f0f921"
                        ]
                      ],
                      "sequentialminus": [
                        [
                          0,
                          "#0d0887"
                        ],
                        [
                          0.1111111111111111,
                          "#46039f"
                        ],
                        [
                          0.2222222222222222,
                          "#7201a8"
                        ],
                        [
                          0.3333333333333333,
                          "#9c179e"
                        ],
                        [
                          0.4444444444444444,
                          "#bd3786"
                        ],
                        [
                          0.5555555555555556,
                          "#d8576b"
                        ],
                        [
                          0.6666666666666666,
                          "#ed7953"
                        ],
                        [
                          0.7777777777777778,
                          "#fb9f3a"
                        ],
                        [
                          0.8888888888888888,
                          "#fdca26"
                        ],
                        [
                          1,
                          "#f0f921"
                        ]
                      ],
                      "diverging": [
                        [
                          0,
                          "#8e0152"
                        ],
                        [
                          0.1,
                          "#c51b7d"
                        ],
                        [
                          0.2,
                          "#de77ae"
                        ],
                        [
                          0.3,
                          "#f1b6da"
                        ],
                        [
                          0.4,
                          "#fde0ef"
                        ],
                        [
                          0.5,
                          "#f7f7f7"
                        ],
                        [
                          0.6,
                          "#e6f5d0"
                        ],
                        [
                          0.7,
                          "#b8e186"
                        ],
                        [
                          0.8,
                          "#7fbc41"
                        ],
                        [
                          0.9,
                          "#4d9221"
                        ],
                        [
                          1,
                          "#276419"
                        ]
                      ]
                    },
                    "xaxis": {
                      "gridcolor": "white",
                      "linecolor": "white",
                      "ticks": "",
                      "title": {
                        "standoff": 15
                      },
                      "zerolinecolor": "white",
                      "automargin": true,
                      "zerolinewidth": 2
                    },
                    "yaxis": {
                      "gridcolor": "white",
                      "linecolor": "white",
                      "ticks": "",
                      "title": {
                        "standoff": 15
                      },
                      "zerolinecolor": "white",
                      "automargin": true,
                      "zerolinewidth": 2
                    },
                    "scene": {
                      "xaxis": {
                        "backgroundcolor": "#E5ECF6",
                        "gridcolor": "white",
                        "linecolor": "white",
                        "showbackground": true,
                        "ticks": "",
                        "zerolinecolor": "white",
                        "gridwidth": 2
                      },
                      "yaxis": {
                        "backgroundcolor": "#E5ECF6",
                        "gridcolor": "white",
                        "linecolor": "white",
                        "showbackground": true,
                        "ticks": "",
                        "zerolinecolor": "white",
                        "gridwidth": 2
                      },
                      "zaxis": {
                        "backgroundcolor": "#E5ECF6",
                        "gridcolor": "white",
                        "linecolor": "white",
                        "showbackground": true,
                        "ticks": "",
                        "zerolinecolor": "white",
                        "gridwidth": 2
                      }
                    },
                    "shapedefaults": {
                      "line": {
                        "color": "#2a3f5f"
                      }
                    },
                    "annotationdefaults": {
                      "arrowcolor": "#2a3f5f",
                      "arrowhead": 0,
                      "arrowwidth": 1
                    },
                    "geo": {
                      "bgcolor": "white",
                      "landcolor": "#E5ECF6",
                      "subunitcolor": "white",
                      "showland": true,
                      "showlakes": true,
                      "lakecolor": "white"
                    },
                    "title": {
                      "x": 0.05
                    },
                    "mapbox": {
                      "style": "light"
                    }
                  }
                },
                "scene": {
                  "domain": {
                    "x": [
                      0,
                      1
                    ],
                    "y": [
                      0,
                      1
                    ]
                  },
                  "xaxis": {
                    "title": {
                      "text": "support"
                    }
                  },
                  "yaxis": {
                    "title": {
                      "text": "confidence"
                    }
                  },
                  "zaxis": {
                    "title": {
                      "text": "lift"
                    }
                  }
                },
                "coloraxis": {
                  "colorbar": {
                    "title": {
                      "text": "antecedent support"
                    }
                  },
                  "colorscale": [
                    [
                      0,
                      "#0d0887"
                    ],
                    [
                      0.1111111111111111,
                      "#46039f"
                    ],
                    [
                      0.2222222222222222,
                      "#7201a8"
                    ],
                    [
                      0.3333333333333333,
                      "#9c179e"
                    ],
                    [
                      0.4444444444444444,
                      "#bd3786"
                    ],
                    [
                      0.5555555555555556,
                      "#d8576b"
                    ],
                    [
                      0.6666666666666666,
                      "#ed7953"
                    ],
                    [
                      0.7777777777777778,
                      "#fb9f3a"
                    ],
                    [
                      0.8888888888888888,
                      "#fdca26"
                    ],
                    [
                      1,
                      "#f0f921"
                    ]
                  ]
                },
                "legend": {
                  "tracegroupgap": 0
                },
                "title": {
                  "text": "3d Plot for Rule Mining"
                },
                "height": 800,
                "width": 900
              },
              "config": {
                "plotlyServerURL": "https://plot.ly"
              }
            },
            "text/html": [
              "<div>                            <div id=\"3b0b9ecd-8dfd-4415-afc5-d32232fa07d6\" class=\"plotly-graph-div\" style=\"height:800px; width:900px;\"></div>            <script type=\"text/javascript\">                require([\"plotly\"], function(Plotly) {                    window.PLOTLYENV=window.PLOTLYENV || {};                                    if (document.getElementById(\"3b0b9ecd-8dfd-4415-afc5-d32232fa07d6\")) {                    Plotly.newPlot(                        \"3b0b9ecd-8dfd-4415-afc5-d32232fa07d6\",                        [{\"customdata\":[[\"JUMBO BAG WOODLAND ANIMALS\",\"POSTAGE\"],[\"SET\\u002f6 RED SPOTTY PAPER PLATES\",\"SET\\u002f6 RED SPOTTY PAPER CUPS\"],[\"SET\\u002f6 RED SPOTTY PAPER CUPS\",\"SET\\u002f6 RED SPOTTY PAPER PLATES\"],[\"SET\\u002f6 RED SPOTTY PAPER PLATES\",\"SET\\u002f6 RED SPOTTY PAPER CUPS\"],[\"SET\\u002f6 RED SPOTTY PAPER CUPS\",\"SET\\u002f6 RED SPOTTY PAPER PLATES\"],[\"SET OF 9 BLACK SKULL BALLOONS\",\"POSTAGE\"],[\"PACK OF 6 SKULL PAPER CUPS\",\"POSTAGE\"],[\"SET\\u002f6 RED SPOTTY PAPER PLATES\",\"SET\\u002f6 RED SPOTTY PAPER CUPS\"],[\"SET\\u002f6 RED SPOTTY PAPER PLATES\",\"SET\\u002f6 RED SPOTTY PAPER CUPS\"],[\"TEA PARTY BIRTHDAY CARD\",\"POSTAGE\"],[\"STRAWBERRY LUNCH BOX WITH CUTLERY\",\"POSTAGE\"],[\"RED RETROSPOT PICNIC BAG\",\"POSTAGE\"],[\"CHILDRENS CUTLERY SPACEBOY \",\"CHILDRENS CUTLERY DOLLY GIRL \"],[\"SET OF 2 TEA TOWELS APPLE AND PEARS\",\"POSTAGE\"],[\"ASSORTED COLOUR MINI CASES\",\"POSTAGE\"],[\"LUNCH BAG APPLE DESIGN\",\"POSTAGE\"],[\"ALARM CLOCK BAKELIKE RED \",\"POSTAGE\"],[\"ROUND SNACK BOXES SET OF4 WOODLAND \",\"POSTAGE\"],[\"ALARM CLOCK BAKELIKE RED \",\"POSTAGE\"],[\"WOODLAND CHARLOTTE BAG\",\"POSTAGE\"],[\"ALARM CLOCK BAKELIKE RED \",\"POSTAGE\"],[\"SET\\u002f6 RED SPOTTY PAPER CUPS\",\"SET\\u002f6 RED SPOTTY PAPER PLATES\"],[\"ALARM CLOCK BAKELIKE PINK\",\"POSTAGE\"],[\"PAPER BUNTING RETROSPOT\",\"POSTAGE\"],[\"SET\\u002f6 RED SPOTTY PAPER CUPS\",\"SET\\u002f6 RED SPOTTY PAPER PLATES\"],[\"RABBIT NIGHT LIGHT\",\"POSTAGE\"],[\"ALARM CLOCK BAKELIKE RED \",\"ALARM CLOCK BAKELIKE GREEN\"],[\"ALARM CLOCK BAKELIKE GREEN\",\"ALARM CLOCK BAKELIKE RED \"],[\"CHILDRENS CUTLERY DOLLY GIRL \",\"CHILDRENS CUTLERY SPACEBOY \"],[\"RED TOADSTOOL LED NIGHT LIGHT\",\"POSTAGE\"],[\"ROUND SNACK BOXES SET OF 4 FRUITS \",\"POSTAGE\"],[\"COFFEE MUG APPLES DESIGN\",\"POSTAGE\"],[\"PLASTERS IN TIN CIRCUS PARADE \",\"POSTAGE\"],[\"SET\\u002f6 RED SPOTTY PAPER CUPS\",\"POSTAGE\"],[\"LUNCH BAG WOODLAND\",\"POSTAGE\"],[\"POSTAGE\",\"ALARM CLOCK BAKELIKE RED \"],[\"ALARM CLOCK BAKELIKE GREEN\",\"POSTAGE\"],[\"RED RETROSPOT CHARLOTTE BAG\",\"POSTAGE\"],[\"JUMBO BAG RED RETROSPOT\",\"POSTAGE\"],[\"SET\\u002f6 RED SPOTTY PAPER PLATES\",\"POSTAGE\"],[\"ALARM CLOCK BAKELIKE RED \",\"ALARM CLOCK BAKELIKE GREEN\"],[\"SET\\u002f10 RED POLKADOT PARTY CANDLES\",\"POSTAGE\"],[\"SET\\u002f6 RED SPOTTY PAPER PLATES\",\"POSTAGE\"],[\"ALARM CLOCK BAKELIKE GREEN\",\"POSTAGE\"],[\"SET\\u002f20 RED RETROSPOT PAPER NAPKINS \",\"POSTAGE\"],[\"SET\\u002f6 RED SPOTTY PAPER PLATES\",\"POSTAGE\"],[\"SET\\u002f6 RED SPOTTY PAPER CUPS\",\"POSTAGE\"],[\"PACK OF 72 RETROSPOT CAKE CASES\",\"POSTAGE\"],[\"PLASTERS IN TIN WOODLAND ANIMALS\",\"POSTAGE\"],[\"ALARM CLOCK BAKELIKE RED \",\"ALARM CLOCK BAKELIKE GREEN\"],[\"SET\\u002f6 RED SPOTTY PAPER PLATES\",\"POSTAGE\"],[\"LUNCH BAG APPLE DESIGN\",\"POSTAGE\"],[\"RED RETROSPOT MINI CASES\",\"POSTAGE\"],[\"PLASTERS IN TIN SPACEBOY\",\"POSTAGE\"],[\"SET\\u002f6 RED SPOTTY PAPER PLATES\",\"SET\\u002f20 RED RETROSPOT PAPER NAPKINS \"],[\"ALARM CLOCK BAKELIKE RED \",\"ALARM CLOCK BAKELIKE PINK\"],[\"PLASTERS IN TIN WOODLAND ANIMALS\",\"POSTAGE\"],[\"PLASTERS IN TIN SPACEBOY\",\"POSTAGE\"],[\"PLASTERS IN TIN SPACEBOY\",\"POSTAGE\"],[\"SET\\u002f6 RED SPOTTY PAPER CUPS\",\"SET\\u002f6 RED SPOTTY PAPER PLATES\"],[\"SET\\u002f6 RED SPOTTY PAPER PLATES\",\"SET\\u002f6 RED SPOTTY PAPER CUPS\"],[\"SET\\u002f6 RED SPOTTY PAPER PLATES\",\"SET\\u002f20 RED RETROSPOT PAPER NAPKINS \"],[\"SET\\u002f6 RED SPOTTY PAPER PLATES\",\"SET\\u002f20 RED RETROSPOT PAPER NAPKINS \"],[\"SET\\u002f6 RED SPOTTY PAPER PLATES\",\"SET\\u002f6 RED SPOTTY PAPER CUPS\"],[\"ALARM CLOCK BAKELIKE GREEN\",\"ALARM CLOCK BAKELIKE RED \"],[\"LUNCH BOX WITH CUTLERY RETROSPOT \",\"POSTAGE\"],[\"LUNCH BAG RED RETROSPOT\",\"POSTAGE\"],[\"SET\\u002f6 RED SPOTTY PAPER PLATES\",\"SET\\u002f20 RED RETROSPOT PAPER NAPKINS \"],[\"ALARM CLOCK BAKELIKE RED \",\"ALARM CLOCK BAKELIKE PINK\"],[\"PLASTERS IN TIN STRONGMAN\",\"POSTAGE\"],[\"MINI PAINT SET VINTAGE \",\"POSTAGE\"],[\"SET\\u002f6 RED SPOTTY PAPER PLATES\",\"SET\\u002f6 RED SPOTTY PAPER CUPS\"],[\"REGENCY CAKESTAND 3 TIER\",\"POSTAGE\"],[\"SPACEBOY LUNCH BOX \",\"POSTAGE\"],[\"SET\\u002f20 RED RETROSPOT PAPER NAPKINS \",\"SET\\u002f6 RED SPOTTY PAPER PLATES\"],[\"SET\\u002f20 RED RETROSPOT PAPER NAPKINS \",\"SET\\u002f6 RED SPOTTY PAPER CUPS\"],[\"POSTAGE\",\"SET\\u002f6 RED SPOTTY PAPER PLATES\"],[\"POSTAGE\",\"SET\\u002f6 RED SPOTTY PAPER CUPS\"],[\"ALARM CLOCK BAKELIKE RED \",\"ALARM CLOCK BAKELIKE PINK\"],[\"SET\\u002f6 RED SPOTTY PAPER PLATES\",\"SET\\u002f6 RED SPOTTY PAPER CUPS\"],[\"ALARM CLOCK BAKELIKE RED \",\"POSTAGE\"],[\"SET\\u002f20 RED RETROSPOT PAPER NAPKINS \",\"SET\\u002f6 RED SPOTTY PAPER PLATES\"],[\"PLASTERS IN TIN SPACEBOY\",\"PLASTERS IN TIN WOODLAND ANIMALS\"],[\"LUNCH BAG SPACEBOY DESIGN \",\"POSTAGE\"],[\"PLASTERS IN TIN SPACEBOY\",\"PLASTERS IN TIN WOODLAND ANIMALS\"],[\"POSTAGE\",\"SET\\u002f6 RED SPOTTY PAPER PLATES\"],[\"ALARM CLOCK BAKELIKE GREEN\",\"ALARM CLOCK BAKELIKE PINK\"],[\"POSTAGE\",\"ALARM CLOCK BAKELIKE RED \"],[\"SET\\u002f6 RED SPOTTY PAPER CUPS\",\"SET\\u002f20 RED RETROSPOT PAPER NAPKINS \"],[\"SET\\u002f6 RED SPOTTY PAPER CUPS\",\"SET\\u002f6 RED SPOTTY PAPER PLATES\"],[\"PLASTERS IN TIN SPACEBOY\",\"PLASTERS IN TIN WOODLAND ANIMALS\"],[\"POSTAGE\",\"ALARM CLOCK BAKELIKE PINK\"],[\"ALARM CLOCK BAKELIKE PINK\",\"ALARM CLOCK BAKELIKE GREEN\"],[\"ALARM CLOCK BAKELIKE PINK\",\"ALARM CLOCK BAKELIKE RED \"],[\"DOLLY GIRL LUNCH BOX\",\"POSTAGE\"],[\"SET\\u002f6 RED SPOTTY PAPER CUPS\",\"SET\\u002f6 RED SPOTTY PAPER PLATES\"],[\"ALARM CLOCK BAKELIKE GREEN\",\"ALARM CLOCK BAKELIKE RED \"],[\"SET\\u002f6 RED SPOTTY PAPER CUPS\",\"SET\\u002f20 RED RETROSPOT PAPER NAPKINS \"],[\"ALARM CLOCK BAKELIKE RED \",\"POSTAGE\"],[\"DOLLY GIRL LUNCH BOX\",\"SPACEBOY LUNCH BOX \"],[\"SET\\u002f6 RED SPOTTY PAPER CUPS\",\"SET\\u002f6 RED SPOTTY PAPER PLATES\"],[\"POSTAGE\",\"ALARM CLOCK BAKELIKE GREEN\"],[\"ALARM CLOCK BAKELIKE RED \",\"ALARM CLOCK BAKELIKE GREEN\"],[\"PLASTERS IN TIN WOODLAND ANIMALS\",\"PLASTERS IN TIN SPACEBOY\"],[\"SET\\u002f6 RED SPOTTY PAPER PLATES\",\"POSTAGE\"],[\"SET\\u002f6 RED SPOTTY PAPER PLATES\",\"POSTAGE\"],[\"PLASTERS IN TIN SPACEBOY\",\"PLASTERS IN TIN CIRCUS PARADE \"],[\"PLASTERS IN TIN SPACEBOY\",\"PLASTERS IN TIN CIRCUS PARADE \"],[\"ALARM CLOCK BAKELIKE PINK\",\"ALARM CLOCK BAKELIKE RED \"],[\"PLASTERS IN TIN SPACEBOY\",\"PLASTERS IN TIN CIRCUS PARADE \"],[\"ALARM CLOCK BAKELIKE GREEN\",\"ALARM CLOCK BAKELIKE RED \"],[\"SET\\u002f6 RED SPOTTY PAPER PLATES\",\"SET\\u002f6 RED SPOTTY PAPER CUPS\"],[\"SET\\u002f20 RED RETROSPOT PAPER NAPKINS \",\"SET\\u002f6 RED SPOTTY PAPER PLATES\"],[\"SET\\u002f20 RED RETROSPOT PAPER NAPKINS \",\"SET\\u002f6 RED SPOTTY PAPER CUPS\"],[\"ALARM CLOCK BAKELIKE PINK\",\"ALARM CLOCK BAKELIKE RED \"],[\"SET\\u002f20 RED RETROSPOT PAPER NAPKINS \",\"SET\\u002f6 RED SPOTTY PAPER PLATES\"],[\"ALARM CLOCK BAKELIKE GREEN\",\"POSTAGE\"],[\"PLASTERS IN TIN WOODLAND ANIMALS\",\"PLASTERS IN TIN SPACEBOY\"],[\"PLASTERS IN TIN WOODLAND ANIMALS\",\"PLASTERS IN TIN CIRCUS PARADE \"],[\"PLASTERS IN TIN WOODLAND ANIMALS\",\"PLASTERS IN TIN SPACEBOY\"],[\"SET\\u002f6 RED SPOTTY PAPER CUPS\",\"POSTAGE\"],[\"PLASTERS IN TIN SPACEBOY\",\"PLASTERS IN TIN WOODLAND ANIMALS\"],[\"ALARM CLOCK BAKELIKE PINK\",\"POSTAGE\"],[\"PLASTERS IN TIN WOODLAND ANIMALS\",\"PLASTERS IN TIN CIRCUS PARADE \"],[\"SET\\u002f6 RED SPOTTY PAPER CUPS\",\"SET\\u002f6 RED SPOTTY PAPER PLATES\"],[\"PLASTERS IN TIN CIRCUS PARADE \",\"PLASTERS IN TIN WOODLAND ANIMALS\"],[\"LUNCH BAG APPLE DESIGN\",\"LUNCH BAG RED RETROSPOT\"],[\"ROUND SNACK BOXES SET OF 4 FRUITS \",\"ROUND SNACK BOXES SET OF4 WOODLAND \"],[\"SPACEBOY LUNCH BOX \",\"DOLLY GIRL LUNCH BOX\"],[\"POSTAGE\",\"PLASTERS IN TIN WOODLAND ANIMALS\"],[\"LUNCH BAG WOODLAND\",\"LUNCH BAG SPACEBOY DESIGN \"],[\"LUNCH BAG SPACEBOY DESIGN \",\"LUNCH BAG RED RETROSPOT\"],[\"LUNCH BAG SPACEBOY DESIGN \",\"LUNCH BAG APPLE DESIGN\"],[\"LUNCH BAG SPACEBOY DESIGN \",\"LUNCH BAG WOODLAND\"],[\"PLASTERS IN TIN CIRCUS PARADE \",\"PLASTERS IN TIN SPACEBOY\"],[\"PLASTERS IN TIN SPACEBOY\",\"POSTAGE\"],[\"STRAWBERRY LUNCH BOX WITH CUTLERY\",\"LUNCH BOX WITH CUTLERY RETROSPOT \"],[\"LUNCH BAG APPLE DESIGN\",\"LUNCH BAG SPACEBOY DESIGN \"],[\"LUNCH BAG APPLE DESIGN\",\"LUNCH BAG RED RETROSPOT\"],[\"POSTAGE\",\"LUNCH BAG APPLE DESIGN\"],[\"POSTAGE\",\"PLASTERS IN TIN SPACEBOY\"]],\"hovertemplate\":\"support=%{x}\\u003cbr\\u003econfidence=%{y}\\u003cbr\\u003elift=%{z}\\u003cbr\\u003eantecedents=%{customdata[0]}\\u003cbr\\u003econsequents=%{customdata[1]}\\u003cbr\\u003eantecedent support=%{marker.color}\\u003cextra\\u003e\\u003c\\u002fextra\\u003e\",\"legendgroup\":\"\",\"marker\":{\"color\":[0.0651,0.0868,0.0868,0.0716,0.0716,0.0564,0.0542,0.1085,0.0911,0.0803,0.1041,0.0629,0.0586,0.0586,0.0586,0.0564,0.0803,0.1388,0.0672,0.0629,0.0629,0.1171,0.0868,0.0694,0.0998,0.1627,0.0629,0.0629,0.0629,0.1562,0.0933,0.0607,0.1475,0.1171,0.102,0.0716,0.0846,0.0824,0.0824,0.1085,0.0803,0.0651,0.1041,0.0629,0.1128,0.0868,0.0868,0.0868,0.0868,0.0738,0.0846,0.1085,0.1193,0.1193,0.1041,0.0672,0.1453,0.0781,0.0889,0.0868,0.0868,0.0868,0.1085,0.1085,0.0846,0.1236,0.1323,0.0911,0.0803,0.0694,0.0889,0.1085,0.1171,0.1063,0.1128,0.1128,0.0933,0.0933,0.0738,0.0911,0.0803,0.1128,0.0781,0.1041,0.1193,0.0933,0.0846,0.0759,0.1171,0.1171,0.0976,0.0716,0.0868,0.0868,0.0868,0.1171,0.0846,0.0998,0.0803,0.0868,0.0998,0.0759,0.0803,0.0868,0.1041,0.1085,0.0889,0.1193,0.0868,0.0976,0.0846,0.1085,0.1128,0.1128,0.0868,0.1128,0.0846,0.1453,0.1171,0.1171,0.1171,0.1193,0.0868,0.1453,0.1171,0.1475,0.0889,0.0933,0.1063,0.1258,0.102,0.1041,0.1041,0.1041,0.1475,0.1193,0.1041,0.1085,0.1085,0.1041,0.1258],\"coloraxis\":\"coloraxis\",\"opacity\":0.7,\"symbol\":\"circle\"},\"mode\":\"markers\",\"name\":\"\",\"scene\":\"scene\",\"showlegend\":false,\"x\":[0.0651,0.0846,0.0846,0.0694,0.0694,0.0542,0.0521,0.1041,0.0868,0.0759,0.0976,0.0586,0.0542,0.0542,0.0542,0.0521,0.0738,0.1258,0.0607,0.0564,0.0564,0.1041,0.0759,0.0607,0.0868,0.141,0.0542,0.0542,0.0542,0.1345,0.0803,0.0521,0.1258,0.0998,0.0868,0.0607,0.0716,0.0694,0.0694,0.0911,0.0672,0.0542,0.0868,0.0521,0.0933,0.0716,0.0716,0.0716,0.0716,0.0607,0.0694,0.0889,0.0976,0.0976,0.0846,0.0542,0.1171,0.0629,0.0716,0.0694,0.0694,0.0694,0.0868,0.0868,0.0672,0.0976,0.1041,0.0716,0.0629,0.0542,0.0694,0.0846,0.0911,0.0824,0.0868,0.0868,0.0716,0.0716,0.0564,0.0694,0.0607,0.0846,0.0586,0.0781,0.0889,0.0694,0.0629,0.0564,0.0868,0.0868,0.0716,0.0521,0.0629,0.0629,0.0629,0.0846,0.0607,0.0716,0.0564,0.0607,0.0694,0.0521,0.0542,0.0586,0.0694,0.0716,0.0586,0.0781,0.0564,0.0629,0.0542,0.0694,0.0716,0.0716,0.0542,0.0694,0.0521,0.0889,0.0716,0.0716,0.0716,0.0716,0.0521,0.0868,0.0694,0.0868,0.0521,0.0542,0.0607,0.0716,0.0564,0.0564,0.0564,0.0564,0.0781,0.0629,0.0542,0.0564,0.0564,0.0521,0.0629],\"y\":[1.0,0.975,0.975,0.9697,0.9697,0.9615,0.96,0.96,0.9524,0.9459,0.9375,0.931,0.9259,0.9259,0.9259,0.9231,0.9189,0.9063,0.9032,0.8966,0.8966,0.8889,0.875,0.875,0.8696,0.8667,0.8621,0.8621,0.8621,0.8611,0.8605,0.8571,0.8529,0.8519,0.8511,0.8485,0.8462,0.8421,0.8421,0.84,0.8378,0.8333,0.8333,0.8276,0.8269,0.825,0.825,0.825,0.825,0.8235,0.8205,0.82,0.8182,0.8182,0.8125,0.8065,0.806,0.8056,0.8049,0.8,0.8,0.8,0.8,0.8,0.7949,0.7895,0.7869,0.7857,0.7838,0.7812,0.7805,0.78,0.7778,0.7755,0.7692,0.7692,0.7674,0.7674,0.7647,0.7619,0.7568,0.75,0.75,0.75,0.7455,0.7442,0.7436,0.7429,0.7407,0.7407,0.7333,0.7273,0.725,0.725,0.725,0.7222,0.7179,0.7174,0.7027,0.7,0.6957,0.6857,0.6757,0.675,0.6667,0.66,0.6585,0.6545,0.65,0.6444,0.641,0.64,0.6346,0.6346,0.625,0.6154,0.6154,0.6119,0.6111,0.6111,0.6111,0.6,0.6,0.597,0.5926,0.5882,0.5854,0.5814,0.5714,0.569,0.5532,0.5417,0.5417,0.5417,0.5294,0.5273,0.5208,0.52,0.52,0.5,0.5],\"z\":[1.4823,8.3236,8.9895,8.2783,8.9406,1.4253,1.423,8.1956,8.1305,1.4022,1.3897,1.3801,14.719,1.3725,1.3725,1.3683,1.3621,1.3433,1.3389,1.329,1.329,8.1956,1.297,1.297,8.0174,1.2847,10.1901,10.7409,14.719,1.2764,1.2755,1.2706,1.2643,1.2627,1.2615,10.5717,1.2543,1.2483,1.2483,1.2451,9.9037,1.2353,1.2353,1.2267,1.2258,1.2229,1.2229,1.2229,1.2229,9.7345,1.2163,1.2155,1.2128,1.2128,7.2031,9.2944,1.1947,1.1941,1.1931,8.781,8.0174,7.0923,7.0923,8.0174,9.9037,1.1702,1.1664,6.9657,9.0331,1.1581,1.1569,8.9895,1.1529,1.1496,7.0923,6.567,7.0758,6.5517,8.8132,8.781,10.5717,7.2031,5.1604,1.1117,5.1292,7.1473,8.5699,9.2556,6.567,8.1305,5.0458,8.3818,8.5699,9.0331,1.0747,8.3236,9.7345,6.3599,9.2556,6.5857,8.0174,8.1055,10.7409,5.6577,7.1473,7.0758,4.4645,4.4374,8.8132,4.369,10.1901,8.9406,6.9657,6.3599,9.2944,7.0923,8.1055,5.1292,4.143,5.1222,6.5517,5.1222,8.3818,4.0474,8.2783,4.0474,4.4238,4.1879,6.5857,3.9148,5.3129,4.0936,4.9942,5.3129,4.4374,4.1909,4.2124,4.9942,3.9298,4.61,4.1909],\"type\":\"scatter3d\"}],                        {\"template\":{\"data\":{\"histogram2dcontour\":[{\"type\":\"histogram2dcontour\",\"colorbar\":{\"outlinewidth\":0,\"ticks\":\"\"},\"colorscale\":[[0.0,\"#0d0887\"],[0.1111111111111111,\"#46039f\"],[0.2222222222222222,\"#7201a8\"],[0.3333333333333333,\"#9c179e\"],[0.4444444444444444,\"#bd3786\"],[0.5555555555555556,\"#d8576b\"],[0.6666666666666666,\"#ed7953\"],[0.7777777777777778,\"#fb9f3a\"],[0.8888888888888888,\"#fdca26\"],[1.0,\"#f0f921\"]]}],\"choropleth\":[{\"type\":\"choropleth\",\"colorbar\":{\"outlinewidth\":0,\"ticks\":\"\"}}],\"histogram2d\":[{\"type\":\"histogram2d\",\"colorbar\":{\"outlinewidth\":0,\"ticks\":\"\"},\"colorscale\":[[0.0,\"#0d0887\"],[0.1111111111111111,\"#46039f\"],[0.2222222222222222,\"#7201a8\"],[0.3333333333333333,\"#9c179e\"],[0.4444444444444444,\"#bd3786\"],[0.5555555555555556,\"#d8576b\"],[0.6666666666666666,\"#ed7953\"],[0.7777777777777778,\"#fb9f3a\"],[0.8888888888888888,\"#fdca26\"],[1.0,\"#f0f921\"]]}],\"heatmap\":[{\"type\":\"heatmap\",\"colorbar\":{\"outlinewidth\":0,\"ticks\":\"\"},\"colorscale\":[[0.0,\"#0d0887\"],[0.1111111111111111,\"#46039f\"],[0.2222222222222222,\"#7201a8\"],[0.3333333333333333,\"#9c179e\"],[0.4444444444444444,\"#bd3786\"],[0.5555555555555556,\"#d8576b\"],[0.6666666666666666,\"#ed7953\"],[0.7777777777777778,\"#fb9f3a\"],[0.8888888888888888,\"#fdca26\"],[1.0,\"#f0f921\"]]}],\"heatmapgl\":[{\"type\":\"heatmapgl\",\"colorbar\":{\"outlinewidth\":0,\"ticks\":\"\"},\"colorscale\":[[0.0,\"#0d0887\"],[0.1111111111111111,\"#46039f\"],[0.2222222222222222,\"#7201a8\"],[0.3333333333333333,\"#9c179e\"],[0.4444444444444444,\"#bd3786\"],[0.5555555555555556,\"#d8576b\"],[0.6666666666666666,\"#ed7953\"],[0.7777777777777778,\"#fb9f3a\"],[0.8888888888888888,\"#fdca26\"],[1.0,\"#f0f921\"]]}],\"contourcarpet\":[{\"type\":\"contourcarpet\",\"colorbar\":{\"outlinewidth\":0,\"ticks\":\"\"}}],\"contour\":[{\"type\":\"contour\",\"colorbar\":{\"outlinewidth\":0,\"ticks\":\"\"},\"colorscale\":[[0.0,\"#0d0887\"],[0.1111111111111111,\"#46039f\"],[0.2222222222222222,\"#7201a8\"],[0.3333333333333333,\"#9c179e\"],[0.4444444444444444,\"#bd3786\"],[0.5555555555555556,\"#d8576b\"],[0.6666666666666666,\"#ed7953\"],[0.7777777777777778,\"#fb9f3a\"],[0.8888888888888888,\"#fdca26\"],[1.0,\"#f0f921\"]]}],\"surface\":[{\"type\":\"surface\",\"colorbar\":{\"outlinewidth\":0,\"ticks\":\"\"},\"colorscale\":[[0.0,\"#0d0887\"],[0.1111111111111111,\"#46039f\"],[0.2222222222222222,\"#7201a8\"],[0.3333333333333333,\"#9c179e\"],[0.4444444444444444,\"#bd3786\"],[0.5555555555555556,\"#d8576b\"],[0.6666666666666666,\"#ed7953\"],[0.7777777777777778,\"#fb9f3a\"],[0.8888888888888888,\"#fdca26\"],[1.0,\"#f0f921\"]]}],\"mesh3d\":[{\"type\":\"mesh3d\",\"colorbar\":{\"outlinewidth\":0,\"ticks\":\"\"}}],\"scatter\":[{\"fillpattern\":{\"fillmode\":\"overlay\",\"size\":10,\"solidity\":0.2},\"type\":\"scatter\"}],\"parcoords\":[{\"type\":\"parcoords\",\"line\":{\"colorbar\":{\"outlinewidth\":0,\"ticks\":\"\"}}}],\"scatterpolargl\":[{\"type\":\"scatterpolargl\",\"marker\":{\"colorbar\":{\"outlinewidth\":0,\"ticks\":\"\"}}}],\"bar\":[{\"error_x\":{\"color\":\"#2a3f5f\"},\"error_y\":{\"color\":\"#2a3f5f\"},\"marker\":{\"line\":{\"color\":\"#E5ECF6\",\"width\":0.5},\"pattern\":{\"fillmode\":\"overlay\",\"size\":10,\"solidity\":0.2}},\"type\":\"bar\"}],\"scattergeo\":[{\"type\":\"scattergeo\",\"marker\":{\"colorbar\":{\"outlinewidth\":0,\"ticks\":\"\"}}}],\"scatterpolar\":[{\"type\":\"scatterpolar\",\"marker\":{\"colorbar\":{\"outlinewidth\":0,\"ticks\":\"\"}}}],\"histogram\":[{\"marker\":{\"pattern\":{\"fillmode\":\"overlay\",\"size\":10,\"solidity\":0.2}},\"type\":\"histogram\"}],\"scattergl\":[{\"type\":\"scattergl\",\"marker\":{\"colorbar\":{\"outlinewidth\":0,\"ticks\":\"\"}}}],\"scatter3d\":[{\"type\":\"scatter3d\",\"line\":{\"colorbar\":{\"outlinewidth\":0,\"ticks\":\"\"}},\"marker\":{\"colorbar\":{\"outlinewidth\":0,\"ticks\":\"\"}}}],\"scattermapbox\":[{\"type\":\"scattermapbox\",\"marker\":{\"colorbar\":{\"outlinewidth\":0,\"ticks\":\"\"}}}],\"scatterternary\":[{\"type\":\"scatterternary\",\"marker\":{\"colorbar\":{\"outlinewidth\":0,\"ticks\":\"\"}}}],\"scattercarpet\":[{\"type\":\"scattercarpet\",\"marker\":{\"colorbar\":{\"outlinewidth\":0,\"ticks\":\"\"}}}],\"carpet\":[{\"aaxis\":{\"endlinecolor\":\"#2a3f5f\",\"gridcolor\":\"white\",\"linecolor\":\"white\",\"minorgridcolor\":\"white\",\"startlinecolor\":\"#2a3f5f\"},\"baxis\":{\"endlinecolor\":\"#2a3f5f\",\"gridcolor\":\"white\",\"linecolor\":\"white\",\"minorgridcolor\":\"white\",\"startlinecolor\":\"#2a3f5f\"},\"type\":\"carpet\"}],\"table\":[{\"cells\":{\"fill\":{\"color\":\"#EBF0F8\"},\"line\":{\"color\":\"white\"}},\"header\":{\"fill\":{\"color\":\"#C8D4E3\"},\"line\":{\"color\":\"white\"}},\"type\":\"table\"}],\"barpolar\":[{\"marker\":{\"line\":{\"color\":\"#E5ECF6\",\"width\":0.5},\"pattern\":{\"fillmode\":\"overlay\",\"size\":10,\"solidity\":0.2}},\"type\":\"barpolar\"}],\"pie\":[{\"automargin\":true,\"type\":\"pie\"}]},\"layout\":{\"autotypenumbers\":\"strict\",\"colorway\":[\"#636efa\",\"#EF553B\",\"#00cc96\",\"#ab63fa\",\"#FFA15A\",\"#19d3f3\",\"#FF6692\",\"#B6E880\",\"#FF97FF\",\"#FECB52\"],\"font\":{\"color\":\"#2a3f5f\"},\"hovermode\":\"closest\",\"hoverlabel\":{\"align\":\"left\"},\"paper_bgcolor\":\"white\",\"plot_bgcolor\":\"#E5ECF6\",\"polar\":{\"bgcolor\":\"#E5ECF6\",\"angularaxis\":{\"gridcolor\":\"white\",\"linecolor\":\"white\",\"ticks\":\"\"},\"radialaxis\":{\"gridcolor\":\"white\",\"linecolor\":\"white\",\"ticks\":\"\"}},\"ternary\":{\"bgcolor\":\"#E5ECF6\",\"aaxis\":{\"gridcolor\":\"white\",\"linecolor\":\"white\",\"ticks\":\"\"},\"baxis\":{\"gridcolor\":\"white\",\"linecolor\":\"white\",\"ticks\":\"\"},\"caxis\":{\"gridcolor\":\"white\",\"linecolor\":\"white\",\"ticks\":\"\"}},\"coloraxis\":{\"colorbar\":{\"outlinewidth\":0,\"ticks\":\"\"}},\"colorscale\":{\"sequential\":[[0.0,\"#0d0887\"],[0.1111111111111111,\"#46039f\"],[0.2222222222222222,\"#7201a8\"],[0.3333333333333333,\"#9c179e\"],[0.4444444444444444,\"#bd3786\"],[0.5555555555555556,\"#d8576b\"],[0.6666666666666666,\"#ed7953\"],[0.7777777777777778,\"#fb9f3a\"],[0.8888888888888888,\"#fdca26\"],[1.0,\"#f0f921\"]],\"sequentialminus\":[[0.0,\"#0d0887\"],[0.1111111111111111,\"#46039f\"],[0.2222222222222222,\"#7201a8\"],[0.3333333333333333,\"#9c179e\"],[0.4444444444444444,\"#bd3786\"],[0.5555555555555556,\"#d8576b\"],[0.6666666666666666,\"#ed7953\"],[0.7777777777777778,\"#fb9f3a\"],[0.8888888888888888,\"#fdca26\"],[1.0,\"#f0f921\"]],\"diverging\":[[0,\"#8e0152\"],[0.1,\"#c51b7d\"],[0.2,\"#de77ae\"],[0.3,\"#f1b6da\"],[0.4,\"#fde0ef\"],[0.5,\"#f7f7f7\"],[0.6,\"#e6f5d0\"],[0.7,\"#b8e186\"],[0.8,\"#7fbc41\"],[0.9,\"#4d9221\"],[1,\"#276419\"]]},\"xaxis\":{\"gridcolor\":\"white\",\"linecolor\":\"white\",\"ticks\":\"\",\"title\":{\"standoff\":15},\"zerolinecolor\":\"white\",\"automargin\":true,\"zerolinewidth\":2},\"yaxis\":{\"gridcolor\":\"white\",\"linecolor\":\"white\",\"ticks\":\"\",\"title\":{\"standoff\":15},\"zerolinecolor\":\"white\",\"automargin\":true,\"zerolinewidth\":2},\"scene\":{\"xaxis\":{\"backgroundcolor\":\"#E5ECF6\",\"gridcolor\":\"white\",\"linecolor\":\"white\",\"showbackground\":true,\"ticks\":\"\",\"zerolinecolor\":\"white\",\"gridwidth\":2},\"yaxis\":{\"backgroundcolor\":\"#E5ECF6\",\"gridcolor\":\"white\",\"linecolor\":\"white\",\"showbackground\":true,\"ticks\":\"\",\"zerolinecolor\":\"white\",\"gridwidth\":2},\"zaxis\":{\"backgroundcolor\":\"#E5ECF6\",\"gridcolor\":\"white\",\"linecolor\":\"white\",\"showbackground\":true,\"ticks\":\"\",\"zerolinecolor\":\"white\",\"gridwidth\":2}},\"shapedefaults\":{\"line\":{\"color\":\"#2a3f5f\"}},\"annotationdefaults\":{\"arrowcolor\":\"#2a3f5f\",\"arrowhead\":0,\"arrowwidth\":1},\"geo\":{\"bgcolor\":\"white\",\"landcolor\":\"#E5ECF6\",\"subunitcolor\":\"white\",\"showland\":true,\"showlakes\":true,\"lakecolor\":\"white\"},\"title\":{\"x\":0.05},\"mapbox\":{\"style\":\"light\"}}},\"scene\":{\"domain\":{\"x\":[0.0,1.0],\"y\":[0.0,1.0]},\"xaxis\":{\"title\":{\"text\":\"support\"}},\"yaxis\":{\"title\":{\"text\":\"confidence\"}},\"zaxis\":{\"title\":{\"text\":\"lift\"}}},\"coloraxis\":{\"colorbar\":{\"title\":{\"text\":\"antecedent support\"}},\"colorscale\":[[0.0,\"#0d0887\"],[0.1111111111111111,\"#46039f\"],[0.2222222222222222,\"#7201a8\"],[0.3333333333333333,\"#9c179e\"],[0.4444444444444444,\"#bd3786\"],[0.5555555555555556,\"#d8576b\"],[0.6666666666666666,\"#ed7953\"],[0.7777777777777778,\"#fb9f3a\"],[0.8888888888888888,\"#fdca26\"],[1.0,\"#f0f921\"]]},\"legend\":{\"tracegroupgap\":0},\"title\":{\"text\":\"3d Plot for Rule Mining\"},\"height\":800,\"width\":900},                        {\"responsive\": true}                    ).then(function(){\n",
              "                            \n",
              "var gd = document.getElementById('3b0b9ecd-8dfd-4415-afc5-d32232fa07d6');\n",
              "var x = new MutationObserver(function (mutations, observer) {{\n",
              "        var display = window.getComputedStyle(gd).display;\n",
              "        if (!display || display === 'none') {{\n",
              "            console.log([gd, 'removed!']);\n",
              "            Plotly.purge(gd);\n",
              "            observer.disconnect();\n",
              "        }}\n",
              "}});\n",
              "\n",
              "// Listen for the removal of the full notebook cells\n",
              "var notebookContainer = gd.closest('#notebook-container');\n",
              "if (notebookContainer) {{\n",
              "    x.observe(notebookContainer, {childList: true});\n",
              "}}\n",
              "\n",
              "// Listen for the clearing of the current output cell\n",
              "var outputEl = gd.closest('.output');\n",
              "if (outputEl) {{\n",
              "    x.observe(outputEl, {childList: true});\n",
              "}}\n",
              "\n",
              "                        })                };                });            </script>        </div>"
            ]
          },
          "metadata": {}
        }
      ]
    },
    {
      "cell_type": "code",
      "source": [
        "import matplotlib.pyplot as plt\n",
        "from mpl_toolkits.mplot3d import Axes3D\n",
        "import pandas as pd\n",
        "\n",
        "rules = a1\n",
        "if 'support' in rules.columns and 'confidence' in rules.columns and 'lift' in rules.columns:\n",
        "    fig = plt.figure()\n",
        "    ax = fig.add_subplot(111, projection='3d')\n",
        "\n",
        "    ax.scatter(rules['support'], rules['confidence'], rules['lift'], alpha=0.6)\n",
        "\n",
        "    ax.set_xlabel('Support')\n",
        "    ax.set_ylabel('Confidence')\n",
        "    ax.set_zlabel('Lift')\n",
        "\n",
        "    plt.title('3D Scatter Plot of Association Rules')\n",
        "    plt.show()\n",
        "else:\n",
        "    print(\"Model does not contain necessary columns for plotting.\")\n"
      ],
      "metadata": {
        "colab": {
          "base_uri": "https://localhost:8080/",
          "height": 528
        },
        "id": "I4x8wEVBU545",
        "outputId": "dde7d13f-b96d-40b5-e479-69c19807707f"
      },
      "execution_count": 14,
      "outputs": [
        {
          "output_type": "stream",
          "name": "stderr",
          "text": [
            "/usr/local/lib/python3.10/dist-packages/ipykernel/ipkernel.py:283: DeprecationWarning:\n",
            "\n",
            "`should_run_async` will not call `transform_cell` automatically in the future. Please pass the result to `transformed_cell` argument and any exception that happen during thetransform in `preprocessing_exc_tuple` in IPython 7.17 and above.\n",
            "\n"
          ]
        },
        {
          "output_type": "display_data",
          "data": {
            "text/plain": [
              "<Figure size 640x480 with 1 Axes>"
            ],
            "image/png": "[encoded data removed]"
          },
          "metadata": {}
        }
      ]
    },
    {
      "cell_type": "code",
      "source": [],
      "metadata": {
        "id": "NQfITFmSVEfi"
      },
      "execution_count": null,
      "outputs": []
    }
  ]
}